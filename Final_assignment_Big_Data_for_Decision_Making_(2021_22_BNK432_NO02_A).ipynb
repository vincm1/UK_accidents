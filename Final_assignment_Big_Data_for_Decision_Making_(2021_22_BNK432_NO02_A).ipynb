{
  "nbformat": 4,
  "nbformat_minor": 0,
  "metadata": {
    "colab": {
      "name": "Final assignment - Big Data for Decision Making (2021-22 BNK432_NO02_A).ipynb",
      "provenance": [],
      "collapsed_sections": [],
      "authorship_tag": "ABX9TyNLJf5z42pMw5EDcLLtWwnv",
      "include_colab_link": true
    },
    "kernelspec": {
      "name": "python3",
      "display_name": "Python 3"
    },
    "language_info": {
      "name": "python"
    }
  },
  "cells": [
    {
      "cell_type": "markdown",
      "metadata": {
        "id": "view-in-github",
        "colab_type": "text"
      },
      "source": [
        "<a href=\"https://colab.research.google.com/github/vincm1/UK_accidents/blob/main/Final_assignment_Big_Data_for_Decision_Making_(2021_22_BNK432_NO02_A).ipynb\" target=\"_parent\"><img src=\"https://colab.research.google.com/assets/colab-badge.svg\" alt=\"Open In Colab\"/></a>"
      ]
    },
    {
      "cell_type": "markdown",
      "source": [
        "### Final assignment - Big Data for Decision Making (2021-22 BNK432_NO02_A)"
      ],
      "metadata": {
        "id": "tmKBU5uISYeF"
      }
    },
    {
      "cell_type": "code",
      "execution_count": 186,
      "metadata": {
        "colab": {
          "base_uri": "https://localhost:8080/",
          "height": 17
        },
        "id": "A_pIXHp_SUaI",
        "outputId": "10f3c33c-018f-43f4-8f47-fcc1b83d27e2"
      },
      "outputs": [
        {
          "output_type": "display_data",
          "data": {
            "application/javascript": [
              "var nb = IPython.notebook;\n",
              "var kernel = IPython.notebook.kernel;\n",
              "var command = \"NOTEBOOK_FULL_PATH = '\" + nb.notebook_path + \"'\";\n",
              "kernel.execute(command);"
            ],
            "text/plain": [
              "<IPython.core.display.Javascript object>"
            ]
          },
          "metadata": {}
        }
      ],
      "source": [
        "%%javascript\n",
        "var nb = IPython.notebook;\n",
        "var kernel = IPython.notebook.kernel;\n",
        "var command = \"NOTEBOOK_FULL_PATH = '\" + nb.notebook_path + \"'\";\n",
        "kernel.execute(command);"
      ]
    },
    {
      "cell_type": "code",
      "source": [
        "import datetime\n",
        "import pandas as pd\n",
        "import numpy as np\n",
        "import matplotlib.pyplot as plt \n",
        "import seaborn as sns\n",
        "\n",
        "from sklearn.preprocessing import OneHotEncoder\n",
        "from sklearn.model_selection import train_test_split\n",
        "\n",
        "import warnings\n",
        "warnings.filterwarnings(\"ignore\")"
      ],
      "metadata": {
        "id": "XrkCrvD4Snnj"
      },
      "execution_count": 219,
      "outputs": []
    },
    {
      "cell_type": "code",
      "source": [
        "df = pd.read_csv(\"UK Road Accidents 2018.csv\")\n",
        "df.head()"
      ],
      "metadata": {
        "colab": {
          "base_uri": "https://localhost:8080/",
          "height": 206
        },
        "id": "tLmESINcSqgr",
        "outputId": "35c54f82-a8cb-4fda-b2df-2a76518c7153"
      },
      "execution_count": 188,
      "outputs": [
        {
          "output_type": "execute_result",
          "data": {
            "text/html": [
              "<div>\n",
              "<style scoped>\n",
              "    .dataframe tbody tr th:only-of-type {\n",
              "        vertical-align: middle;\n",
              "    }\n",
              "\n",
              "    .dataframe tbody tr th {\n",
              "        vertical-align: top;\n",
              "    }\n",
              "\n",
              "    .dataframe thead th {\n",
              "        text-align: right;\n",
              "    }\n",
              "</style>\n",
              "<table border=\"1\" class=\"dataframe\">\n",
              "  <thead>\n",
              "    <tr style=\"text-align: right;\">\n",
              "      <th></th>\n",
              "      <th>datetime</th>\n",
              "      <th>Count</th>\n",
              "      <th>Day_of_Week</th>\n",
              "      <th>Precipitation</th>\n",
              "      <th>High_Winds</th>\n",
              "      <th>Road_Surface_Conditions</th>\n",
              "      <th>Light_Conditions</th>\n",
              "      <th>Urban_or_Rural_Area</th>\n",
              "    </tr>\n",
              "  </thead>\n",
              "  <tbody>\n",
              "    <tr>\n",
              "      <th>0</th>\n",
              "      <td>2018-01-01 00:00:00</td>\n",
              "      <td>18</td>\n",
              "      <td>Monday</td>\n",
              "      <td>Fine</td>\n",
              "      <td>False</td>\n",
              "      <td>Dry</td>\n",
              "      <td>Darkness - lights lit</td>\n",
              "      <td>Urban</td>\n",
              "    </tr>\n",
              "    <tr>\n",
              "      <th>1</th>\n",
              "      <td>2018-01-01 01:00:00</td>\n",
              "      <td>9</td>\n",
              "      <td>Monday</td>\n",
              "      <td>Fine</td>\n",
              "      <td>False</td>\n",
              "      <td>Wet or damp</td>\n",
              "      <td>Darkness - lights lit</td>\n",
              "      <td>Urban</td>\n",
              "    </tr>\n",
              "    <tr>\n",
              "      <th>2</th>\n",
              "      <td>2018-01-01 02:00:00</td>\n",
              "      <td>14</td>\n",
              "      <td>Monday</td>\n",
              "      <td>Fine</td>\n",
              "      <td>False</td>\n",
              "      <td>Wet or damp</td>\n",
              "      <td>Darkness - lights lit</td>\n",
              "      <td>Urban</td>\n",
              "    </tr>\n",
              "    <tr>\n",
              "      <th>3</th>\n",
              "      <td>2018-01-01 03:00:00</td>\n",
              "      <td>10</td>\n",
              "      <td>Monday</td>\n",
              "      <td>Fine</td>\n",
              "      <td>False</td>\n",
              "      <td>Wet or damp</td>\n",
              "      <td>Darkness - lights lit</td>\n",
              "      <td>Urban</td>\n",
              "    </tr>\n",
              "    <tr>\n",
              "      <th>4</th>\n",
              "      <td>2018-01-01 04:00:00</td>\n",
              "      <td>8</td>\n",
              "      <td>Monday</td>\n",
              "      <td>Fine</td>\n",
              "      <td>False</td>\n",
              "      <td>Dry</td>\n",
              "      <td>Darkness - lights lit</td>\n",
              "      <td>Urban</td>\n",
              "    </tr>\n",
              "  </tbody>\n",
              "</table>\n",
              "</div>"
            ],
            "text/plain": [
              "              datetime  Count  ...       Light_Conditions Urban_or_Rural_Area\n",
              "0  2018-01-01 00:00:00     18  ...  Darkness - lights lit               Urban\n",
              "1  2018-01-01 01:00:00      9  ...  Darkness - lights lit               Urban\n",
              "2  2018-01-01 02:00:00     14  ...  Darkness - lights lit               Urban\n",
              "3  2018-01-01 03:00:00     10  ...  Darkness - lights lit               Urban\n",
              "4  2018-01-01 04:00:00      8  ...  Darkness - lights lit               Urban\n",
              "\n",
              "[5 rows x 8 columns]"
            ]
          },
          "metadata": {},
          "execution_count": 188
        }
      ]
    },
    {
      "cell_type": "markdown",
      "source": [
        "## 1) **Business** **objective**"
      ],
      "metadata": {
        "id": "cAby8FLVTDvL"
      }
    },
    {
      "cell_type": "markdown",
      "source": [
        "The above seen data set is published by the UK Department for Transport and is published sinced 1978. For this report, a snippet of the data is taken and handles all road accidents that happened in 2018 on an hourly level. The data contains information about the hour as well as the count of how many accidents happened on UK's streets. Furthermore, it shows which day of the week it has been, the condition of precipitation within that time as well as whether there was high wind. Moreover, the dataset contains information about the road surface conditions, light conditions and in what kind of area the accidents in that hour happened.\n",
        "\n",
        "The goal of this report is to forecast the number of hourly accidents occuring on UK streets for Britannia Rescue in order to help its rescourcing planning by an appropriate model.\n",
        "\n",
        "To predict the numbers the following report structure will be included. First, the data will explored and preprocessed. Secondly, the features are selected and a baseline model will be drawn. Thirdly, models will be trained, hyperparameters tuned and thereby evaluated, which model shows the best performance for predicting road accidents for the client. To sum up, the results will be discussed and further steps will be introduced."
      ],
      "metadata": {
        "id": "ti6c5dOlTQzR"
      }
    },
    {
      "cell_type": "markdown",
      "source": [
        "### Data inspection "
      ],
      "metadata": {
        "id": "fOCjSW6iTUPW"
      }
    },
    {
      "cell_type": "code",
      "source": [
        "df.columns"
      ],
      "metadata": {
        "colab": {
          "base_uri": "https://localhost:8080/"
        },
        "id": "So-i0LhhTCbq",
        "outputId": "16b206d8-a1e5-42f0-afb2-6179219f617f"
      },
      "execution_count": 190,
      "outputs": [
        {
          "output_type": "execute_result",
          "data": {
            "text/plain": [
              "Index(['datetime', 'Count', 'Day_of_Week', 'Precipitation', 'High_Winds',\n",
              "       'Road_Surface_Conditions', 'Light_Conditions', 'Urban_or_Rural_Area'],\n",
              "      dtype='object')"
            ]
          },
          "metadata": {},
          "execution_count": 190
        }
      ]
    },
    {
      "cell_type": "markdown",
      "source": [
        "Creating more granularity in the date info"
      ],
      "metadata": {
        "id": "drjLDOLT6V57"
      }
    },
    {
      "cell_type": "code",
      "source": [
        "df[\"datetime\"] = pd.to_datetime(df[\"datetime\"])"
      ],
      "metadata": {
        "id": "J9a-d-ZbUan3"
      },
      "execution_count": 191,
      "outputs": []
    },
    {
      "cell_type": "code",
      "source": [
        "df[\"day\"] = df[\"datetime\"].dt.date\n",
        "df[\"day\"] = pd.to_datetime(df[\"day\"])"
      ],
      "metadata": {
        "id": "LjPb0FD3aU70"
      },
      "execution_count": 193,
      "outputs": []
    },
    {
      "cell_type": "code",
      "source": [
        "df[\"day_n\"] = df[\"datetime\"].dt.day"
      ],
      "metadata": {
        "id": "iJ5NC86Z_RWp"
      },
      "execution_count": 346,
      "outputs": []
    },
    {
      "cell_type": "code",
      "source": [
        "df[\"hour\"] = df[\"datetime\"].dt.hour"
      ],
      "metadata": {
        "id": "GwfpwW-_qnHd"
      },
      "execution_count": 194,
      "outputs": []
    },
    {
      "cell_type": "code",
      "source": [
        "df[\"month\"] = df[\"datetime\"].dt.month_name()"
      ],
      "metadata": {
        "id": "usO3baBA7idp"
      },
      "execution_count": 195,
      "outputs": []
    },
    {
      "cell_type": "code",
      "source": [
        "df[\"month_n\"] = df[\"datetime\"].dt.month"
      ],
      "metadata": {
        "id": "X_Qh80y7_W2e"
      },
      "execution_count": 345,
      "outputs": []
    },
    {
      "cell_type": "code",
      "source": [
        "df.loc[(df['Day_of_Week'] == 'Saturday') | (df['Day_of_Week'] == 'Sunday'), 'Weekend'] = 'Weekend'\n",
        "df.loc[(df['Day_of_Week'] != 'Saturday') & (df['Day_of_Week'] != 'Sunday'), 'Weekend'] = 'Weekday'  "
      ],
      "metadata": {
        "id": "MNmwCLU75ddk"
      },
      "execution_count": 196,
      "outputs": []
    },
    {
      "cell_type": "code",
      "source": [
        "conditions_season = [\n",
        "                     ((df[\"month\"] == \"December\") | (df[\"month\"] == \"January\") | (df[\"month\"] == \"February\")),\n",
        "                     ((df[\"month\"] == \"March\") | (df[\"month\"] == \"April\") | (df[\"month\"] == \"May\")),\n",
        "                     ((df[\"month\"] == \"June\") | (df[\"month\"] == \"July\") | (df[\"month\"] == \"August\")),\n",
        "                     (df[\"month\"] == \"September\") | (df[\"month\"] == \"October\") | (df[\"month\"] == \"November\")\n",
        "]\n",
        "\n",
        "values_season = [\"Winter\",\"Spring\",\"Summer\",\"Autumn\"]\n",
        "\n",
        "df[\"Season\"] = np.select(conditions_season, values_season)"
      ],
      "metadata": {
        "id": "c0rJfp7FBbcE"
      },
      "execution_count": 381,
      "outputs": []
    },
    {
      "cell_type": "code",
      "source": [
        "df[6000:]"
      ],
      "metadata": {
        "colab": {
          "base_uri": "https://localhost:8080/",
          "height": 424
        },
        "id": "0BQYlMhmG84Z",
        "outputId": "3702bfd8-d0b8-4142-939e-0f3e2abed181"
      },
      "execution_count": 389,
      "outputs": [
        {
          "output_type": "execute_result",
          "data": {
            "text/html": [
              "<div>\n",
              "<style scoped>\n",
              "    .dataframe tbody tr th:only-of-type {\n",
              "        vertical-align: middle;\n",
              "    }\n",
              "\n",
              "    .dataframe tbody tr th {\n",
              "        vertical-align: top;\n",
              "    }\n",
              "\n",
              "    .dataframe thead th {\n",
              "        text-align: right;\n",
              "    }\n",
              "</style>\n",
              "<table border=\"1\" class=\"dataframe\">\n",
              "  <thead>\n",
              "    <tr style=\"text-align: right;\">\n",
              "      <th></th>\n",
              "      <th>datetime</th>\n",
              "      <th>Count</th>\n",
              "      <th>Day_of_Week</th>\n",
              "      <th>Precipitation</th>\n",
              "      <th>High_Winds</th>\n",
              "      <th>Road_Surface_Conditions</th>\n",
              "      <th>Light_Conditions</th>\n",
              "      <th>Urban_or_Rural_Area</th>\n",
              "      <th>day</th>\n",
              "      <th>hour</th>\n",
              "      <th>month</th>\n",
              "      <th>Weekend</th>\n",
              "      <th>month_n</th>\n",
              "      <th>day_n</th>\n",
              "      <th>Season</th>\n",
              "    </tr>\n",
              "  </thead>\n",
              "  <tbody>\n",
              "    <tr>\n",
              "      <th>6000</th>\n",
              "      <td>2018-09-15 01:00:00</td>\n",
              "      <td>8</td>\n",
              "      <td>Saturday</td>\n",
              "      <td>Fine</td>\n",
              "      <td>False</td>\n",
              "      <td>Dry</td>\n",
              "      <td>Darkness - lights lit</td>\n",
              "      <td>Urban</td>\n",
              "      <td>2018-09-15</td>\n",
              "      <td>1</td>\n",
              "      <td>September</td>\n",
              "      <td>Weekend</td>\n",
              "      <td>9</td>\n",
              "      <td>15</td>\n",
              "      <td>Autumn</td>\n",
              "    </tr>\n",
              "    <tr>\n",
              "      <th>6001</th>\n",
              "      <td>2018-09-15 02:00:00</td>\n",
              "      <td>4</td>\n",
              "      <td>Saturday</td>\n",
              "      <td>Fine</td>\n",
              "      <td>False</td>\n",
              "      <td>Dry</td>\n",
              "      <td>Darkness - lights lit</td>\n",
              "      <td>Urban</td>\n",
              "      <td>2018-09-15</td>\n",
              "      <td>2</td>\n",
              "      <td>September</td>\n",
              "      <td>Weekend</td>\n",
              "      <td>9</td>\n",
              "      <td>15</td>\n",
              "      <td>Autumn</td>\n",
              "    </tr>\n",
              "    <tr>\n",
              "      <th>6002</th>\n",
              "      <td>2018-09-15 03:00:00</td>\n",
              "      <td>3</td>\n",
              "      <td>Saturday</td>\n",
              "      <td>Fine</td>\n",
              "      <td>False</td>\n",
              "      <td>Dry</td>\n",
              "      <td>Darkness - lights lit</td>\n",
              "      <td>Urban</td>\n",
              "      <td>2018-09-15</td>\n",
              "      <td>3</td>\n",
              "      <td>September</td>\n",
              "      <td>Weekend</td>\n",
              "      <td>9</td>\n",
              "      <td>15</td>\n",
              "      <td>Autumn</td>\n",
              "    </tr>\n",
              "    <tr>\n",
              "      <th>6003</th>\n",
              "      <td>2018-09-15 04:00:00</td>\n",
              "      <td>5</td>\n",
              "      <td>Saturday</td>\n",
              "      <td>Fine</td>\n",
              "      <td>False</td>\n",
              "      <td>Dry</td>\n",
              "      <td>Darkness - lights lit</td>\n",
              "      <td>Urban</td>\n",
              "      <td>2018-09-15</td>\n",
              "      <td>4</td>\n",
              "      <td>September</td>\n",
              "      <td>Weekend</td>\n",
              "      <td>9</td>\n",
              "      <td>15</td>\n",
              "      <td>Autumn</td>\n",
              "    </tr>\n",
              "    <tr>\n",
              "      <th>6004</th>\n",
              "      <td>2018-09-15 05:00:00</td>\n",
              "      <td>4</td>\n",
              "      <td>Saturday</td>\n",
              "      <td>Fine</td>\n",
              "      <td>False</td>\n",
              "      <td>Dry</td>\n",
              "      <td>Darkness - lighting unknown</td>\n",
              "      <td>Rural</td>\n",
              "      <td>2018-09-15</td>\n",
              "      <td>5</td>\n",
              "      <td>September</td>\n",
              "      <td>Weekend</td>\n",
              "      <td>9</td>\n",
              "      <td>15</td>\n",
              "      <td>Autumn</td>\n",
              "    </tr>\n",
              "    <tr>\n",
              "      <th>...</th>\n",
              "      <td>...</td>\n",
              "      <td>...</td>\n",
              "      <td>...</td>\n",
              "      <td>...</td>\n",
              "      <td>...</td>\n",
              "      <td>...</td>\n",
              "      <td>...</td>\n",
              "      <td>...</td>\n",
              "      <td>...</td>\n",
              "      <td>...</td>\n",
              "      <td>...</td>\n",
              "      <td>...</td>\n",
              "      <td>...</td>\n",
              "      <td>...</td>\n",
              "      <td>...</td>\n",
              "    </tr>\n",
              "    <tr>\n",
              "      <th>8535</th>\n",
              "      <td>2018-12-31 19:00:00</td>\n",
              "      <td>13</td>\n",
              "      <td>Monday</td>\n",
              "      <td>Fine</td>\n",
              "      <td>False</td>\n",
              "      <td>Dry</td>\n",
              "      <td>Darkness - lights lit</td>\n",
              "      <td>Urban</td>\n",
              "      <td>2018-12-31</td>\n",
              "      <td>19</td>\n",
              "      <td>December</td>\n",
              "      <td>Weekday</td>\n",
              "      <td>12</td>\n",
              "      <td>31</td>\n",
              "      <td>Winter</td>\n",
              "    </tr>\n",
              "    <tr>\n",
              "      <th>8536</th>\n",
              "      <td>2018-12-31 20:00:00</td>\n",
              "      <td>12</td>\n",
              "      <td>Monday</td>\n",
              "      <td>Fine</td>\n",
              "      <td>False</td>\n",
              "      <td>Dry</td>\n",
              "      <td>Darkness - lights lit</td>\n",
              "      <td>Urban</td>\n",
              "      <td>2018-12-31</td>\n",
              "      <td>20</td>\n",
              "      <td>December</td>\n",
              "      <td>Weekday</td>\n",
              "      <td>12</td>\n",
              "      <td>31</td>\n",
              "      <td>Winter</td>\n",
              "    </tr>\n",
              "    <tr>\n",
              "      <th>8537</th>\n",
              "      <td>2018-12-31 21:00:00</td>\n",
              "      <td>5</td>\n",
              "      <td>Monday</td>\n",
              "      <td>Fine</td>\n",
              "      <td>False</td>\n",
              "      <td>Dry</td>\n",
              "      <td>Darkness - lights lit</td>\n",
              "      <td>Urban</td>\n",
              "      <td>2018-12-31</td>\n",
              "      <td>21</td>\n",
              "      <td>December</td>\n",
              "      <td>Weekday</td>\n",
              "      <td>12</td>\n",
              "      <td>31</td>\n",
              "      <td>Winter</td>\n",
              "    </tr>\n",
              "    <tr>\n",
              "      <th>8538</th>\n",
              "      <td>2018-12-31 22:00:00</td>\n",
              "      <td>18</td>\n",
              "      <td>Monday</td>\n",
              "      <td>Fine</td>\n",
              "      <td>False</td>\n",
              "      <td>Dry</td>\n",
              "      <td>Darkness - lights lit</td>\n",
              "      <td>Urban</td>\n",
              "      <td>2018-12-31</td>\n",
              "      <td>22</td>\n",
              "      <td>December</td>\n",
              "      <td>Weekday</td>\n",
              "      <td>12</td>\n",
              "      <td>31</td>\n",
              "      <td>Winter</td>\n",
              "    </tr>\n",
              "    <tr>\n",
              "      <th>8539</th>\n",
              "      <td>2018-12-31 23:00:00</td>\n",
              "      <td>9</td>\n",
              "      <td>Monday</td>\n",
              "      <td>Fine</td>\n",
              "      <td>False</td>\n",
              "      <td>Dry</td>\n",
              "      <td>Darkness - lights lit</td>\n",
              "      <td>Urban</td>\n",
              "      <td>2018-12-31</td>\n",
              "      <td>23</td>\n",
              "      <td>December</td>\n",
              "      <td>Weekday</td>\n",
              "      <td>12</td>\n",
              "      <td>31</td>\n",
              "      <td>Winter</td>\n",
              "    </tr>\n",
              "  </tbody>\n",
              "</table>\n",
              "<p>2540 rows × 15 columns</p>\n",
              "</div>"
            ],
            "text/plain": [
              "                datetime  Count Day_of_Week  ... month_n  day_n  Season\n",
              "6000 2018-09-15 01:00:00      8    Saturday  ...       9     15  Autumn\n",
              "6001 2018-09-15 02:00:00      4    Saturday  ...       9     15  Autumn\n",
              "6002 2018-09-15 03:00:00      3    Saturday  ...       9     15  Autumn\n",
              "6003 2018-09-15 04:00:00      5    Saturday  ...       9     15  Autumn\n",
              "6004 2018-09-15 05:00:00      4    Saturday  ...       9     15  Autumn\n",
              "...                  ...    ...         ...  ...     ...    ...     ...\n",
              "8535 2018-12-31 19:00:00     13      Monday  ...      12     31  Winter\n",
              "8536 2018-12-31 20:00:00     12      Monday  ...      12     31  Winter\n",
              "8537 2018-12-31 21:00:00      5      Monday  ...      12     31  Winter\n",
              "8538 2018-12-31 22:00:00     18      Monday  ...      12     31  Winter\n",
              "8539 2018-12-31 23:00:00      9      Monday  ...      12     31  Winter\n",
              "\n",
              "[2540 rows x 15 columns]"
            ]
          },
          "metadata": {},
          "execution_count": 389
        }
      ]
    },
    {
      "cell_type": "code",
      "source": [
        "cat_names = ['Day_of_Week', 'Weekend','Precipitation', 'High_Winds',\n",
        "       'Road_Surface_Conditions', 'Light_Conditions', 'Urban_or_Rural_Area']\n",
        "print(\"Unique count of categorical features:\")\n",
        "for i in cat_names:\n",
        "  print(i,df[i].unique().size)"
      ],
      "metadata": {
        "colab": {
          "base_uri": "https://localhost:8080/"
        },
        "id": "ywbnFsvJVAdn",
        "outputId": "fc778c80-61fe-4bd2-b4ce-d4af1d448a09"
      },
      "execution_count": 198,
      "outputs": [
        {
          "output_type": "stream",
          "name": "stdout",
          "text": [
            "Unique count of categorical features:\n",
            "Day_of_Week 7\n",
            "Weekend 2\n",
            "Precipitation 7\n",
            "High_Winds 2\n",
            "Road_Surface_Conditions 6\n",
            "Light_Conditions 5\n",
            "Urban_or_Rural_Area 2\n"
          ]
        }
      ]
    },
    {
      "cell_type": "code",
      "source": [
        "for i in cat_names:\n",
        "  print(i,df[i].unique())"
      ],
      "metadata": {
        "id": "7SvxIL8RVROn",
        "outputId": "4ae53645-3ffa-47be-a50f-517f203aa5e3",
        "colab": {
          "base_uri": "https://localhost:8080/"
        }
      },
      "execution_count": 199,
      "outputs": [
        {
          "output_type": "stream",
          "name": "stdout",
          "text": [
            "Day_of_Week ['Monday' 'Tuesday' 'Wednesday' 'Thursday' 'Friday' 'Saturday' 'Sunday']\n",
            "Weekend ['Weekday' 'Weekend']\n",
            "Precipitation ['Fine' 'Other' 'Raining' 'Fog or mist' 'Unknown' 'Snowing'\n",
            " 'Data missing or out of range']\n",
            "High_Winds [False  True]\n",
            "Road_Surface_Conditions ['Dry' 'Wet or damp' 'Frost or ice' 'Snow' 'Flood over 3cm. deep'\n",
            " 'Data missing or out of range']\n",
            "Light_Conditions ['Darkness - lights lit' 'Daylight' 'Darkness - no lighting'\n",
            " 'Darkness - lighting unknown' 'Darkness - lights unlit']\n",
            "Urban_or_Rural_Area ['Urban' 'Rural']\n"
          ]
        }
      ]
    },
    {
      "cell_type": "code",
      "source": [
        "print(f\"From \",df[\"day\"].min(), \"to \", df[\"day\"].max(),\": \" ,df.Count.sum(),\" accidents occured.\")"
      ],
      "metadata": {
        "colab": {
          "base_uri": "https://localhost:8080/"
        },
        "id": "8NyLyI_z5nWT",
        "outputId": "24ae3bb6-afc4-4e07-da4a-0a1114b38d19"
      },
      "execution_count": 324,
      "outputs": [
        {
          "output_type": "stream",
          "name": "stdout",
          "text": [
            "From  2018-01-01 00:00:00 to  2018-12-31 00:00:00 :  122622  accidents occured.\n"
          ]
        }
      ]
    },
    {
      "cell_type": "code",
      "source": [
        "acc_daily = df.groupby(\"day\").sum(\"Count\")\n",
        "acc_daily.drop(columns=[\"High_Winds\",\"hour\"],inplace=True)\n",
        "\n",
        "plt.figure(figsize=(10,8))\n",
        "plt.title(\"Daily accident count\")\n",
        "plt.plot(acc_daily)\n",
        "plt.xlabel(\"Day\")\n",
        "plt.ylabel(\"Total daily number of accidents\")\n",
        "plt.show()"
      ],
      "metadata": {
        "colab": {
          "base_uri": "https://localhost:8080/",
          "height": 513
        },
        "id": "Z9WPMrVodJrP",
        "outputId": "ff5d882a-715a-4e1b-9991-2742c9dcd4ab"
      },
      "execution_count": 325,
      "outputs": [
        {
          "output_type": "display_data",
          "data": {
            "image/png": "[encoded data removed]",
            "text/plain": [
              "<Figure size 720x576 with 1 Axes>"
            ]
          },
          "metadata": {
            "needs_background": "light"
          }
        }
      ]
    },
    {
      "cell_type": "markdown",
      "source": [
        "### **2) Train / Test Split**"
      ],
      "metadata": {
        "id": "ztKPc3Pk5XUC"
      }
    },
    {
      "cell_type": "code",
      "source": [
        "train_set, test_set = train_test_split(df,test_size=0.2, random_state=7, shuffle=False)\n",
        "print(f\"{train_set.shape[0]} tain and {test_set.shape[0]} test instances\")"
      ],
      "metadata": {
        "colab": {
          "base_uri": "https://localhost:8080/"
        },
        "id": "3ndD7VOZd1MC",
        "outputId": "79c79762-44d6-4753-e52f-af33424d7b23"
      },
      "execution_count": 201,
      "outputs": [
        {
          "output_type": "stream",
          "name": "stdout",
          "text": [
            "6832 tain and 1708 test instances\n"
          ]
        }
      ]
    },
    {
      "cell_type": "code",
      "source": [
        "train_set.head()"
      ],
      "metadata": {
        "colab": {
          "base_uri": "https://localhost:8080/",
          "height": 206
        },
        "id": "ZQhwlNxGemEI",
        "outputId": "e16ad74e-3b68-4ece-a3b6-ecba5016a4c6"
      },
      "execution_count": 202,
      "outputs": [
        {
          "output_type": "execute_result",
          "data": {
            "text/html": [
              "<div>\n",
              "<style scoped>\n",
              "    .dataframe tbody tr th:only-of-type {\n",
              "        vertical-align: middle;\n",
              "    }\n",
              "\n",
              "    .dataframe tbody tr th {\n",
              "        vertical-align: top;\n",
              "    }\n",
              "\n",
              "    .dataframe thead th {\n",
              "        text-align: right;\n",
              "    }\n",
              "</style>\n",
              "<table border=\"1\" class=\"dataframe\">\n",
              "  <thead>\n",
              "    <tr style=\"text-align: right;\">\n",
              "      <th></th>\n",
              "      <th>datetime</th>\n",
              "      <th>Count</th>\n",
              "      <th>Day_of_Week</th>\n",
              "      <th>Precipitation</th>\n",
              "      <th>High_Winds</th>\n",
              "      <th>Road_Surface_Conditions</th>\n",
              "      <th>Light_Conditions</th>\n",
              "      <th>Urban_or_Rural_Area</th>\n",
              "      <th>day</th>\n",
              "      <th>hour</th>\n",
              "      <th>month</th>\n",
              "      <th>Weekend</th>\n",
              "    </tr>\n",
              "  </thead>\n",
              "  <tbody>\n",
              "    <tr>\n",
              "      <th>0</th>\n",
              "      <td>2018-01-01 00:00:00</td>\n",
              "      <td>18</td>\n",
              "      <td>Monday</td>\n",
              "      <td>Fine</td>\n",
              "      <td>False</td>\n",
              "      <td>Dry</td>\n",
              "      <td>Darkness - lights lit</td>\n",
              "      <td>Urban</td>\n",
              "      <td>2018-01-01</td>\n",
              "      <td>0</td>\n",
              "      <td>January</td>\n",
              "      <td>Weekday</td>\n",
              "    </tr>\n",
              "    <tr>\n",
              "      <th>1</th>\n",
              "      <td>2018-01-01 01:00:00</td>\n",
              "      <td>9</td>\n",
              "      <td>Monday</td>\n",
              "      <td>Fine</td>\n",
              "      <td>False</td>\n",
              "      <td>Wet or damp</td>\n",
              "      <td>Darkness - lights lit</td>\n",
              "      <td>Urban</td>\n",
              "      <td>2018-01-01</td>\n",
              "      <td>1</td>\n",
              "      <td>January</td>\n",
              "      <td>Weekday</td>\n",
              "    </tr>\n",
              "    <tr>\n",
              "      <th>2</th>\n",
              "      <td>2018-01-01 02:00:00</td>\n",
              "      <td>14</td>\n",
              "      <td>Monday</td>\n",
              "      <td>Fine</td>\n",
              "      <td>False</td>\n",
              "      <td>Wet or damp</td>\n",
              "      <td>Darkness - lights lit</td>\n",
              "      <td>Urban</td>\n",
              "      <td>2018-01-01</td>\n",
              "      <td>2</td>\n",
              "      <td>January</td>\n",
              "      <td>Weekday</td>\n",
              "    </tr>\n",
              "    <tr>\n",
              "      <th>3</th>\n",
              "      <td>2018-01-01 03:00:00</td>\n",
              "      <td>10</td>\n",
              "      <td>Monday</td>\n",
              "      <td>Fine</td>\n",
              "      <td>False</td>\n",
              "      <td>Wet or damp</td>\n",
              "      <td>Darkness - lights lit</td>\n",
              "      <td>Urban</td>\n",
              "      <td>2018-01-01</td>\n",
              "      <td>3</td>\n",
              "      <td>January</td>\n",
              "      <td>Weekday</td>\n",
              "    </tr>\n",
              "    <tr>\n",
              "      <th>4</th>\n",
              "      <td>2018-01-01 04:00:00</td>\n",
              "      <td>8</td>\n",
              "      <td>Monday</td>\n",
              "      <td>Fine</td>\n",
              "      <td>False</td>\n",
              "      <td>Dry</td>\n",
              "      <td>Darkness - lights lit</td>\n",
              "      <td>Urban</td>\n",
              "      <td>2018-01-01</td>\n",
              "      <td>4</td>\n",
              "      <td>January</td>\n",
              "      <td>Weekday</td>\n",
              "    </tr>\n",
              "  </tbody>\n",
              "</table>\n",
              "</div>"
            ],
            "text/plain": [
              "             datetime  Count Day_of_Week  ... hour    month  Weekend\n",
              "0 2018-01-01 00:00:00     18      Monday  ...    0  January  Weekday\n",
              "1 2018-01-01 01:00:00      9      Monday  ...    1  January  Weekday\n",
              "2 2018-01-01 02:00:00     14      Monday  ...    2  January  Weekday\n",
              "3 2018-01-01 03:00:00     10      Monday  ...    3  January  Weekday\n",
              "4 2018-01-01 04:00:00      8      Monday  ...    4  January  Weekday\n",
              "\n",
              "[5 rows x 12 columns]"
            ]
          },
          "metadata": {},
          "execution_count": 202
        }
      ]
    },
    {
      "cell_type": "markdown",
      "source": [
        "### **3) EDA & Descriptive Statistics**"
      ],
      "metadata": {
        "id": "S3HHPEK46ywj"
      }
    },
    {
      "cell_type": "code",
      "source": [
        "acc_daily_train = train_set.groupby(\"day\").sum(\"Count\")\n",
        "acc_daily_train.drop(columns=[\"High_Winds\",\"hour\"],inplace=True)\n",
        "\n",
        "plt.figure(figsize=(10,8))\n",
        "plt.title(\"Daily accident count\")\n",
        "plt.plot(acc_daily_train)\n",
        "plt.xlabel(\"Day\")\n",
        "plt.ylabel(\"Total daily number of accidents\")\n",
        "plt.show()"
      ],
      "metadata": {
        "colab": {
          "base_uri": "https://localhost:8080/",
          "height": 513
        },
        "id": "ES47JZl73zAl",
        "outputId": "04eef931-1a9b-4966-e02f-f78c48a18f52"
      },
      "execution_count": 335,
      "outputs": [
        {
          "output_type": "display_data",
          "data": {
            "image/png": "[encoded data removed]",
            "text/plain": [
              "<Figure size 720x576 with 1 Axes>"
            ]
          },
          "metadata": {
            "needs_background": "light"
          }
        }
      ]
    },
    {
      "cell_type": "code",
      "source": [
        "print(f\"As the graph shows the daily accident numbers swing between:\", acc_daily_train[\"Count\"].max(),\"as maximum and\",acc_daily_train[\"Count\"].min(),\"minimun.\" )"
      ],
      "metadata": {
        "colab": {
          "base_uri": "https://localhost:8080/"
        },
        "id": "TKrVBEkS7IC5",
        "outputId": "b5097dd3-c944-43f4-f73c-bbb939b89f4e"
      },
      "execution_count": 334,
      "outputs": [
        {
          "output_type": "stream",
          "name": "stdout",
          "text": [
            "As the graph shows the daily accident numbers swing between: 504 as maximum and 21 minimun.\n"
          ]
        }
      ]
    },
    {
      "cell_type": "code",
      "source": [
        "c = 1\n",
        "\n",
        "fig = plt.figure(figsize=(17,5))\n",
        "\n",
        "for i in df[[\"Day_of_Week\",\"hour\"]]:\n",
        "    plt.subplot(1, 3, c)\n",
        "    plt.title(f'Accident count by {i}')\n",
        "    plt.xlabel(i)\n",
        "    plt.xticks(rotation=70)\n",
        "    sns.barplot(x=i,y=\"Count\",data=test_set,estimator=sum, palette=\"Blues_d\")\n",
        "    c = c + 1\n",
        "\n",
        "plt.show()"
      ],
      "metadata": {
        "colab": {
          "base_uri": "https://localhost:8080/",
          "height": 398
        },
        "id": "mmgUj3nfmD4D",
        "outputId": "af128ae1-4b91-4f1a-8d33-ec9f3b7e1990"
      },
      "execution_count": 207,
      "outputs": [
        {
          "output_type": "display_data",
          "data": {
            "image/png": "[encoded data removed]",
            "text/plain": [
              "<Figure size 1224x360 with 2 Axes>"
            ]
          },
          "metadata": {
            "needs_background": "light"
          }
        }
      ]
    },
    {
      "cell_type": "markdown",
      "source": [
        "Concerning the date and time of the data one can recognize that accidents are evenly distributed between the weekdays and only *sligthly* peak on Fridays and have a *slight* bottom on Sundays. \n",
        "Regarding the hours there is a more clear distribution towards the rush hour hours from 16:00 to 18:00 as well as in the mornings between 7:00 and 9:00. "
      ],
      "metadata": {
        "id": "RkbTK8z_we0z"
      }
    },
    {
      "cell_type": "code",
      "source": [
        "test_set.columns"
      ],
      "metadata": {
        "colab": {
          "base_uri": "https://localhost:8080/"
        },
        "id": "YO_TucnexXcf",
        "outputId": "2af76e63-3739-4682-c442-e0d9ad7f0950"
      },
      "execution_count": 208,
      "outputs": [
        {
          "output_type": "execute_result",
          "data": {
            "text/plain": [
              "Index(['datetime', 'Count', 'Day_of_Week', 'Precipitation', 'High_Winds',\n",
              "       'Road_Surface_Conditions', 'Light_Conditions', 'Urban_or_Rural_Area',\n",
              "       'day', 'hour', 'month', 'Weekend'],\n",
              "      dtype='object')"
            ]
          },
          "metadata": {},
          "execution_count": 208
        }
      ]
    },
    {
      "cell_type": "code",
      "source": [
        "c = 1\n",
        "\n",
        "fig = plt.figure(figsize=(12,6))\n",
        "\n",
        "for i in df[['Precipitation',\n",
        "       'High_Winds', 'Road_Surface_Conditions', 'Light_Conditions',\n",
        "       'Urban_or_Rural_Area']]:\n",
        "    plt.subplot(2, 3, c)\n",
        "    plt.subplots_adjust(hspace=1)\n",
        "    plt.title(f'Accident count by {i}')\n",
        "    plt.xlabel(i)\n",
        "    plt.xticks(rotation=70)\n",
        "    sns.barplot(x=i,y=\"Count\",data=test_set,estimator=sum, palette=\"Blues_d\")\n",
        "    c = c + 1\n",
        "\n",
        "plt.show()"
      ],
      "metadata": {
        "colab": {
          "base_uri": "https://localhost:8080/",
          "height": 533
        },
        "id": "qXXA3kW0xKoG",
        "outputId": "03a90220-0c87-49bf-b62f-538c48f2c26f"
      },
      "execution_count": 209,
      "outputs": [
        {
          "output_type": "display_data",
          "data": {
            "image/png": "[encoded data removed]",
            "text/plain": [
              "<Figure size 864x432 with 5 Axes>"
            ]
          },
          "metadata": {
            "needs_background": "light"
          }
        }
      ]
    },
    {
      "cell_type": "code",
      "source": [
        "fig,axes = plt.subplots(1,2,figsize=(10,5))\n",
        "sns.barplot(ax= axes[0], data=df, x='month', y='Count',estimator=sum,palette=\"Blues_d\")\n",
        "sns.barplot(ax=axes[1], data=df, x='Weekend', y='Count',estimator=sum,palette=\"Blues_d\")\n",
        "plt.show()"
      ],
      "metadata": {
        "colab": {
          "base_uri": "https://localhost:8080/",
          "height": 370
        },
        "id": "YdxbuwrwIHY6",
        "outputId": "db436035-e909-4b0f-e5e6-07d253fb1cb7"
      },
      "execution_count": 218,
      "outputs": [
        {
          "output_type": "display_data",
          "data": {
            "image/png": "[encoded data removed]",
            "text/plain": [
              "<Figure size 720x360 with 2 Axes>"
            ]
          },
          "metadata": {
            "needs_background": "light"
          }
        }
      ]
    },
    {
      "cell_type": "code",
      "source": [
        "plt.figure(figsize=(8,4))\n",
        "sns.histplot(data=train_set, x=\"Count\")\n",
        "plt.title(\"Hourly accident count distribution\")\n",
        "plt.xlabel(\"Hourly accident count\")\n",
        "plt.show()"
      ],
      "metadata": {
        "colab": {
          "base_uri": "https://localhost:8080/",
          "height": 295
        },
        "id": "SJLp01zPKZyX",
        "outputId": "6998ef9c-f88a-4326-9577-cdf99e289d29"
      },
      "execution_count": 344,
      "outputs": [
        {
          "output_type": "display_data",
          "data": {
            "image/png": "[encoded data removed]",
            "text/plain": [
              "<Figure size 576x288 with 1 Axes>"
            ]
          },
          "metadata": {
            "needs_background": "light"
          }
        }
      ]
    },
    {
      "cell_type": "markdown",
      "source": [
        "### 3) **Data Preprocessing**"
      ],
      "metadata": {
        "id": "xpbax71fOPif"
      }
    },
    {
      "cell_type": "code",
      "source": [
        "train_set.isna().sum()"
      ],
      "metadata": {
        "colab": {
          "base_uri": "https://localhost:8080/"
        },
        "id": "r27Z1IUrOYOU",
        "outputId": "e8cac9dd-94fa-47c2-fc09-24052f64291e"
      },
      "execution_count": 212,
      "outputs": [
        {
          "output_type": "execute_result",
          "data": {
            "text/plain": [
              "datetime                   0\n",
              "Count                      0\n",
              "Day_of_Week                0\n",
              "Precipitation              0\n",
              "High_Winds                 0\n",
              "Road_Surface_Conditions    0\n",
              "Light_Conditions           0\n",
              "Urban_or_Rural_Area        0\n",
              "day                        0\n",
              "hour                       0\n",
              "month                      0\n",
              "Weekend                    0\n",
              "dtype: int64"
            ]
          },
          "metadata": {},
          "execution_count": 212
        }
      ]
    },
    {
      "cell_type": "code",
      "source": [
        "\n",
        "for i in train_set[['Day_of_Week', 'Precipitation', 'High_Winds',\n",
        "       'Road_Surface_Conditions', 'Light_Conditions', 'Urban_or_Rural_Area']]:\n",
        "    x = train_set[i].value_counts()\n",
        "    print(\"Column name is: \",i,\"and its unique value counts are:\",x)"
      ],
      "metadata": {
        "colab": {
          "base_uri": "https://localhost:8080/"
        },
        "id": "kQ6ne9VDLazo",
        "outputId": "ec560383-1106-48b2-c23f-ad520f598168"
      },
      "execution_count": 361,
      "outputs": [
        {
          "output_type": "stream",
          "name": "stdout",
          "text": [
            "Column name is:  Day_of_Week and its unique value counts are: Saturday     981\n",
            "Friday       977\n",
            "Monday       975\n",
            "Sunday       974\n",
            "Wednesday    967\n",
            "Thursday     967\n",
            "Tuesday      953\n",
            "Name: Day_of_Week, dtype: int64\n",
            "Column name is:  Precipitation and its unique value counts are: Fine           6094\n",
            "Raining         528\n",
            "Snowing         116\n",
            "Other            41\n",
            "Fog or mist      15\n",
            "Name: Precipitation, dtype: int64\n",
            "Column name is:  High_Winds and its unique value counts are: False    6737\n",
            "True       57\n",
            "Name: High_Winds, dtype: int64\n",
            "Column name is:  Road_Surface_Conditions and its unique value counts are: Dry                             5329\n",
            "Wet or damp                     1300\n",
            "Snow                             115\n",
            "Frost or ice                      48\n",
            "Data missing or out of range       2\n",
            "Name: Road_Surface_Conditions, dtype: int64\n",
            "Column name is:  Light_Conditions and its unique value counts are: Daylight                       4107\n",
            "Darkness - lights lit          2203\n",
            "Darkness - no lighting          386\n",
            "Darkness - lighting unknown      76\n",
            "Darkness - lights unlit          22\n",
            "Name: Light_Conditions, dtype: int64\n",
            "Column name is:  Urban_or_Rural_Area and its unique value counts are: Urban    5436\n",
            "Rural    1358\n",
            "Name: Urban_or_Rural_Area, dtype: int64\n"
          ]
        }
      ]
    },
    {
      "cell_type": "code",
      "source": [
        "train_set.loc[train_set[\"Road_Surface_Conditions\"].str.contains(\"Flood\"), \"Road_Surface_Conditions\"] = \"Wet or damp\""
      ],
      "metadata": {
        "id": "CEssczUuDkdc"
      },
      "execution_count": 362,
      "outputs": []
    },
    {
      "cell_type": "code",
      "source": [
        "indexNames = train_set[(train_set['Precipitation'] == \"Unknown\") | (train_set['Precipitation'] == \"Data missing or out of range\") | (train_set[\"Road_Surface_Conditions\"] == \"Data missing or out of range\")].index\n",
        "train_set.drop(indexNames , inplace=True)\n"
      ],
      "metadata": {
        "id": "mcUKAJiyGsfc"
      },
      "execution_count": 366,
      "outputs": []
    },
    {
      "cell_type": "code",
      "source": [
        "for i in train_set[['Day_of_Week', 'Precipitation', 'High_Winds',\n",
        "       'Road_Surface_Conditions', 'Light_Conditions', 'Urban_or_Rural_Area']]:\n",
        "    x = train_set[i].value_counts()\n",
        "    print(\"Column name is: \",i,\"and its unique value counts are:\",x)"
      ],
      "metadata": {
        "colab": {
          "base_uri": "https://localhost:8080/"
        },
        "id": "cvmBV61nF1i0",
        "outputId": "a529f1e3-b1b0-4dbc-e997-f62cf606a92f"
      },
      "execution_count": 367,
      "outputs": [
        {
          "output_type": "stream",
          "name": "stdout",
          "text": [
            "Column name is:  Day_of_Week and its unique value counts are: Saturday     981\n",
            "Friday       977\n",
            "Monday       975\n",
            "Sunday       973\n",
            "Wednesday    967\n",
            "Thursday     967\n",
            "Tuesday      952\n",
            "Name: Day_of_Week, dtype: int64\n",
            "Column name is:  Precipitation and its unique value counts are: Fine           6092\n",
            "Raining         528\n",
            "Snowing         116\n",
            "Other            41\n",
            "Fog or mist      15\n",
            "Name: Precipitation, dtype: int64\n",
            "Column name is:  High_Winds and its unique value counts are: False    6735\n",
            "True       57\n",
            "Name: High_Winds, dtype: int64\n",
            "Column name is:  Road_Surface_Conditions and its unique value counts are: Dry             5329\n",
            "Wet or damp     1300\n",
            "Snow             115\n",
            "Frost or ice      48\n",
            "Name: Road_Surface_Conditions, dtype: int64\n",
            "Column name is:  Light_Conditions and its unique value counts are: Daylight                       4107\n",
            "Darkness - lights lit          2202\n",
            "Darkness - no lighting          386\n",
            "Darkness - lighting unknown      75\n",
            "Darkness - lights unlit          22\n",
            "Name: Light_Conditions, dtype: int64\n",
            "Column name is:  Urban_or_Rural_Area and its unique value counts are: Urban    5434\n",
            "Rural    1358\n",
            "Name: Urban_or_Rural_Area, dtype: int64\n"
          ]
        }
      ]
    },
    {
      "cell_type": "markdown",
      "source": [
        "Comparimg the value counts of each feature, \"Data that was out of range\", \"Unknown\" was dropped from the dataset. Furthermore, 5 lines of data with the value \"Flood over 3cm was attached to \"wet or dump surface conditions\"."
      ],
      "metadata": {
        "id": "sLn5TvZdIGls"
      }
    },
    {
      "cell_type": "markdown",
      "source": [
        "### **4) Dummy variables**\n"
      ],
      "metadata": {
        "id": "1GxV9ifsf-Fs"
      }
    },
    {
      "cell_type": "code",
      "source": [
        "enc = OneHotEncoder(drop=\"first\", sparse=False)"
      ],
      "metadata": {
        "id": "WsmGwlM4f9Ja"
      },
      "execution_count": 368,
      "outputs": []
    },
    {
      "cell_type": "code",
      "source": [
        "train_set.head()"
      ],
      "metadata": {
        "colab": {
          "base_uri": "https://localhost:8080/",
          "height": 206
        },
        "id": "90j8avJYinQ_",
        "outputId": "7c45c2e9-882d-47a7-bf36-b6607681338d"
      },
      "execution_count": 369,
      "outputs": [
        {
          "output_type": "execute_result",
          "data": {
            "text/html": [
              "<div>\n",
              "<style scoped>\n",
              "    .dataframe tbody tr th:only-of-type {\n",
              "        vertical-align: middle;\n",
              "    }\n",
              "\n",
              "    .dataframe tbody tr th {\n",
              "        vertical-align: top;\n",
              "    }\n",
              "\n",
              "    .dataframe thead th {\n",
              "        text-align: right;\n",
              "    }\n",
              "</style>\n",
              "<table border=\"1\" class=\"dataframe\">\n",
              "  <thead>\n",
              "    <tr style=\"text-align: right;\">\n",
              "      <th></th>\n",
              "      <th>datetime</th>\n",
              "      <th>Count</th>\n",
              "      <th>Day_of_Week</th>\n",
              "      <th>Precipitation</th>\n",
              "      <th>High_Winds</th>\n",
              "      <th>Road_Surface_Conditions</th>\n",
              "      <th>Light_Conditions</th>\n",
              "      <th>Urban_or_Rural_Area</th>\n",
              "      <th>day</th>\n",
              "      <th>hour</th>\n",
              "      <th>month</th>\n",
              "      <th>Weekend</th>\n",
              "    </tr>\n",
              "  </thead>\n",
              "  <tbody>\n",
              "    <tr>\n",
              "      <th>0</th>\n",
              "      <td>2018-01-01 00:00:00</td>\n",
              "      <td>18</td>\n",
              "      <td>Monday</td>\n",
              "      <td>Fine</td>\n",
              "      <td>False</td>\n",
              "      <td>Dry</td>\n",
              "      <td>Darkness - lights lit</td>\n",
              "      <td>Urban</td>\n",
              "      <td>2018-01-01</td>\n",
              "      <td>0</td>\n",
              "      <td>January</td>\n",
              "      <td>Weekday</td>\n",
              "    </tr>\n",
              "    <tr>\n",
              "      <th>1</th>\n",
              "      <td>2018-01-01 01:00:00</td>\n",
              "      <td>9</td>\n",
              "      <td>Monday</td>\n",
              "      <td>Fine</td>\n",
              "      <td>False</td>\n",
              "      <td>Wet or damp</td>\n",
              "      <td>Darkness - lights lit</td>\n",
              "      <td>Urban</td>\n",
              "      <td>2018-01-01</td>\n",
              "      <td>1</td>\n",
              "      <td>January</td>\n",
              "      <td>Weekday</td>\n",
              "    </tr>\n",
              "    <tr>\n",
              "      <th>2</th>\n",
              "      <td>2018-01-01 02:00:00</td>\n",
              "      <td>14</td>\n",
              "      <td>Monday</td>\n",
              "      <td>Fine</td>\n",
              "      <td>False</td>\n",
              "      <td>Wet or damp</td>\n",
              "      <td>Darkness - lights lit</td>\n",
              "      <td>Urban</td>\n",
              "      <td>2018-01-01</td>\n",
              "      <td>2</td>\n",
              "      <td>January</td>\n",
              "      <td>Weekday</td>\n",
              "    </tr>\n",
              "    <tr>\n",
              "      <th>3</th>\n",
              "      <td>2018-01-01 03:00:00</td>\n",
              "      <td>10</td>\n",
              "      <td>Monday</td>\n",
              "      <td>Fine</td>\n",
              "      <td>False</td>\n",
              "      <td>Wet or damp</td>\n",
              "      <td>Darkness - lights lit</td>\n",
              "      <td>Urban</td>\n",
              "      <td>2018-01-01</td>\n",
              "      <td>3</td>\n",
              "      <td>January</td>\n",
              "      <td>Weekday</td>\n",
              "    </tr>\n",
              "    <tr>\n",
              "      <th>4</th>\n",
              "      <td>2018-01-01 04:00:00</td>\n",
              "      <td>8</td>\n",
              "      <td>Monday</td>\n",
              "      <td>Fine</td>\n",
              "      <td>False</td>\n",
              "      <td>Dry</td>\n",
              "      <td>Darkness - lights lit</td>\n",
              "      <td>Urban</td>\n",
              "      <td>2018-01-01</td>\n",
              "      <td>4</td>\n",
              "      <td>January</td>\n",
              "      <td>Weekday</td>\n",
              "    </tr>\n",
              "  </tbody>\n",
              "</table>\n",
              "</div>"
            ],
            "text/plain": [
              "             datetime  Count Day_of_Week  ... hour    month  Weekend\n",
              "0 2018-01-01 00:00:00     18      Monday  ...    0  January  Weekday\n",
              "1 2018-01-01 01:00:00      9      Monday  ...    1  January  Weekday\n",
              "2 2018-01-01 02:00:00     14      Monday  ...    2  January  Weekday\n",
              "3 2018-01-01 03:00:00     10      Monday  ...    3  January  Weekday\n",
              "4 2018-01-01 04:00:00      8      Monday  ...    4  January  Weekday\n",
              "\n",
              "[5 rows x 12 columns]"
            ]
          },
          "metadata": {},
          "execution_count": 369
        }
      ]
    },
    {
      "cell_type": "code",
      "source": [
        "df.columns"
      ],
      "metadata": {
        "colab": {
          "base_uri": "https://localhost:8080/"
        },
        "id": "wF30lDBJi9i7",
        "outputId": "07388d5d-6c86-4ad4-e77b-3a6d362c2994"
      },
      "execution_count": 370,
      "outputs": [
        {
          "output_type": "execute_result",
          "data": {
            "text/plain": [
              "Index(['datetime', 'Count', 'Day_of_Week', 'Precipitation', 'High_Winds',\n",
              "       'Road_Surface_Conditions', 'Light_Conditions', 'Urban_or_Rural_Area',\n",
              "       'day', 'hour', 'month', 'Weekend', 'month_n', 'day_n'],\n",
              "      dtype='object')"
            ]
          },
          "metadata": {},
          "execution_count": 370
        }
      ]
    },
    {
      "cell_type": "code",
      "source": [
        "cat_vals = train_set[['Precipitation', 'High_Winds','Road_Surface_Conditions', 'Light_Conditions', 'Urban_or_Rural_Area', 'Weekend']]"
      ],
      "metadata": {
        "id": "3xau10Xji7qo"
      },
      "execution_count": 371,
      "outputs": []
    },
    {
      "cell_type": "code",
      "source": [
        "cat_features = enc.fit_transform(train_set[['Precipitation', 'High_Winds','Road_Surface_Conditions', 'Light_Conditions', 'Urban_or_Rural_Area', 'Weekend']])\n",
        "column_name = enc.get_feature_names(['Precipitation', 'High_Winds','Road_Surface_Conditions', 'Light_Conditions', 'Urban_or_Rural_Area', 'Weekend'])\n",
        "cat_features_encoded = pd.DataFrame(cat_features, columns=column_name)\n",
        "cat_features_encoded"
      ],
      "metadata": {
        "colab": {
          "base_uri": "https://localhost:8080/",
          "height": 461
        },
        "id": "-56P5xx0i1rJ",
        "outputId": "fb577231-e4d1-486b-b4c7-f0d79ea49ded"
      },
      "execution_count": 372,
      "outputs": [
        {
          "output_type": "execute_result",
          "data": {
            "text/html": [
              "<div>\n",
              "<style scoped>\n",
              "    .dataframe tbody tr th:only-of-type {\n",
              "        vertical-align: middle;\n",
              "    }\n",
              "\n",
              "    .dataframe tbody tr th {\n",
              "        vertical-align: top;\n",
              "    }\n",
              "\n",
              "    .dataframe thead th {\n",
              "        text-align: right;\n",
              "    }\n",
              "</style>\n",
              "<table border=\"1\" class=\"dataframe\">\n",
              "  <thead>\n",
              "    <tr style=\"text-align: right;\">\n",
              "      <th></th>\n",
              "      <th>Precipitation_Fog or mist</th>\n",
              "      <th>Precipitation_Other</th>\n",
              "      <th>Precipitation_Raining</th>\n",
              "      <th>Precipitation_Snowing</th>\n",
              "      <th>High_Winds_True</th>\n",
              "      <th>Road_Surface_Conditions_Frost or ice</th>\n",
              "      <th>Road_Surface_Conditions_Snow</th>\n",
              "      <th>Road_Surface_Conditions_Wet or damp</th>\n",
              "      <th>Light_Conditions_Darkness - lights lit</th>\n",
              "      <th>Light_Conditions_Darkness - lights unlit</th>\n",
              "      <th>Light_Conditions_Darkness - no lighting</th>\n",
              "      <th>Light_Conditions_Daylight</th>\n",
              "      <th>Urban_or_Rural_Area_Urban</th>\n",
              "      <th>Weekend_Weekend</th>\n",
              "    </tr>\n",
              "  </thead>\n",
              "  <tbody>\n",
              "    <tr>\n",
              "      <th>0</th>\n",
              "      <td>0.0</td>\n",
              "      <td>0.0</td>\n",
              "      <td>0.0</td>\n",
              "      <td>0.0</td>\n",
              "      <td>0.0</td>\n",
              "      <td>0.0</td>\n",
              "      <td>0.0</td>\n",
              "      <td>0.0</td>\n",
              "      <td>1.0</td>\n",
              "      <td>0.0</td>\n",
              "      <td>0.0</td>\n",
              "      <td>0.0</td>\n",
              "      <td>1.0</td>\n",
              "      <td>0.0</td>\n",
              "    </tr>\n",
              "    <tr>\n",
              "      <th>1</th>\n",
              "      <td>0.0</td>\n",
              "      <td>0.0</td>\n",
              "      <td>0.0</td>\n",
              "      <td>0.0</td>\n",
              "      <td>0.0</td>\n",
              "      <td>0.0</td>\n",
              "      <td>0.0</td>\n",
              "      <td>1.0</td>\n",
              "      <td>1.0</td>\n",
              "      <td>0.0</td>\n",
              "      <td>0.0</td>\n",
              "      <td>0.0</td>\n",
              "      <td>1.0</td>\n",
              "      <td>0.0</td>\n",
              "    </tr>\n",
              "    <tr>\n",
              "      <th>2</th>\n",
              "      <td>0.0</td>\n",
              "      <td>0.0</td>\n",
              "      <td>0.0</td>\n",
              "      <td>0.0</td>\n",
              "      <td>0.0</td>\n",
              "      <td>0.0</td>\n",
              "      <td>0.0</td>\n",
              "      <td>1.0</td>\n",
              "      <td>1.0</td>\n",
              "      <td>0.0</td>\n",
              "      <td>0.0</td>\n",
              "      <td>0.0</td>\n",
              "      <td>1.0</td>\n",
              "      <td>0.0</td>\n",
              "    </tr>\n",
              "    <tr>\n",
              "      <th>3</th>\n",
              "      <td>0.0</td>\n",
              "      <td>0.0</td>\n",
              "      <td>0.0</td>\n",
              "      <td>0.0</td>\n",
              "      <td>0.0</td>\n",
              "      <td>0.0</td>\n",
              "      <td>0.0</td>\n",
              "      <td>1.0</td>\n",
              "      <td>1.0</td>\n",
              "      <td>0.0</td>\n",
              "      <td>0.0</td>\n",
              "      <td>0.0</td>\n",
              "      <td>1.0</td>\n",
              "      <td>0.0</td>\n",
              "    </tr>\n",
              "    <tr>\n",
              "      <th>4</th>\n",
              "      <td>0.0</td>\n",
              "      <td>0.0</td>\n",
              "      <td>0.0</td>\n",
              "      <td>0.0</td>\n",
              "      <td>0.0</td>\n",
              "      <td>0.0</td>\n",
              "      <td>0.0</td>\n",
              "      <td>0.0</td>\n",
              "      <td>1.0</td>\n",
              "      <td>0.0</td>\n",
              "      <td>0.0</td>\n",
              "      <td>0.0</td>\n",
              "      <td>1.0</td>\n",
              "      <td>0.0</td>\n",
              "    </tr>\n",
              "    <tr>\n",
              "      <th>...</th>\n",
              "      <td>...</td>\n",
              "      <td>...</td>\n",
              "      <td>...</td>\n",
              "      <td>...</td>\n",
              "      <td>...</td>\n",
              "      <td>...</td>\n",
              "      <td>...</td>\n",
              "      <td>...</td>\n",
              "      <td>...</td>\n",
              "      <td>...</td>\n",
              "      <td>...</td>\n",
              "      <td>...</td>\n",
              "      <td>...</td>\n",
              "      <td>...</td>\n",
              "    </tr>\n",
              "    <tr>\n",
              "      <th>6787</th>\n",
              "      <td>0.0</td>\n",
              "      <td>0.0</td>\n",
              "      <td>0.0</td>\n",
              "      <td>0.0</td>\n",
              "      <td>0.0</td>\n",
              "      <td>0.0</td>\n",
              "      <td>0.0</td>\n",
              "      <td>0.0</td>\n",
              "      <td>1.0</td>\n",
              "      <td>0.0</td>\n",
              "      <td>0.0</td>\n",
              "      <td>0.0</td>\n",
              "      <td>0.0</td>\n",
              "      <td>1.0</td>\n",
              "    </tr>\n",
              "    <tr>\n",
              "      <th>6788</th>\n",
              "      <td>0.0</td>\n",
              "      <td>0.0</td>\n",
              "      <td>0.0</td>\n",
              "      <td>0.0</td>\n",
              "      <td>0.0</td>\n",
              "      <td>0.0</td>\n",
              "      <td>0.0</td>\n",
              "      <td>0.0</td>\n",
              "      <td>0.0</td>\n",
              "      <td>0.0</td>\n",
              "      <td>1.0</td>\n",
              "      <td>0.0</td>\n",
              "      <td>1.0</td>\n",
              "      <td>1.0</td>\n",
              "    </tr>\n",
              "    <tr>\n",
              "      <th>6789</th>\n",
              "      <td>0.0</td>\n",
              "      <td>0.0</td>\n",
              "      <td>0.0</td>\n",
              "      <td>0.0</td>\n",
              "      <td>0.0</td>\n",
              "      <td>0.0</td>\n",
              "      <td>0.0</td>\n",
              "      <td>0.0</td>\n",
              "      <td>0.0</td>\n",
              "      <td>0.0</td>\n",
              "      <td>1.0</td>\n",
              "      <td>0.0</td>\n",
              "      <td>0.0</td>\n",
              "      <td>1.0</td>\n",
              "    </tr>\n",
              "    <tr>\n",
              "      <th>6790</th>\n",
              "      <td>0.0</td>\n",
              "      <td>0.0</td>\n",
              "      <td>0.0</td>\n",
              "      <td>0.0</td>\n",
              "      <td>0.0</td>\n",
              "      <td>0.0</td>\n",
              "      <td>0.0</td>\n",
              "      <td>0.0</td>\n",
              "      <td>0.0</td>\n",
              "      <td>0.0</td>\n",
              "      <td>1.0</td>\n",
              "      <td>0.0</td>\n",
              "      <td>0.0</td>\n",
              "      <td>1.0</td>\n",
              "    </tr>\n",
              "    <tr>\n",
              "      <th>6791</th>\n",
              "      <td>0.0</td>\n",
              "      <td>0.0</td>\n",
              "      <td>0.0</td>\n",
              "      <td>0.0</td>\n",
              "      <td>0.0</td>\n",
              "      <td>0.0</td>\n",
              "      <td>0.0</td>\n",
              "      <td>0.0</td>\n",
              "      <td>1.0</td>\n",
              "      <td>0.0</td>\n",
              "      <td>0.0</td>\n",
              "      <td>0.0</td>\n",
              "      <td>1.0</td>\n",
              "      <td>1.0</td>\n",
              "    </tr>\n",
              "  </tbody>\n",
              "</table>\n",
              "<p>6792 rows × 14 columns</p>\n",
              "</div>"
            ],
            "text/plain": [
              "      Precipitation_Fog or mist  ...  Weekend_Weekend\n",
              "0                           0.0  ...              0.0\n",
              "1                           0.0  ...              0.0\n",
              "2                           0.0  ...              0.0\n",
              "3                           0.0  ...              0.0\n",
              "4                           0.0  ...              0.0\n",
              "...                         ...  ...              ...\n",
              "6787                        0.0  ...              1.0\n",
              "6788                        0.0  ...              1.0\n",
              "6789                        0.0  ...              1.0\n",
              "6790                        0.0  ...              1.0\n",
              "6791                        0.0  ...              1.0\n",
              "\n",
              "[6792 rows x 14 columns]"
            ]
          },
          "metadata": {},
          "execution_count": 372
        }
      ]
    },
    {
      "cell_type": "code",
      "source": [
        "final_train = pd.concat([train_set,cat_features_encoded],axis=1)\n",
        "final_train.drop(columns=cat_vals,inplace=True)\n",
        "final_train"
      ],
      "metadata": {
        "colab": {
          "base_uri": "https://localhost:8080/",
          "height": 808
        },
        "id": "Gcxd23IIJB4W",
        "outputId": "31a0c44d-6f19-4c0c-b285-e8f32a529c58"
      },
      "execution_count": 378,
      "outputs": [
        {
          "output_type": "execute_result",
          "data": {
            "text/html": [
              "<div>\n",
              "<style scoped>\n",
              "    .dataframe tbody tr th:only-of-type {\n",
              "        vertical-align: middle;\n",
              "    }\n",
              "\n",
              "    .dataframe tbody tr th {\n",
              "        vertical-align: top;\n",
              "    }\n",
              "\n",
              "    .dataframe thead th {\n",
              "        text-align: right;\n",
              "    }\n",
              "</style>\n",
              "<table border=\"1\" class=\"dataframe\">\n",
              "  <thead>\n",
              "    <tr style=\"text-align: right;\">\n",
              "      <th></th>\n",
              "      <th>datetime</th>\n",
              "      <th>Count</th>\n",
              "      <th>Day_of_Week</th>\n",
              "      <th>day</th>\n",
              "      <th>hour</th>\n",
              "      <th>month</th>\n",
              "      <th>Precipitation_Fog or mist</th>\n",
              "      <th>Precipitation_Other</th>\n",
              "      <th>Precipitation_Raining</th>\n",
              "      <th>Precipitation_Snowing</th>\n",
              "      <th>High_Winds_True</th>\n",
              "      <th>Road_Surface_Conditions_Frost or ice</th>\n",
              "      <th>Road_Surface_Conditions_Snow</th>\n",
              "      <th>Road_Surface_Conditions_Wet or damp</th>\n",
              "      <th>Light_Conditions_Darkness - lights lit</th>\n",
              "      <th>Light_Conditions_Darkness - lights unlit</th>\n",
              "      <th>Light_Conditions_Darkness - no lighting</th>\n",
              "      <th>Light_Conditions_Daylight</th>\n",
              "      <th>Urban_or_Rural_Area_Urban</th>\n",
              "      <th>Weekend_Weekend</th>\n",
              "    </tr>\n",
              "  </thead>\n",
              "  <tbody>\n",
              "    <tr>\n",
              "      <th>0</th>\n",
              "      <td>2018-01-01 00:00:00</td>\n",
              "      <td>18.0</td>\n",
              "      <td>Monday</td>\n",
              "      <td>2018-01-01</td>\n",
              "      <td>0.0</td>\n",
              "      <td>January</td>\n",
              "      <td>0.0</td>\n",
              "      <td>0.0</td>\n",
              "      <td>0.0</td>\n",
              "      <td>0.0</td>\n",
              "      <td>0.0</td>\n",
              "      <td>0.0</td>\n",
              "      <td>0.0</td>\n",
              "      <td>0.0</td>\n",
              "      <td>1.0</td>\n",
              "      <td>0.0</td>\n",
              "      <td>0.0</td>\n",
              "      <td>0.0</td>\n",
              "      <td>1.0</td>\n",
              "      <td>0.0</td>\n",
              "    </tr>\n",
              "    <tr>\n",
              "      <th>1</th>\n",
              "      <td>2018-01-01 01:00:00</td>\n",
              "      <td>9.0</td>\n",
              "      <td>Monday</td>\n",
              "      <td>2018-01-01</td>\n",
              "      <td>1.0</td>\n",
              "      <td>January</td>\n",
              "      <td>0.0</td>\n",
              "      <td>0.0</td>\n",
              "      <td>0.0</td>\n",
              "      <td>0.0</td>\n",
              "      <td>0.0</td>\n",
              "      <td>0.0</td>\n",
              "      <td>0.0</td>\n",
              "      <td>1.0</td>\n",
              "      <td>1.0</td>\n",
              "      <td>0.0</td>\n",
              "      <td>0.0</td>\n",
              "      <td>0.0</td>\n",
              "      <td>1.0</td>\n",
              "      <td>0.0</td>\n",
              "    </tr>\n",
              "    <tr>\n",
              "      <th>2</th>\n",
              "      <td>2018-01-01 02:00:00</td>\n",
              "      <td>14.0</td>\n",
              "      <td>Monday</td>\n",
              "      <td>2018-01-01</td>\n",
              "      <td>2.0</td>\n",
              "      <td>January</td>\n",
              "      <td>0.0</td>\n",
              "      <td>0.0</td>\n",
              "      <td>0.0</td>\n",
              "      <td>0.0</td>\n",
              "      <td>0.0</td>\n",
              "      <td>0.0</td>\n",
              "      <td>0.0</td>\n",
              "      <td>1.0</td>\n",
              "      <td>1.0</td>\n",
              "      <td>0.0</td>\n",
              "      <td>0.0</td>\n",
              "      <td>0.0</td>\n",
              "      <td>1.0</td>\n",
              "      <td>0.0</td>\n",
              "    </tr>\n",
              "    <tr>\n",
              "      <th>3</th>\n",
              "      <td>2018-01-01 03:00:00</td>\n",
              "      <td>10.0</td>\n",
              "      <td>Monday</td>\n",
              "      <td>2018-01-01</td>\n",
              "      <td>3.0</td>\n",
              "      <td>January</td>\n",
              "      <td>0.0</td>\n",
              "      <td>0.0</td>\n",
              "      <td>0.0</td>\n",
              "      <td>0.0</td>\n",
              "      <td>0.0</td>\n",
              "      <td>0.0</td>\n",
              "      <td>0.0</td>\n",
              "      <td>1.0</td>\n",
              "      <td>1.0</td>\n",
              "      <td>0.0</td>\n",
              "      <td>0.0</td>\n",
              "      <td>0.0</td>\n",
              "      <td>1.0</td>\n",
              "      <td>0.0</td>\n",
              "    </tr>\n",
              "    <tr>\n",
              "      <th>4</th>\n",
              "      <td>2018-01-01 04:00:00</td>\n",
              "      <td>8.0</td>\n",
              "      <td>Monday</td>\n",
              "      <td>2018-01-01</td>\n",
              "      <td>4.0</td>\n",
              "      <td>January</td>\n",
              "      <td>0.0</td>\n",
              "      <td>0.0</td>\n",
              "      <td>0.0</td>\n",
              "      <td>0.0</td>\n",
              "      <td>0.0</td>\n",
              "      <td>0.0</td>\n",
              "      <td>0.0</td>\n",
              "      <td>0.0</td>\n",
              "      <td>1.0</td>\n",
              "      <td>0.0</td>\n",
              "      <td>0.0</td>\n",
              "      <td>0.0</td>\n",
              "      <td>1.0</td>\n",
              "      <td>0.0</td>\n",
              "    </tr>\n",
              "    <tr>\n",
              "      <th>...</th>\n",
              "      <td>...</td>\n",
              "      <td>...</td>\n",
              "      <td>...</td>\n",
              "      <td>...</td>\n",
              "      <td>...</td>\n",
              "      <td>...</td>\n",
              "      <td>...</td>\n",
              "      <td>...</td>\n",
              "      <td>...</td>\n",
              "      <td>...</td>\n",
              "      <td>...</td>\n",
              "      <td>...</td>\n",
              "      <td>...</td>\n",
              "      <td>...</td>\n",
              "      <td>...</td>\n",
              "      <td>...</td>\n",
              "      <td>...</td>\n",
              "      <td>...</td>\n",
              "      <td>...</td>\n",
              "      <td>...</td>\n",
              "    </tr>\n",
              "    <tr>\n",
              "      <th>6827</th>\n",
              "      <td>2018-10-20 00:00:00</td>\n",
              "      <td>6.0</td>\n",
              "      <td>Saturday</td>\n",
              "      <td>2018-10-20</td>\n",
              "      <td>0.0</td>\n",
              "      <td>October</td>\n",
              "      <td>NaN</td>\n",
              "      <td>NaN</td>\n",
              "      <td>NaN</td>\n",
              "      <td>NaN</td>\n",
              "      <td>NaN</td>\n",
              "      <td>NaN</td>\n",
              "      <td>NaN</td>\n",
              "      <td>NaN</td>\n",
              "      <td>NaN</td>\n",
              "      <td>NaN</td>\n",
              "      <td>NaN</td>\n",
              "      <td>NaN</td>\n",
              "      <td>NaN</td>\n",
              "      <td>NaN</td>\n",
              "    </tr>\n",
              "    <tr>\n",
              "      <th>6828</th>\n",
              "      <td>2018-10-20 01:00:00</td>\n",
              "      <td>5.0</td>\n",
              "      <td>Saturday</td>\n",
              "      <td>2018-10-20</td>\n",
              "      <td>1.0</td>\n",
              "      <td>October</td>\n",
              "      <td>NaN</td>\n",
              "      <td>NaN</td>\n",
              "      <td>NaN</td>\n",
              "      <td>NaN</td>\n",
              "      <td>NaN</td>\n",
              "      <td>NaN</td>\n",
              "      <td>NaN</td>\n",
              "      <td>NaN</td>\n",
              "      <td>NaN</td>\n",
              "      <td>NaN</td>\n",
              "      <td>NaN</td>\n",
              "      <td>NaN</td>\n",
              "      <td>NaN</td>\n",
              "      <td>NaN</td>\n",
              "    </tr>\n",
              "    <tr>\n",
              "      <th>6829</th>\n",
              "      <td>2018-10-20 02:00:00</td>\n",
              "      <td>3.0</td>\n",
              "      <td>Saturday</td>\n",
              "      <td>2018-10-20</td>\n",
              "      <td>2.0</td>\n",
              "      <td>October</td>\n",
              "      <td>NaN</td>\n",
              "      <td>NaN</td>\n",
              "      <td>NaN</td>\n",
              "      <td>NaN</td>\n",
              "      <td>NaN</td>\n",
              "      <td>NaN</td>\n",
              "      <td>NaN</td>\n",
              "      <td>NaN</td>\n",
              "      <td>NaN</td>\n",
              "      <td>NaN</td>\n",
              "      <td>NaN</td>\n",
              "      <td>NaN</td>\n",
              "      <td>NaN</td>\n",
              "      <td>NaN</td>\n",
              "    </tr>\n",
              "    <tr>\n",
              "      <th>6830</th>\n",
              "      <td>2018-10-20 03:00:00</td>\n",
              "      <td>2.0</td>\n",
              "      <td>Saturday</td>\n",
              "      <td>2018-10-20</td>\n",
              "      <td>3.0</td>\n",
              "      <td>October</td>\n",
              "      <td>NaN</td>\n",
              "      <td>NaN</td>\n",
              "      <td>NaN</td>\n",
              "      <td>NaN</td>\n",
              "      <td>NaN</td>\n",
              "      <td>NaN</td>\n",
              "      <td>NaN</td>\n",
              "      <td>NaN</td>\n",
              "      <td>NaN</td>\n",
              "      <td>NaN</td>\n",
              "      <td>NaN</td>\n",
              "      <td>NaN</td>\n",
              "      <td>NaN</td>\n",
              "      <td>NaN</td>\n",
              "    </tr>\n",
              "    <tr>\n",
              "      <th>6831</th>\n",
              "      <td>2018-10-20 04:00:00</td>\n",
              "      <td>5.0</td>\n",
              "      <td>Saturday</td>\n",
              "      <td>2018-10-20</td>\n",
              "      <td>4.0</td>\n",
              "      <td>October</td>\n",
              "      <td>NaN</td>\n",
              "      <td>NaN</td>\n",
              "      <td>NaN</td>\n",
              "      <td>NaN</td>\n",
              "      <td>NaN</td>\n",
              "      <td>NaN</td>\n",
              "      <td>NaN</td>\n",
              "      <td>NaN</td>\n",
              "      <td>NaN</td>\n",
              "      <td>NaN</td>\n",
              "      <td>NaN</td>\n",
              "      <td>NaN</td>\n",
              "      <td>NaN</td>\n",
              "      <td>NaN</td>\n",
              "    </tr>\n",
              "  </tbody>\n",
              "</table>\n",
              "<p>6832 rows × 20 columns</p>\n",
              "</div>"
            ],
            "text/plain": [
              "                datetime  Count  ... Urban_or_Rural_Area_Urban Weekend_Weekend\n",
              "0    2018-01-01 00:00:00   18.0  ...                       1.0             0.0\n",
              "1    2018-01-01 01:00:00    9.0  ...                       1.0             0.0\n",
              "2    2018-01-01 02:00:00   14.0  ...                       1.0             0.0\n",
              "3    2018-01-01 03:00:00   10.0  ...                       1.0             0.0\n",
              "4    2018-01-01 04:00:00    8.0  ...                       1.0             0.0\n",
              "...                  ...    ...  ...                       ...             ...\n",
              "6827 2018-10-20 00:00:00    6.0  ...                       NaN             NaN\n",
              "6828 2018-10-20 01:00:00    5.0  ...                       NaN             NaN\n",
              "6829 2018-10-20 02:00:00    3.0  ...                       NaN             NaN\n",
              "6830 2018-10-20 03:00:00    2.0  ...                       NaN             NaN\n",
              "6831 2018-10-20 04:00:00    5.0  ...                       NaN             NaN\n",
              "\n",
              "[6832 rows x 20 columns]"
            ]
          },
          "metadata": {},
          "execution_count": 378
        }
      ]
    },
    {
      "cell_type": "markdown",
      "source": [
        "### **5) Feature selection**"
      ],
      "metadata": {
        "id": "Rgw0EF1LI6sm"
      }
    },
    {
      "cell_type": "code",
      "source": [
        ""
      ],
      "metadata": {
        "id": "CUJYm34mq7yY"
      },
      "execution_count": null,
      "outputs": []
    },
    {
      "cell_type": "code",
      "source": [
        ""
      ],
      "metadata": {
        "id": "WgaHN5Noma26"
      },
      "execution_count": null,
      "outputs": []
    },
    {
      "cell_type": "markdown",
      "source": [
        "### **4) Baseline Model**"
      ],
      "metadata": {
        "id": "NY0rQfauCx4V"
      }
    },
    {
      "cell_type": "markdown",
      "source": [
        "### **4) Random Forest Regression Model**\n"
      ],
      "metadata": {
        "id": "3O-LSc6w2xlY"
      }
    },
    {
      "cell_type": "markdown",
      "source": [
        "### **5) ARIMA Model**"
      ],
      "metadata": {
        "id": "POdk0t50u69k"
      }
    },
    {
      "cell_type": "code",
      "source": [
        ""
      ],
      "metadata": {
        "id": "KLyAitPa9c5H"
      },
      "execution_count": null,
      "outputs": []
    }
  ]
}