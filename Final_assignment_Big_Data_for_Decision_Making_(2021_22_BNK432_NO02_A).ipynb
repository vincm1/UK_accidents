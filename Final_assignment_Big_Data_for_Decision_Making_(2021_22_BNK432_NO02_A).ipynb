{
  "nbformat": 4,
  "nbformat_minor": 0,
  "metadata": {
    "colab": {
      "name": "Final assignment - Big Data for Decision Making (2021-22 BNK432_NO02_A).ipynb",
      "provenance": [],
      "collapsed_sections": [
        "ztKPc3Pk5XUC",
        "S3HHPEK46ywj",
        "xpbax71fOPif",
        "Rgw0EF1LI6sm",
        "NY0rQfauCx4V",
        "POdk0t50u69k",
        "yWWQFZV_peBR"
      ],
      "authorship_tag": "ABX9TyNOo9DKzRRAdzR+W5zjtYU0",
      "include_colab_link": true
    },
    "kernelspec": {
      "name": "python3",
      "display_name": "Python 3"
    },
    "language_info": {
      "name": "python"
    }
  },
  "cells": [
    {
      "cell_type": "markdown",
      "metadata": {
        "id": "view-in-github",
        "colab_type": "text"
      },
      "source": [
        "<a href=\"https://colab.research.google.com/github/vincm1/UK_accidents/blob/main/Final_assignment_Big_Data_for_Decision_Making_(2021_22_BNK432_NO02_A).ipynb\" target=\"_parent\"><img src=\"https://colab.research.google.com/assets/colab-badge.svg\" alt=\"Open In Colab\"/></a>"
      ]
    },
    {
      "cell_type": "markdown",
      "source": [
        "### Final assignment - Big Data for Decision Making (2021-22 BNK432_NO02_A)"
      ],
      "metadata": {
        "id": "tmKBU5uISYeF"
      }
    },
    {
      "cell_type": "code",
      "execution_count": 298,
      "metadata": {
        "colab": {
          "base_uri": "https://localhost:8080/",
          "height": 17
        },
        "id": "A_pIXHp_SUaI",
        "outputId": "b378204d-2bb9-4099-d73e-e2bae57cb262"
      },
      "outputs": [
        {
          "output_type": "display_data",
          "data": {
            "application/javascript": [
              "var nb = IPython.notebook;\n",
              "var kernel = IPython.notebook.kernel;\n",
              "var command = \"NOTEBOOK_FULL_PATH = '\" + nb.notebook_path + \"'\";\n",
              "kernel.execute(command);"
            ],
            "text/plain": [
              "<IPython.core.display.Javascript object>"
            ]
          },
          "metadata": {}
        }
      ],
      "source": [
        "%%javascript\n",
        "var nb = IPython.notebook;\n",
        "var kernel = IPython.notebook.kernel;\n",
        "var command = \"NOTEBOOK_FULL_PATH = '\" + nb.notebook_path + \"'\";\n",
        "kernel.execute(command);"
      ]
    },
    {
      "cell_type": "code",
      "source": [
        "import datetime\n",
        "import pandas as pd\n",
        "import numpy as np\n",
        "import matplotlib.pyplot as plt \n",
        "import seaborn as sns\n",
        "\n",
        "from sklearn.preprocessing import OneHotEncoder, LabelEncoder\n",
        "from sklearn.model_selection import train_test_split\n",
        "from sklearn.metrics import mean_squared_error, mean_absolute_error\n",
        "from sklearn.ensemble import RandomForestRegressor\n",
        "from sklearn.tree import DecisionTreeRegressor\n",
        "\n",
        "import statsmodels.api as sm\n",
        "from statsmodels.tsa.stattools import adfuller\n",
        "from statsmodels.tsa.seasonal import seasonal_decompose\n",
        "from statsmodels.graphics.tsaplots import plot_acf, plot_pacf\n",
        "\n",
        "import warnings\n",
        "warnings.filterwarnings(\"ignore\")"
      ],
      "metadata": {
        "id": "XrkCrvD4Snnj"
      },
      "execution_count": 299,
      "outputs": []
    },
    {
      "cell_type": "code",
      "source": [
        "df = pd.read_csv(\"UK Road Accidents 2018.csv\")\n",
        "df.head()"
      ],
      "metadata": {
        "colab": {
          "base_uri": "https://localhost:8080/",
          "height": 206
        },
        "id": "tLmESINcSqgr",
        "outputId": "eb29488e-ffb0-47a8-f5b8-e9b84721519d"
      },
      "execution_count": 300,
      "outputs": [
        {
          "output_type": "execute_result",
          "data": {
            "text/html": [
              "\n",
              "  <div id=\"df-7ac92f97-f7ee-4fd6-af8d-806ef4b030c4\">\n",
              "    <div class=\"colab-df-container\">\n",
              "      <div>\n",
              "<style scoped>\n",
              "    .dataframe tbody tr th:only-of-type {\n",
              "        vertical-align: middle;\n",
              "    }\n",
              "\n",
              "    .dataframe tbody tr th {\n",
              "        vertical-align: top;\n",
              "    }\n",
              "\n",
              "    .dataframe thead th {\n",
              "        text-align: right;\n",
              "    }\n",
              "</style>\n",
              "<table border=\"1\" class=\"dataframe\">\n",
              "  <thead>\n",
              "    <tr style=\"text-align: right;\">\n",
              "      <th></th>\n",
              "      <th>datetime</th>\n",
              "      <th>Count</th>\n",
              "      <th>Day_of_Week</th>\n",
              "      <th>Precipitation</th>\n",
              "      <th>High_Winds</th>\n",
              "      <th>Road_Surface_Conditions</th>\n",
              "      <th>Light_Conditions</th>\n",
              "      <th>Urban_or_Rural_Area</th>\n",
              "    </tr>\n",
              "  </thead>\n",
              "  <tbody>\n",
              "    <tr>\n",
              "      <th>0</th>\n",
              "      <td>2018-01-01 00:00:00</td>\n",
              "      <td>18</td>\n",
              "      <td>Monday</td>\n",
              "      <td>Fine</td>\n",
              "      <td>False</td>\n",
              "      <td>Dry</td>\n",
              "      <td>Darkness - lights lit</td>\n",
              "      <td>Urban</td>\n",
              "    </tr>\n",
              "    <tr>\n",
              "      <th>1</th>\n",
              "      <td>2018-01-01 01:00:00</td>\n",
              "      <td>9</td>\n",
              "      <td>Monday</td>\n",
              "      <td>Fine</td>\n",
              "      <td>False</td>\n",
              "      <td>Wet or damp</td>\n",
              "      <td>Darkness - lights lit</td>\n",
              "      <td>Urban</td>\n",
              "    </tr>\n",
              "    <tr>\n",
              "      <th>2</th>\n",
              "      <td>2018-01-01 02:00:00</td>\n",
              "      <td>14</td>\n",
              "      <td>Monday</td>\n",
              "      <td>Fine</td>\n",
              "      <td>False</td>\n",
              "      <td>Wet or damp</td>\n",
              "      <td>Darkness - lights lit</td>\n",
              "      <td>Urban</td>\n",
              "    </tr>\n",
              "    <tr>\n",
              "      <th>3</th>\n",
              "      <td>2018-01-01 03:00:00</td>\n",
              "      <td>10</td>\n",
              "      <td>Monday</td>\n",
              "      <td>Fine</td>\n",
              "      <td>False</td>\n",
              "      <td>Wet or damp</td>\n",
              "      <td>Darkness - lights lit</td>\n",
              "      <td>Urban</td>\n",
              "    </tr>\n",
              "    <tr>\n",
              "      <th>4</th>\n",
              "      <td>2018-01-01 04:00:00</td>\n",
              "      <td>8</td>\n",
              "      <td>Monday</td>\n",
              "      <td>Fine</td>\n",
              "      <td>False</td>\n",
              "      <td>Dry</td>\n",
              "      <td>Darkness - lights lit</td>\n",
              "      <td>Urban</td>\n",
              "    </tr>\n",
              "  </tbody>\n",
              "</table>\n",
              "</div>\n",
              "      <button class=\"colab-df-convert\" onclick=\"convertToInteractive('df-7ac92f97-f7ee-4fd6-af8d-806ef4b030c4')\"\n",
              "              title=\"Convert this dataframe to an interactive table.\"\n",
              "              style=\"display:none;\">\n",
              "        \n",
              "  <svg xmlns=\"http://www.w3.org/2000/svg\" height=\"24px\"viewBox=\"0 0 24 24\"\n",
              "       width=\"24px\">\n",
              "    <path d=\"M0 0h24v24H0V0z\" fill=\"none\"/>\n",
              "    <path d=\"M18.56 5.44l.94 2.06.94-2.06 2.06-.94-2.06-.94-.94-2.06-.94 2.06-2.06.94zm-11 1L8.5 8.5l.94-2.06 2.06-.94-2.06-.94L8.5 2.5l-.94 2.06-2.06.94zm10 10l.94 2.06.94-2.06 2.06-.94-2.06-.94-.94-2.06-.94 2.06-2.06.94z\"/><path d=\"M17.41 7.96l-1.37-1.37c-.4-.4-.92-.59-1.43-.59-.52 0-1.04.2-1.43.59L10.3 9.45l-7.72 7.72c-.78.78-.78 2.05 0 2.83L4 21.41c.39.39.9.59 1.41.59.51 0 1.02-.2 1.41-.59l7.78-7.78 2.81-2.81c.8-.78.8-2.07 0-2.86zM5.41 20L4 18.59l7.72-7.72 1.47 1.35L5.41 20z\"/>\n",
              "  </svg>\n",
              "      </button>\n",
              "      \n",
              "  <style>\n",
              "    .colab-df-container {\n",
              "      display:flex;\n",
              "      flex-wrap:wrap;\n",
              "      gap: 12px;\n",
              "    }\n",
              "\n",
              "    .colab-df-convert {\n",
              "      background-color: #E8F0FE;\n",
              "      border: none;\n",
              "      border-radius: 50%;\n",
              "      cursor: pointer;\n",
              "      display: none;\n",
              "      fill: #1967D2;\n",
              "      height: 32px;\n",
              "      padding: 0 0 0 0;\n",
              "      width: 32px;\n",
              "    }\n",
              "\n",
              "    .colab-df-convert:hover {\n",
              "      background-color: #E2EBFA;\n",
              "      box-shadow: 0px 1px 2px rgba(60, 64, 67, 0.3), 0px 1px 3px 1px rgba(60, 64, 67, 0.15);\n",
              "      fill: #174EA6;\n",
              "    }\n",
              "\n",
              "    [theme=dark] .colab-df-convert {\n",
              "      background-color: #3B4455;\n",
              "      fill: #D2E3FC;\n",
              "    }\n",
              "\n",
              "    [theme=dark] .colab-df-convert:hover {\n",
              "      background-color: #434B5C;\n",
              "      box-shadow: 0px 1px 3px 1px rgba(0, 0, 0, 0.15);\n",
              "      filter: drop-shadow(0px 1px 2px rgba(0, 0, 0, 0.3));\n",
              "      fill: #FFFFFF;\n",
              "    }\n",
              "  </style>\n",
              "\n",
              "      <script>\n",
              "        const buttonEl =\n",
              "          document.querySelector('#df-7ac92f97-f7ee-4fd6-af8d-806ef4b030c4 button.colab-df-convert');\n",
              "        buttonEl.style.display =\n",
              "          google.colab.kernel.accessAllowed ? 'block' : 'none';\n",
              "\n",
              "        async function convertToInteractive(key) {\n",
              "          const element = document.querySelector('#df-7ac92f97-f7ee-4fd6-af8d-806ef4b030c4');\n",
              "          const dataTable =\n",
              "            await google.colab.kernel.invokeFunction('convertToInteractive',\n",
              "                                                     [key], {});\n",
              "          if (!dataTable) return;\n",
              "\n",
              "          const docLinkHtml = 'Like what you see? Visit the ' +\n",
              "            '<a target=\"_blank\" href=https://colab.research.google.com/notebooks/data_table.ipynb>data table notebook</a>'\n",
              "            + ' to learn more about interactive tables.';\n",
              "          element.innerHTML = '';\n",
              "          dataTable['output_type'] = 'display_data';\n",
              "          await google.colab.output.renderOutput(dataTable, element);\n",
              "          const docLink = document.createElement('div');\n",
              "          docLink.innerHTML = docLinkHtml;\n",
              "          element.appendChild(docLink);\n",
              "        }\n",
              "      </script>\n",
              "    </div>\n",
              "  </div>\n",
              "  "
            ],
            "text/plain": [
              "              datetime  Count  ...       Light_Conditions Urban_or_Rural_Area\n",
              "0  2018-01-01 00:00:00     18  ...  Darkness - lights lit               Urban\n",
              "1  2018-01-01 01:00:00      9  ...  Darkness - lights lit               Urban\n",
              "2  2018-01-01 02:00:00     14  ...  Darkness - lights lit               Urban\n",
              "3  2018-01-01 03:00:00     10  ...  Darkness - lights lit               Urban\n",
              "4  2018-01-01 04:00:00      8  ...  Darkness - lights lit               Urban\n",
              "\n",
              "[5 rows x 8 columns]"
            ]
          },
          "metadata": {},
          "execution_count": 300
        }
      ]
    },
    {
      "cell_type": "markdown",
      "source": [
        "## 1) **Business** **objective**"
      ],
      "metadata": {
        "id": "cAby8FLVTDvL"
      }
    },
    {
      "cell_type": "markdown",
      "source": [
        "The above seen data set is published by the UK Department for Transport and is published sinced 1978. For this report, a snippet of the data is taken and handles all road accidents that happened in 2018 on an hourly level. The data contains information about the hour as well as the count of how many accidents happened on UK's streets. Furthermore, it shows which day of the week it has been, the condition of precipitation within that time as well as whether there was high wind. Moreover, the dataset contains information about the road surface conditions, light conditions and in what kind of area the accidents in that hour happened.\n",
        "\n",
        "The goal of this report is to forecast the number of hourly accidents occuring on UK streets for Britannia Rescue in order to help its rescourcing planning by an appropriate model.\n",
        "\n",
        "To predict the numbers the following report structure will be included. First, the data will explored and preprocessed. Secondly, the features are selected and a baseline model will be drawn. Thirdly, models will be trained, hyperparameters tuned and thereby evaluated, which model shows the best performance for predicting road accidents for the client. To sum up, the results will be discussed and further steps will be introduced."
      ],
      "metadata": {
        "id": "ti6c5dOlTQzR"
      }
    },
    {
      "cell_type": "markdown",
      "source": [
        "### Data inspection "
      ],
      "metadata": {
        "id": "fOCjSW6iTUPW"
      }
    },
    {
      "cell_type": "code",
      "source": [
        "df.columns"
      ],
      "metadata": {
        "colab": {
          "base_uri": "https://localhost:8080/"
        },
        "id": "So-i0LhhTCbq",
        "outputId": "a7af0afe-5e5d-4355-f72c-3210edaf0c11"
      },
      "execution_count": 301,
      "outputs": [
        {
          "output_type": "execute_result",
          "data": {
            "text/plain": [
              "Index(['datetime', 'Count', 'Day_of_Week', 'Precipitation', 'High_Winds',\n",
              "       'Road_Surface_Conditions', 'Light_Conditions', 'Urban_or_Rural_Area'],\n",
              "      dtype='object')"
            ]
          },
          "metadata": {},
          "execution_count": 301
        }
      ]
    },
    {
      "cell_type": "code",
      "source": [
        "df.shape"
      ],
      "metadata": {
        "colab": {
          "base_uri": "https://localhost:8080/"
        },
        "id": "VcH2JDswubVc",
        "outputId": "09187aae-1cd9-4ad6-bf6c-41fbbe845648"
      },
      "execution_count": 302,
      "outputs": [
        {
          "output_type": "execute_result",
          "data": {
            "text/plain": [
              "(8540, 8)"
            ]
          },
          "metadata": {},
          "execution_count": 302
        }
      ]
    },
    {
      "cell_type": "code",
      "source": [
        "df.describe()"
      ],
      "metadata": {
        "colab": {
          "base_uri": "https://localhost:8080/",
          "height": 300
        },
        "id": "mqUjRfs1ulcr",
        "outputId": "b183c699-a430-453f-da13-ecba920bd8ad"
      },
      "execution_count": 303,
      "outputs": [
        {
          "output_type": "execute_result",
          "data": {
            "text/html": [
              "\n",
              "  <div id=\"df-a5f367c9-9e78-4f96-a1d0-e6174e563e8d\">\n",
              "    <div class=\"colab-df-container\">\n",
              "      <div>\n",
              "<style scoped>\n",
              "    .dataframe tbody tr th:only-of-type {\n",
              "        vertical-align: middle;\n",
              "    }\n",
              "\n",
              "    .dataframe tbody tr th {\n",
              "        vertical-align: top;\n",
              "    }\n",
              "\n",
              "    .dataframe thead th {\n",
              "        text-align: right;\n",
              "    }\n",
              "</style>\n",
              "<table border=\"1\" class=\"dataframe\">\n",
              "  <thead>\n",
              "    <tr style=\"text-align: right;\">\n",
              "      <th></th>\n",
              "      <th>Count</th>\n",
              "    </tr>\n",
              "  </thead>\n",
              "  <tbody>\n",
              "    <tr>\n",
              "      <th>count</th>\n",
              "      <td>8540.000000</td>\n",
              "    </tr>\n",
              "    <tr>\n",
              "      <th>mean</th>\n",
              "      <td>14.358548</td>\n",
              "    </tr>\n",
              "    <tr>\n",
              "      <th>std</th>\n",
              "      <td>10.479488</td>\n",
              "    </tr>\n",
              "    <tr>\n",
              "      <th>min</th>\n",
              "      <td>1.000000</td>\n",
              "    </tr>\n",
              "    <tr>\n",
              "      <th>25%</th>\n",
              "      <td>5.000000</td>\n",
              "    </tr>\n",
              "    <tr>\n",
              "      <th>50%</th>\n",
              "      <td>13.000000</td>\n",
              "    </tr>\n",
              "    <tr>\n",
              "      <th>75%</th>\n",
              "      <td>21.000000</td>\n",
              "    </tr>\n",
              "    <tr>\n",
              "      <th>max</th>\n",
              "      <td>62.000000</td>\n",
              "    </tr>\n",
              "  </tbody>\n",
              "</table>\n",
              "</div>\n",
              "      <button class=\"colab-df-convert\" onclick=\"convertToInteractive('df-a5f367c9-9e78-4f96-a1d0-e6174e563e8d')\"\n",
              "              title=\"Convert this dataframe to an interactive table.\"\n",
              "              style=\"display:none;\">\n",
              "        \n",
              "  <svg xmlns=\"http://www.w3.org/2000/svg\" height=\"24px\"viewBox=\"0 0 24 24\"\n",
              "       width=\"24px\">\n",
              "    <path d=\"M0 0h24v24H0V0z\" fill=\"none\"/>\n",
              "    <path d=\"M18.56 5.44l.94 2.06.94-2.06 2.06-.94-2.06-.94-.94-2.06-.94 2.06-2.06.94zm-11 1L8.5 8.5l.94-2.06 2.06-.94-2.06-.94L8.5 2.5l-.94 2.06-2.06.94zm10 10l.94 2.06.94-2.06 2.06-.94-2.06-.94-.94-2.06-.94 2.06-2.06.94z\"/><path d=\"M17.41 7.96l-1.37-1.37c-.4-.4-.92-.59-1.43-.59-.52 0-1.04.2-1.43.59L10.3 9.45l-7.72 7.72c-.78.78-.78 2.05 0 2.83L4 21.41c.39.39.9.59 1.41.59.51 0 1.02-.2 1.41-.59l7.78-7.78 2.81-2.81c.8-.78.8-2.07 0-2.86zM5.41 20L4 18.59l7.72-7.72 1.47 1.35L5.41 20z\"/>\n",
              "  </svg>\n",
              "      </button>\n",
              "      \n",
              "  <style>\n",
              "    .colab-df-container {\n",
              "      display:flex;\n",
              "      flex-wrap:wrap;\n",
              "      gap: 12px;\n",
              "    }\n",
              "\n",
              "    .colab-df-convert {\n",
              "      background-color: #E8F0FE;\n",
              "      border: none;\n",
              "      border-radius: 50%;\n",
              "      cursor: pointer;\n",
              "      display: none;\n",
              "      fill: #1967D2;\n",
              "      height: 32px;\n",
              "      padding: 0 0 0 0;\n",
              "      width: 32px;\n",
              "    }\n",
              "\n",
              "    .colab-df-convert:hover {\n",
              "      background-color: #E2EBFA;\n",
              "      box-shadow: 0px 1px 2px rgba(60, 64, 67, 0.3), 0px 1px 3px 1px rgba(60, 64, 67, 0.15);\n",
              "      fill: #174EA6;\n",
              "    }\n",
              "\n",
              "    [theme=dark] .colab-df-convert {\n",
              "      background-color: #3B4455;\n",
              "      fill: #D2E3FC;\n",
              "    }\n",
              "\n",
              "    [theme=dark] .colab-df-convert:hover {\n",
              "      background-color: #434B5C;\n",
              "      box-shadow: 0px 1px 3px 1px rgba(0, 0, 0, 0.15);\n",
              "      filter: drop-shadow(0px 1px 2px rgba(0, 0, 0, 0.3));\n",
              "      fill: #FFFFFF;\n",
              "    }\n",
              "  </style>\n",
              "\n",
              "      <script>\n",
              "        const buttonEl =\n",
              "          document.querySelector('#df-a5f367c9-9e78-4f96-a1d0-e6174e563e8d button.colab-df-convert');\n",
              "        buttonEl.style.display =\n",
              "          google.colab.kernel.accessAllowed ? 'block' : 'none';\n",
              "\n",
              "        async function convertToInteractive(key) {\n",
              "          const element = document.querySelector('#df-a5f367c9-9e78-4f96-a1d0-e6174e563e8d');\n",
              "          const dataTable =\n",
              "            await google.colab.kernel.invokeFunction('convertToInteractive',\n",
              "                                                     [key], {});\n",
              "          if (!dataTable) return;\n",
              "\n",
              "          const docLinkHtml = 'Like what you see? Visit the ' +\n",
              "            '<a target=\"_blank\" href=https://colab.research.google.com/notebooks/data_table.ipynb>data table notebook</a>'\n",
              "            + ' to learn more about interactive tables.';\n",
              "          element.innerHTML = '';\n",
              "          dataTable['output_type'] = 'display_data';\n",
              "          await google.colab.output.renderOutput(dataTable, element);\n",
              "          const docLink = document.createElement('div');\n",
              "          docLink.innerHTML = docLinkHtml;\n",
              "          element.appendChild(docLink);\n",
              "        }\n",
              "      </script>\n",
              "    </div>\n",
              "  </div>\n",
              "  "
            ],
            "text/plain": [
              "             Count\n",
              "count  8540.000000\n",
              "mean     14.358548\n",
              "std      10.479488\n",
              "min       1.000000\n",
              "25%       5.000000\n",
              "50%      13.000000\n",
              "75%      21.000000\n",
              "max      62.000000"
            ]
          },
          "metadata": {},
          "execution_count": 303
        }
      ]
    },
    {
      "cell_type": "code",
      "source": [
        "df.dtypes"
      ],
      "metadata": {
        "colab": {
          "base_uri": "https://localhost:8080/"
        },
        "id": "U53JMK-wussb",
        "outputId": "f3366441-a42a-4eb6-b22e-a5f2ff2af55a"
      },
      "execution_count": 304,
      "outputs": [
        {
          "output_type": "execute_result",
          "data": {
            "text/plain": [
              "datetime                   object\n",
              "Count                       int64\n",
              "Day_of_Week                object\n",
              "Precipitation              object\n",
              "High_Winds                   bool\n",
              "Road_Surface_Conditions    object\n",
              "Light_Conditions           object\n",
              "Urban_or_Rural_Area        object\n",
              "dtype: object"
            ]
          },
          "metadata": {},
          "execution_count": 304
        }
      ]
    },
    {
      "cell_type": "markdown",
      "source": [
        "Creating more granularity in the date info"
      ],
      "metadata": {
        "id": "drjLDOLT6V57"
      }
    },
    {
      "cell_type": "code",
      "source": [
        "df[\"datetime\"] = pd.to_datetime(df[\"datetime\"])"
      ],
      "metadata": {
        "id": "J9a-d-ZbUan3"
      },
      "execution_count": 305,
      "outputs": []
    },
    {
      "cell_type": "code",
      "source": [
        "df[\"day\"] = df[\"datetime\"].dt.date\n",
        "df[\"day\"] = pd.to_datetime(df[\"day\"])"
      ],
      "metadata": {
        "id": "LjPb0FD3aU70"
      },
      "execution_count": 306,
      "outputs": []
    },
    {
      "cell_type": "code",
      "source": [
        "df[\"day_n\"] = df[\"datetime\"].dt.day"
      ],
      "metadata": {
        "id": "iJ5NC86Z_RWp"
      },
      "execution_count": 307,
      "outputs": []
    },
    {
      "cell_type": "code",
      "source": [
        "df[\"hour\"] = df[\"datetime\"].dt.hour"
      ],
      "metadata": {
        "id": "GwfpwW-_qnHd"
      },
      "execution_count": 308,
      "outputs": []
    },
    {
      "cell_type": "code",
      "source": [
        "df[\"month\"] = df[\"datetime\"].dt.month_name()"
      ],
      "metadata": {
        "id": "usO3baBA7idp"
      },
      "execution_count": 309,
      "outputs": []
    },
    {
      "cell_type": "code",
      "source": [
        "df[\"month_n\"] = df[\"datetime\"].dt.month"
      ],
      "metadata": {
        "id": "X_Qh80y7_W2e"
      },
      "execution_count": 310,
      "outputs": []
    },
    {
      "cell_type": "code",
      "source": [
        "df.loc[(df['Day_of_Week'] == 'Saturday') | (df['Day_of_Week'] == 'Sunday'), 'Weekend'] = 'Weekend'\n",
        "df.loc[(df['Day_of_Week'] != 'Saturday') & (df['Day_of_Week'] != 'Sunday'), 'Weekend'] = 'Weekday'  "
      ],
      "metadata": {
        "id": "MNmwCLU75ddk"
      },
      "execution_count": 311,
      "outputs": []
    },
    {
      "cell_type": "code",
      "source": [
        "conditions_season = [\n",
        "                     ((df[\"month\"] == \"December\") | (df[\"month\"] == \"January\") | (df[\"month\"] == \"February\")),\n",
        "                     ((df[\"month\"] == \"March\") | (df[\"month\"] == \"April\") | (df[\"month\"] == \"May\")),\n",
        "                     ((df[\"month\"] == \"June\") | (df[\"month\"] == \"July\") | (df[\"month\"] == \"August\")),\n",
        "                     (df[\"month\"] == \"September\") | (df[\"month\"] == \"October\") | (df[\"month\"] == \"November\")\n",
        "]\n",
        "\n",
        "values_season = [\"Winter\",\"Spring\",\"Summer\",\"Autumn\"]\n",
        "\n",
        "df[\"Season\"] = np.select(conditions_season, values_season)"
      ],
      "metadata": {
        "id": "c0rJfp7FBbcE"
      },
      "execution_count": 312,
      "outputs": []
    },
    {
      "cell_type": "code",
      "source": [
        "df[6000:]"
      ],
      "metadata": {
        "colab": {
          "base_uri": "https://localhost:8080/",
          "height": 424
        },
        "id": "0BQYlMhmG84Z",
        "outputId": "1400d23b-f119-484e-8aba-9f6b26eebdbf"
      },
      "execution_count": 313,
      "outputs": [
        {
          "output_type": "execute_result",
          "data": {
            "text/html": [
              "\n",
              "  <div id=\"df-6875a509-b198-4358-8334-92f816fda4a8\">\n",
              "    <div class=\"colab-df-container\">\n",
              "      <div>\n",
              "<style scoped>\n",
              "    .dataframe tbody tr th:only-of-type {\n",
              "        vertical-align: middle;\n",
              "    }\n",
              "\n",
              "    .dataframe tbody tr th {\n",
              "        vertical-align: top;\n",
              "    }\n",
              "\n",
              "    .dataframe thead th {\n",
              "        text-align: right;\n",
              "    }\n",
              "</style>\n",
              "<table border=\"1\" class=\"dataframe\">\n",
              "  <thead>\n",
              "    <tr style=\"text-align: right;\">\n",
              "      <th></th>\n",
              "      <th>datetime</th>\n",
              "      <th>Count</th>\n",
              "      <th>Day_of_Week</th>\n",
              "      <th>Precipitation</th>\n",
              "      <th>High_Winds</th>\n",
              "      <th>Road_Surface_Conditions</th>\n",
              "      <th>Light_Conditions</th>\n",
              "      <th>Urban_or_Rural_Area</th>\n",
              "      <th>day</th>\n",
              "      <th>day_n</th>\n",
              "      <th>hour</th>\n",
              "      <th>month</th>\n",
              "      <th>month_n</th>\n",
              "      <th>Weekend</th>\n",
              "      <th>Season</th>\n",
              "    </tr>\n",
              "  </thead>\n",
              "  <tbody>\n",
              "    <tr>\n",
              "      <th>6000</th>\n",
              "      <td>2018-09-15 01:00:00</td>\n",
              "      <td>8</td>\n",
              "      <td>Saturday</td>\n",
              "      <td>Fine</td>\n",
              "      <td>False</td>\n",
              "      <td>Dry</td>\n",
              "      <td>Darkness - lights lit</td>\n",
              "      <td>Urban</td>\n",
              "      <td>2018-09-15</td>\n",
              "      <td>15</td>\n",
              "      <td>1</td>\n",
              "      <td>September</td>\n",
              "      <td>9</td>\n",
              "      <td>Weekend</td>\n",
              "      <td>Autumn</td>\n",
              "    </tr>\n",
              "    <tr>\n",
              "      <th>6001</th>\n",
              "      <td>2018-09-15 02:00:00</td>\n",
              "      <td>4</td>\n",
              "      <td>Saturday</td>\n",
              "      <td>Fine</td>\n",
              "      <td>False</td>\n",
              "      <td>Dry</td>\n",
              "      <td>Darkness - lights lit</td>\n",
              "      <td>Urban</td>\n",
              "      <td>2018-09-15</td>\n",
              "      <td>15</td>\n",
              "      <td>2</td>\n",
              "      <td>September</td>\n",
              "      <td>9</td>\n",
              "      <td>Weekend</td>\n",
              "      <td>Autumn</td>\n",
              "    </tr>\n",
              "    <tr>\n",
              "      <th>6002</th>\n",
              "      <td>2018-09-15 03:00:00</td>\n",
              "      <td>3</td>\n",
              "      <td>Saturday</td>\n",
              "      <td>Fine</td>\n",
              "      <td>False</td>\n",
              "      <td>Dry</td>\n",
              "      <td>Darkness - lights lit</td>\n",
              "      <td>Urban</td>\n",
              "      <td>2018-09-15</td>\n",
              "      <td>15</td>\n",
              "      <td>3</td>\n",
              "      <td>September</td>\n",
              "      <td>9</td>\n",
              "      <td>Weekend</td>\n",
              "      <td>Autumn</td>\n",
              "    </tr>\n",
              "    <tr>\n",
              "      <th>6003</th>\n",
              "      <td>2018-09-15 04:00:00</td>\n",
              "      <td>5</td>\n",
              "      <td>Saturday</td>\n",
              "      <td>Fine</td>\n",
              "      <td>False</td>\n",
              "      <td>Dry</td>\n",
              "      <td>Darkness - lights lit</td>\n",
              "      <td>Urban</td>\n",
              "      <td>2018-09-15</td>\n",
              "      <td>15</td>\n",
              "      <td>4</td>\n",
              "      <td>September</td>\n",
              "      <td>9</td>\n",
              "      <td>Weekend</td>\n",
              "      <td>Autumn</td>\n",
              "    </tr>\n",
              "    <tr>\n",
              "      <th>6004</th>\n",
              "      <td>2018-09-15 05:00:00</td>\n",
              "      <td>4</td>\n",
              "      <td>Saturday</td>\n",
              "      <td>Fine</td>\n",
              "      <td>False</td>\n",
              "      <td>Dry</td>\n",
              "      <td>Darkness - lighting unknown</td>\n",
              "      <td>Rural</td>\n",
              "      <td>2018-09-15</td>\n",
              "      <td>15</td>\n",
              "      <td>5</td>\n",
              "      <td>September</td>\n",
              "      <td>9</td>\n",
              "      <td>Weekend</td>\n",
              "      <td>Autumn</td>\n",
              "    </tr>\n",
              "    <tr>\n",
              "      <th>...</th>\n",
              "      <td>...</td>\n",
              "      <td>...</td>\n",
              "      <td>...</td>\n",
              "      <td>...</td>\n",
              "      <td>...</td>\n",
              "      <td>...</td>\n",
              "      <td>...</td>\n",
              "      <td>...</td>\n",
              "      <td>...</td>\n",
              "      <td>...</td>\n",
              "      <td>...</td>\n",
              "      <td>...</td>\n",
              "      <td>...</td>\n",
              "      <td>...</td>\n",
              "      <td>...</td>\n",
              "    </tr>\n",
              "    <tr>\n",
              "      <th>8535</th>\n",
              "      <td>2018-12-31 19:00:00</td>\n",
              "      <td>13</td>\n",
              "      <td>Monday</td>\n",
              "      <td>Fine</td>\n",
              "      <td>False</td>\n",
              "      <td>Dry</td>\n",
              "      <td>Darkness - lights lit</td>\n",
              "      <td>Urban</td>\n",
              "      <td>2018-12-31</td>\n",
              "      <td>31</td>\n",
              "      <td>19</td>\n",
              "      <td>December</td>\n",
              "      <td>12</td>\n",
              "      <td>Weekday</td>\n",
              "      <td>Winter</td>\n",
              "    </tr>\n",
              "    <tr>\n",
              "      <th>8536</th>\n",
              "      <td>2018-12-31 20:00:00</td>\n",
              "      <td>12</td>\n",
              "      <td>Monday</td>\n",
              "      <td>Fine</td>\n",
              "      <td>False</td>\n",
              "      <td>Dry</td>\n",
              "      <td>Darkness - lights lit</td>\n",
              "      <td>Urban</td>\n",
              "      <td>2018-12-31</td>\n",
              "      <td>31</td>\n",
              "      <td>20</td>\n",
              "      <td>December</td>\n",
              "      <td>12</td>\n",
              "      <td>Weekday</td>\n",
              "      <td>Winter</td>\n",
              "    </tr>\n",
              "    <tr>\n",
              "      <th>8537</th>\n",
              "      <td>2018-12-31 21:00:00</td>\n",
              "      <td>5</td>\n",
              "      <td>Monday</td>\n",
              "      <td>Fine</td>\n",
              "      <td>False</td>\n",
              "      <td>Dry</td>\n",
              "      <td>Darkness - lights lit</td>\n",
              "      <td>Urban</td>\n",
              "      <td>2018-12-31</td>\n",
              "      <td>31</td>\n",
              "      <td>21</td>\n",
              "      <td>December</td>\n",
              "      <td>12</td>\n",
              "      <td>Weekday</td>\n",
              "      <td>Winter</td>\n",
              "    </tr>\n",
              "    <tr>\n",
              "      <th>8538</th>\n",
              "      <td>2018-12-31 22:00:00</td>\n",
              "      <td>18</td>\n",
              "      <td>Monday</td>\n",
              "      <td>Fine</td>\n",
              "      <td>False</td>\n",
              "      <td>Dry</td>\n",
              "      <td>Darkness - lights lit</td>\n",
              "      <td>Urban</td>\n",
              "      <td>2018-12-31</td>\n",
              "      <td>31</td>\n",
              "      <td>22</td>\n",
              "      <td>December</td>\n",
              "      <td>12</td>\n",
              "      <td>Weekday</td>\n",
              "      <td>Winter</td>\n",
              "    </tr>\n",
              "    <tr>\n",
              "      <th>8539</th>\n",
              "      <td>2018-12-31 23:00:00</td>\n",
              "      <td>9</td>\n",
              "      <td>Monday</td>\n",
              "      <td>Fine</td>\n",
              "      <td>False</td>\n",
              "      <td>Dry</td>\n",
              "      <td>Darkness - lights lit</td>\n",
              "      <td>Urban</td>\n",
              "      <td>2018-12-31</td>\n",
              "      <td>31</td>\n",
              "      <td>23</td>\n",
              "      <td>December</td>\n",
              "      <td>12</td>\n",
              "      <td>Weekday</td>\n",
              "      <td>Winter</td>\n",
              "    </tr>\n",
              "  </tbody>\n",
              "</table>\n",
              "<p>2540 rows × 15 columns</p>\n",
              "</div>\n",
              "      <button class=\"colab-df-convert\" onclick=\"convertToInteractive('df-6875a509-b198-4358-8334-92f816fda4a8')\"\n",
              "              title=\"Convert this dataframe to an interactive table.\"\n",
              "              style=\"display:none;\">\n",
              "        \n",
              "  <svg xmlns=\"http://www.w3.org/2000/svg\" height=\"24px\"viewBox=\"0 0 24 24\"\n",
              "       width=\"24px\">\n",
              "    <path d=\"M0 0h24v24H0V0z\" fill=\"none\"/>\n",
              "    <path d=\"M18.56 5.44l.94 2.06.94-2.06 2.06-.94-2.06-.94-.94-2.06-.94 2.06-2.06.94zm-11 1L8.5 8.5l.94-2.06 2.06-.94-2.06-.94L8.5 2.5l-.94 2.06-2.06.94zm10 10l.94 2.06.94-2.06 2.06-.94-2.06-.94-.94-2.06-.94 2.06-2.06.94z\"/><path d=\"M17.41 7.96l-1.37-1.37c-.4-.4-.92-.59-1.43-.59-.52 0-1.04.2-1.43.59L10.3 9.45l-7.72 7.72c-.78.78-.78 2.05 0 2.83L4 21.41c.39.39.9.59 1.41.59.51 0 1.02-.2 1.41-.59l7.78-7.78 2.81-2.81c.8-.78.8-2.07 0-2.86zM5.41 20L4 18.59l7.72-7.72 1.47 1.35L5.41 20z\"/>\n",
              "  </svg>\n",
              "      </button>\n",
              "      \n",
              "  <style>\n",
              "    .colab-df-container {\n",
              "      display:flex;\n",
              "      flex-wrap:wrap;\n",
              "      gap: 12px;\n",
              "    }\n",
              "\n",
              "    .colab-df-convert {\n",
              "      background-color: #E8F0FE;\n",
              "      border: none;\n",
              "      border-radius: 50%;\n",
              "      cursor: pointer;\n",
              "      display: none;\n",
              "      fill: #1967D2;\n",
              "      height: 32px;\n",
              "      padding: 0 0 0 0;\n",
              "      width: 32px;\n",
              "    }\n",
              "\n",
              "    .colab-df-convert:hover {\n",
              "      background-color: #E2EBFA;\n",
              "      box-shadow: 0px 1px 2px rgba(60, 64, 67, 0.3), 0px 1px 3px 1px rgba(60, 64, 67, 0.15);\n",
              "      fill: #174EA6;\n",
              "    }\n",
              "\n",
              "    [theme=dark] .colab-df-convert {\n",
              "      background-color: #3B4455;\n",
              "      fill: #D2E3FC;\n",
              "    }\n",
              "\n",
              "    [theme=dark] .colab-df-convert:hover {\n",
              "      background-color: #434B5C;\n",
              "      box-shadow: 0px 1px 3px 1px rgba(0, 0, 0, 0.15);\n",
              "      filter: drop-shadow(0px 1px 2px rgba(0, 0, 0, 0.3));\n",
              "      fill: #FFFFFF;\n",
              "    }\n",
              "  </style>\n",
              "\n",
              "      <script>\n",
              "        const buttonEl =\n",
              "          document.querySelector('#df-6875a509-b198-4358-8334-92f816fda4a8 button.colab-df-convert');\n",
              "        buttonEl.style.display =\n",
              "          google.colab.kernel.accessAllowed ? 'block' : 'none';\n",
              "\n",
              "        async function convertToInteractive(key) {\n",
              "          const element = document.querySelector('#df-6875a509-b198-4358-8334-92f816fda4a8');\n",
              "          const dataTable =\n",
              "            await google.colab.kernel.invokeFunction('convertToInteractive',\n",
              "                                                     [key], {});\n",
              "          if (!dataTable) return;\n",
              "\n",
              "          const docLinkHtml = 'Like what you see? Visit the ' +\n",
              "            '<a target=\"_blank\" href=https://colab.research.google.com/notebooks/data_table.ipynb>data table notebook</a>'\n",
              "            + ' to learn more about interactive tables.';\n",
              "          element.innerHTML = '';\n",
              "          dataTable['output_type'] = 'display_data';\n",
              "          await google.colab.output.renderOutput(dataTable, element);\n",
              "          const docLink = document.createElement('div');\n",
              "          docLink.innerHTML = docLinkHtml;\n",
              "          element.appendChild(docLink);\n",
              "        }\n",
              "      </script>\n",
              "    </div>\n",
              "  </div>\n",
              "  "
            ],
            "text/plain": [
              "                datetime  Count Day_of_Week  ... month_n  Weekend  Season\n",
              "6000 2018-09-15 01:00:00      8    Saturday  ...       9  Weekend  Autumn\n",
              "6001 2018-09-15 02:00:00      4    Saturday  ...       9  Weekend  Autumn\n",
              "6002 2018-09-15 03:00:00      3    Saturday  ...       9  Weekend  Autumn\n",
              "6003 2018-09-15 04:00:00      5    Saturday  ...       9  Weekend  Autumn\n",
              "6004 2018-09-15 05:00:00      4    Saturday  ...       9  Weekend  Autumn\n",
              "...                  ...    ...         ...  ...     ...      ...     ...\n",
              "8535 2018-12-31 19:00:00     13      Monday  ...      12  Weekday  Winter\n",
              "8536 2018-12-31 20:00:00     12      Monday  ...      12  Weekday  Winter\n",
              "8537 2018-12-31 21:00:00      5      Monday  ...      12  Weekday  Winter\n",
              "8538 2018-12-31 22:00:00     18      Monday  ...      12  Weekday  Winter\n",
              "8539 2018-12-31 23:00:00      9      Monday  ...      12  Weekday  Winter\n",
              "\n",
              "[2540 rows x 15 columns]"
            ]
          },
          "metadata": {},
          "execution_count": 313
        }
      ]
    },
    {
      "cell_type": "code",
      "source": [
        "cat_names = ['Day_of_Week', 'Weekend','Precipitation', 'High_Winds',\n",
        "       'Road_Surface_Conditions', 'Light_Conditions', 'Urban_or_Rural_Area', 'month','Weekend','Season','hour']\n",
        "print(\"Unique count of categorical features:\")\n",
        "for i in cat_names:\n",
        "  print(i,df[i].unique().size)"
      ],
      "metadata": {
        "colab": {
          "base_uri": "https://localhost:8080/"
        },
        "id": "ywbnFsvJVAdn",
        "outputId": "36f00959-dca6-4140-ed34-3b915c807fd0"
      },
      "execution_count": 314,
      "outputs": [
        {
          "output_type": "stream",
          "name": "stdout",
          "text": [
            "Unique count of categorical features:\n",
            "Day_of_Week 7\n",
            "Weekend 2\n",
            "Precipitation 7\n",
            "High_Winds 2\n",
            "Road_Surface_Conditions 6\n",
            "Light_Conditions 5\n",
            "Urban_or_Rural_Area 2\n",
            "month 12\n",
            "Weekend 2\n",
            "Season 4\n",
            "hour 24\n"
          ]
        }
      ]
    },
    {
      "cell_type": "code",
      "source": [
        "for i in cat_names:\n",
        "  print(i,df[i].unique())"
      ],
      "metadata": {
        "id": "7SvxIL8RVROn",
        "outputId": "82fa412a-6168-4d57-9a39-f20d8b444421",
        "colab": {
          "base_uri": "https://localhost:8080/"
        }
      },
      "execution_count": 315,
      "outputs": [
        {
          "output_type": "stream",
          "name": "stdout",
          "text": [
            "Day_of_Week ['Monday' 'Tuesday' 'Wednesday' 'Thursday' 'Friday' 'Saturday' 'Sunday']\n",
            "Weekend ['Weekday' 'Weekend']\n",
            "Precipitation ['Fine' 'Other' 'Raining' 'Fog or mist' 'Unknown' 'Snowing'\n",
            " 'Data missing or out of range']\n",
            "High_Winds [False  True]\n",
            "Road_Surface_Conditions ['Dry' 'Wet or damp' 'Frost or ice' 'Snow' 'Flood over 3cm. deep'\n",
            " 'Data missing or out of range']\n",
            "Light_Conditions ['Darkness - lights lit' 'Daylight' 'Darkness - no lighting'\n",
            " 'Darkness - lighting unknown' 'Darkness - lights unlit']\n",
            "Urban_or_Rural_Area ['Urban' 'Rural']\n",
            "month ['January' 'February' 'March' 'April' 'May' 'June' 'July' 'August'\n",
            " 'September' 'October' 'November' 'December']\n",
            "Weekend ['Weekday' 'Weekend']\n",
            "Season ['Winter' 'Spring' 'Summer' 'Autumn']\n",
            "hour [ 0  1  2  3  4  5  6  7  8  9 10 11 12 13 14 15 16 17 18 19 20 21 22 23]\n"
          ]
        }
      ]
    },
    {
      "cell_type": "code",
      "source": [
        "print(f\"From \",df[\"day\"].min(), \"to \", df[\"day\"].max(),\": \" ,df.Count.sum(),\" accidents occured.\")"
      ],
      "metadata": {
        "colab": {
          "base_uri": "https://localhost:8080/"
        },
        "id": "8NyLyI_z5nWT",
        "outputId": "d721cd51-6199-45aa-d908-a525a8120e78"
      },
      "execution_count": 316,
      "outputs": [
        {
          "output_type": "stream",
          "name": "stdout",
          "text": [
            "From  2018-01-01 00:00:00 to  2018-12-31 00:00:00 :  122622  accidents occured.\n"
          ]
        }
      ]
    },
    {
      "cell_type": "code",
      "source": [
        "acc_daily = df.groupby(\"day\").sum(\"Count\")\n",
        "acc_daily.drop(columns=[\"High_Winds\",\"day_n\",\"month_n\",'hour'],inplace=True)\n",
        "\n",
        "plt.figure(figsize=(10,8))\n",
        "plt.title(\"Daily accident count\")\n",
        "plt.plot(acc_daily)\n",
        "plt.xlabel(\"Day\")\n",
        "plt.ylabel(\"Total daily number of accidents\")\n",
        "plt.show()"
      ],
      "metadata": {
        "colab": {
          "base_uri": "https://localhost:8080/",
          "height": 513
        },
        "id": "Z9WPMrVodJrP",
        "outputId": "e17e1d9f-922f-4063-a4c5-72a2b5358fe4"
      },
      "execution_count": 317,
      "outputs": [
        {
          "output_type": "display_data",
          "data": {
            "image/png": "[encoded data removed]",
            "text/plain": [
              "<Figure size 720x576 with 1 Axes>"
            ]
          },
          "metadata": {
            "needs_background": "light"
          }
        }
      ]
    },
    {
      "cell_type": "markdown",
      "source": [
        "### **2) Train / Test Split**"
      ],
      "metadata": {
        "id": "ztKPc3Pk5XUC"
      }
    },
    {
      "cell_type": "code",
      "source": [
        "train_set,test_set = train_test_split(df,test_size=0.2, random_state=7, shuffle=False)\n",
        "print(f\"{train_set.shape[0]} train and {test_set.shape[0]} test instances\")"
      ],
      "metadata": {
        "colab": {
          "base_uri": "https://localhost:8080/"
        },
        "id": "3ndD7VOZd1MC",
        "outputId": "8864af72-80ff-4cda-9464-444fd07d16fd"
      },
      "execution_count": 318,
      "outputs": [
        {
          "output_type": "stream",
          "name": "stdout",
          "text": [
            "6832 train and 1708 test instances\n"
          ]
        }
      ]
    },
    {
      "cell_type": "markdown",
      "source": [
        "### **3) EDA & Descriptive Statistics**"
      ],
      "metadata": {
        "id": "S3HHPEK46ywj"
      }
    },
    {
      "cell_type": "code",
      "source": [
        "acc_daily_train = train_set.groupby(\"day\").sum(\"Count\")\n",
        "acc_daily_train.drop(columns=[\"High_Winds\",\"day_n\",\"month_n\",'hour'],inplace=True)\n",
        "#acc_daily_train\n",
        "plt.figure(figsize=(10,8))\n",
        "plt.title(\"Daily accident count\")\n",
        "plt.plot(acc_daily_train)\n",
        "plt.xlabel(\"Day\")\n",
        "plt.ylabel(\"Total daily number of accidents\")\n",
        "plt.show()"
      ],
      "metadata": {
        "colab": {
          "base_uri": "https://localhost:8080/",
          "height": 0
        },
        "id": "ES47JZl73zAl",
        "outputId": "bae54509-3f58-4bbb-e34e-f24a6451b033"
      },
      "execution_count": 319,
      "outputs": [
        {
          "output_type": "display_data",
          "data": {
            "image/png": "[encoded data removed]",
            "text/plain": [
              "<Figure size 720x576 with 1 Axes>"
            ]
          },
          "metadata": {
            "needs_background": "light"
          }
        }
      ]
    },
    {
      "cell_type": "code",
      "source": [
        "print(f\"As the graph shows the daily accident numbers swing between:\", acc_daily_train[\"Count\"].max(),\"as maximum and\",acc_daily_train[\"Count\"].min(),\"minimun.\" )"
      ],
      "metadata": {
        "colab": {
          "base_uri": "https://localhost:8080/"
        },
        "id": "TKrVBEkS7IC5",
        "outputId": "5ced8a01-6a16-4705-83a2-36cd2427a313"
      },
      "execution_count": 320,
      "outputs": [
        {
          "output_type": "stream",
          "name": "stdout",
          "text": [
            "As the graph shows the daily accident numbers swing between: 504 as maximum and 21 minimun.\n"
          ]
        }
      ]
    },
    {
      "cell_type": "code",
      "source": [
        "train_set.columns"
      ],
      "metadata": {
        "colab": {
          "base_uri": "https://localhost:8080/"
        },
        "id": "Z5p7s7wT4bVi",
        "outputId": "8d885ff9-5445-4502-e711-a7a21f0b2675"
      },
      "execution_count": 321,
      "outputs": [
        {
          "output_type": "execute_result",
          "data": {
            "text/plain": [
              "Index(['datetime', 'Count', 'Day_of_Week', 'Precipitation', 'High_Winds',\n",
              "       'Road_Surface_Conditions', 'Light_Conditions', 'Urban_or_Rural_Area',\n",
              "       'day', 'day_n', 'hour', 'month', 'month_n', 'Weekend', 'Season'],\n",
              "      dtype='object')"
            ]
          },
          "metadata": {},
          "execution_count": 321
        }
      ]
    },
    {
      "cell_type": "code",
      "source": [
        "c = 1\n",
        "\n",
        "fig = plt.figure(figsize=(17,5))\n",
        "\n",
        "for i in df[[\"Day_of_Week\",'hour','month','Season']]:\n",
        "    plt.subplot(1, 4, c)\n",
        "    plt.title(f'Accident count by {i}')\n",
        "    plt.xlabel(i)\n",
        "    plt.xticks(rotation=70)\n",
        "    sns.barplot(x=i,y=\"Count\",data=train_set,estimator=sum, palette=\"Blues_d\")\n",
        "    c = c + 1\n",
        "\n",
        "plt.show()"
      ],
      "metadata": {
        "colab": {
          "base_uri": "https://localhost:8080/",
          "height": 0
        },
        "id": "mmgUj3nfmD4D",
        "outputId": "4a386761-7b33-4d94-ef42-051802b13b5c"
      },
      "execution_count": 322,
      "outputs": [
        {
          "output_type": "display_data",
          "data": {
            "image/png": "[encoded data removed]",
            "text/plain": [
              "<Figure size 1224x360 with 4 Axes>"
            ]
          },
          "metadata": {
            "needs_background": "light"
          }
        }
      ]
    },
    {
      "cell_type": "markdown",
      "source": [
        "Concerning the date and time of the data one can recognize that accidents are evenly distributed between the weekdays and only *sligthly* peak on Fridays and have a *slight* bottom on Sundays. \n",
        "Regarding the hours there is a more clear distribution towards the rush hour hours from 16:00 to 18:00 as well as in the mornings between 7:00 and 9:00. "
      ],
      "metadata": {
        "id": "RkbTK8z_we0z"
      }
    },
    {
      "cell_type": "code",
      "source": [
        "c = 1\n",
        "\n",
        "fig = plt.figure(figsize=(20,10))\n",
        "\n",
        "for i in df[['Precipitation',\n",
        "       'High_Winds', 'Road_Surface_Conditions', 'Light_Conditions',\n",
        "       'Urban_or_Rural_Area']]:\n",
        "    plt.subplot(2, 3, c)\n",
        "    plt.subplots_adjust(hspace=1)\n",
        "    plt.title(f'Accident count by {i}')\n",
        "    plt.xlabel(i)\n",
        "    plt.xticks(rotation=70)\n",
        "    sns.barplot(x=i,y=\"Count\",data=test_set,estimator=sum, palette=\"Blues_d\")\n",
        "    c = c + 1\n",
        "\n",
        "plt.show()"
      ],
      "metadata": {
        "colab": {
          "base_uri": "https://localhost:8080/",
          "height": 0
        },
        "id": "qXXA3kW0xKoG",
        "outputId": "3ac75f6c-e717-46fc-d1cd-bacbfaa562df"
      },
      "execution_count": 323,
      "outputs": [
        {
          "output_type": "display_data",
          "data": {
            "image/png": "[encoded data removed]",
            "text/plain": [
              "<Figure size 1440x720 with 5 Axes>"
            ]
          },
          "metadata": {
            "needs_background": "light"
          }
        }
      ]
    },
    {
      "cell_type": "code",
      "source": [
        "fig,axes = plt.subplots(1,2,figsize=(10,5))\n",
        "sns.barplot(ax= axes[0], data=df, x='month', y='Count',estimator=sum,palette=\"Blues_d\")\n",
        "sns.barplot(ax=axes[1], data=df, x='Weekend', y='Count',estimator=sum,palette=\"Blues_d\")\n",
        "plt.show()"
      ],
      "metadata": {
        "colab": {
          "base_uri": "https://localhost:8080/",
          "height": 0
        },
        "id": "YdxbuwrwIHY6",
        "outputId": "606d8f8b-62d1-453b-e9e0-7c1c7ad0b717"
      },
      "execution_count": 324,
      "outputs": [
        {
          "output_type": "display_data",
          "data": {
            "image/png": "[encoded data removed]",
            "text/plain": [
              "<Figure size 720x360 with 2 Axes>"
            ]
          },
          "metadata": {
            "needs_background": "light"
          }
        }
      ]
    },
    {
      "cell_type": "code",
      "source": [
        "plt.figure(figsize=(8,4))\n",
        "sns.histplot(data=train_set, x=\"Count\")\n",
        "plt.title(\"Hourly accident count distribution\")\n",
        "plt.xlabel(\"Hourly accident count\")\n",
        "plt.show()"
      ],
      "metadata": {
        "colab": {
          "base_uri": "https://localhost:8080/",
          "height": 0
        },
        "id": "SJLp01zPKZyX",
        "outputId": "2c51c004-545a-4490-d263-92e24eb1b0fb"
      },
      "execution_count": 325,
      "outputs": [
        {
          "output_type": "display_data",
          "data": {
            "image/png": "[encoded data removed]",
            "text/plain": [
              "<Figure size 576x288 with 1 Axes>"
            ]
          },
          "metadata": {
            "needs_background": "light"
          }
        }
      ]
    },
    {
      "cell_type": "markdown",
      "source": [
        "### 4) **Data Preprocessing**"
      ],
      "metadata": {
        "id": "xpbax71fOPif"
      }
    },
    {
      "cell_type": "code",
      "source": [
        "train_set.isna().sum()"
      ],
      "metadata": {
        "colab": {
          "base_uri": "https://localhost:8080/"
        },
        "id": "r27Z1IUrOYOU",
        "outputId": "7b27a3eb-6134-465e-9639-a2ab56eb5eec"
      },
      "execution_count": 326,
      "outputs": [
        {
          "output_type": "execute_result",
          "data": {
            "text/plain": [
              "datetime                   0\n",
              "Count                      0\n",
              "Day_of_Week                0\n",
              "Precipitation              0\n",
              "High_Winds                 0\n",
              "Road_Surface_Conditions    0\n",
              "Light_Conditions           0\n",
              "Urban_or_Rural_Area        0\n",
              "day                        0\n",
              "day_n                      0\n",
              "hour                       0\n",
              "month                      0\n",
              "month_n                    0\n",
              "Weekend                    0\n",
              "Season                     0\n",
              "dtype: int64"
            ]
          },
          "metadata": {},
          "execution_count": 326
        }
      ]
    },
    {
      "cell_type": "code",
      "source": [
        "\n",
        "for i in train_set[['Day_of_Week', 'Precipitation', 'High_Winds',\n",
        "       'Road_Surface_Conditions', 'Light_Conditions', 'Urban_or_Rural_Area']]:\n",
        "    x = train_set[i].value_counts()\n",
        "    print(\"Column name is: \",i,\"and its unique value counts are:\",x)"
      ],
      "metadata": {
        "colab": {
          "base_uri": "https://localhost:8080/"
        },
        "id": "kQ6ne9VDLazo",
        "outputId": "47d6e069-add8-4053-d57a-88345d77c3ba"
      },
      "execution_count": 327,
      "outputs": [
        {
          "output_type": "stream",
          "name": "stdout",
          "text": [
            "Column name is:  Day_of_Week and its unique value counts are: Saturday     985\n",
            "Friday       982\n",
            "Sunday       981\n",
            "Monday       979\n",
            "Wednesday    972\n",
            "Thursday     971\n",
            "Tuesday      962\n",
            "Name: Day_of_Week, dtype: int64\n",
            "Column name is:  Precipitation and its unique value counts are: Fine                            6094\n",
            "Raining                          528\n",
            "Snowing                          116\n",
            "Other                             41\n",
            "Unknown                           37\n",
            "Fog or mist                       15\n",
            "Data missing or out of range       1\n",
            "Name: Precipitation, dtype: int64\n",
            "Column name is:  High_Winds and its unique value counts are: False    6775\n",
            "True       57\n",
            "Name: High_Winds, dtype: int64\n",
            "Column name is:  Road_Surface_Conditions and its unique value counts are: Dry                             5346\n",
            "Wet or damp                     1308\n",
            "Snow                             115\n",
            "Frost or ice                      49\n",
            "Data missing or out of range       9\n",
            "Flood over 3cm. deep               5\n",
            "Name: Road_Surface_Conditions, dtype: int64\n",
            "Column name is:  Light_Conditions and its unique value counts are: Daylight                       4113\n",
            "Darkness - lights lit          2216\n",
            "Darkness - no lighting          397\n",
            "Darkness - lighting unknown      84\n",
            "Darkness - lights unlit          22\n",
            "Name: Light_Conditions, dtype: int64\n",
            "Column name is:  Urban_or_Rural_Area and its unique value counts are: Urban    5457\n",
            "Rural    1375\n",
            "Name: Urban_or_Rural_Area, dtype: int64\n"
          ]
        }
      ]
    },
    {
      "cell_type": "code",
      "source": [
        "train_set.loc[train_set[\"Road_Surface_Conditions\"].str.contains(\"Flood\"), \"Road_Surface_Conditions\"] = \"Wet or damp\""
      ],
      "metadata": {
        "id": "CEssczUuDkdc"
      },
      "execution_count": 328,
      "outputs": []
    },
    {
      "cell_type": "code",
      "source": [
        "indexNames = train_set[(train_set['Precipitation'] == \"Unknown\") | (train_set['Precipitation'] == \"Data missing or out of range\") | (train_set[\"Road_Surface_Conditions\"] == \"Data missing or out of range\")].index\n",
        "train_set.drop(indexNames , inplace=True)\n"
      ],
      "metadata": {
        "id": "mcUKAJiyGsfc"
      },
      "execution_count": 329,
      "outputs": []
    },
    {
      "cell_type": "code",
      "source": [
        "for i in train_set[['Day_of_Week', 'Precipitation', 'High_Winds',\n",
        "       'Road_Surface_Conditions', 'Light_Conditions', 'Urban_or_Rural_Area']]:\n",
        "    x = train_set[i].value_counts()\n",
        "    print(\"Column name is: \",i,\"and its unique value counts are:\",x)"
      ],
      "metadata": {
        "colab": {
          "base_uri": "https://localhost:8080/"
        },
        "id": "cvmBV61nF1i0",
        "outputId": "6f211fde-5662-40d0-c059-0c5280f65777"
      },
      "execution_count": 330,
      "outputs": [
        {
          "output_type": "stream",
          "name": "stdout",
          "text": [
            "Column name is:  Day_of_Week and its unique value counts are: Saturday     981\n",
            "Friday       977\n",
            "Monday       975\n",
            "Sunday       973\n",
            "Thursday     967\n",
            "Wednesday    967\n",
            "Tuesday      952\n",
            "Name: Day_of_Week, dtype: int64\n",
            "Column name is:  Precipitation and its unique value counts are: Fine           6092\n",
            "Raining         528\n",
            "Snowing         116\n",
            "Other            41\n",
            "Fog or mist      15\n",
            "Name: Precipitation, dtype: int64\n",
            "Column name is:  High_Winds and its unique value counts are: False    6735\n",
            "True       57\n",
            "Name: High_Winds, dtype: int64\n",
            "Column name is:  Road_Surface_Conditions and its unique value counts are: Dry             5329\n",
            "Wet or damp     1300\n",
            "Snow             115\n",
            "Frost or ice      48\n",
            "Name: Road_Surface_Conditions, dtype: int64\n",
            "Column name is:  Light_Conditions and its unique value counts are: Daylight                       4107\n",
            "Darkness - lights lit          2202\n",
            "Darkness - no lighting          386\n",
            "Darkness - lighting unknown      75\n",
            "Darkness - lights unlit          22\n",
            "Name: Light_Conditions, dtype: int64\n",
            "Column name is:  Urban_or_Rural_Area and its unique value counts are: Urban    5434\n",
            "Rural    1358\n",
            "Name: Urban_or_Rural_Area, dtype: int64\n"
          ]
        }
      ]
    },
    {
      "cell_type": "markdown",
      "source": [
        "Comparing the value counts of each feature, \"Data that was out of range\", \"Unknown\" was dropped from the dataset. Furthermore, 5 lines of data with the value \"Flood over 3cm was attached to \"wet or dump surface conditions\"."
      ],
      "metadata": {
        "id": "sLn5TvZdIGls"
      }
    },
    {
      "cell_type": "markdown",
      "source": [
        "**4) Label Encoding and dummy variables**\n"
      ],
      "metadata": {
        "id": "1GxV9ifsf-Fs"
      }
    },
    {
      "cell_type": "code",
      "source": [
        "cat_vals = ['Precipitation', 'High_Winds','Road_Surface_Conditions', 'Light_Conditions', 'Urban_or_Rural_Area', 'Weekend','Season']\n",
        "vals = train_set[cat_vals]"
      ],
      "metadata": {
        "id": "3xau10Xji7qo"
      },
      "execution_count": 331,
      "outputs": []
    },
    {
      "cell_type": "code",
      "source": [
        "categ = ['Precipitation','High_Winds',\n",
        "       'Road_Surface_Conditions', 'Light_Conditions', 'Urban_or_Rural_Area','Weekend', 'Season']\n",
        "lenc = LabelEncoder()"
      ],
      "metadata": {
        "id": "2L0py_heW792"
      },
      "execution_count": 332,
      "outputs": []
    },
    {
      "cell_type": "code",
      "source": [
        "train_set_lenc = train_set"
      ],
      "metadata": {
        "id": "eTzXVt7OeQht"
      },
      "execution_count": 333,
      "outputs": []
    },
    {
      "cell_type": "code",
      "source": [
        "train_set_lenc[categ] = train_set_lenc[categ].apply(lenc.fit_transform)"
      ],
      "metadata": {
        "id": "aFF05JOPf4BG"
      },
      "execution_count": 334,
      "outputs": []
    },
    {
      "cell_type": "code",
      "source": [
        "train_set_lenc.columns"
      ],
      "metadata": {
        "colab": {
          "base_uri": "https://localhost:8080/"
        },
        "id": "S4Zk77KJk6n7",
        "outputId": "0b4a8616-d284-4d17-9209-b21cb5d16f35"
      },
      "execution_count": 335,
      "outputs": [
        {
          "output_type": "execute_result",
          "data": {
            "text/plain": [
              "Index(['datetime', 'Count', 'Day_of_Week', 'Precipitation', 'High_Winds',\n",
              "       'Road_Surface_Conditions', 'Light_Conditions', 'Urban_or_Rural_Area',\n",
              "       'day', 'day_n', 'hour', 'month', 'month_n', 'Weekend', 'Season'],\n",
              "      dtype='object')"
            ]
          },
          "metadata": {},
          "execution_count": 335
        }
      ]
    },
    {
      "cell_type": "code",
      "source": [
        "train_set_lenc = train_set_lenc[['datetime', 'Count', 'Precipitation', 'High_Winds',\n",
        "       'Road_Surface_Conditions', 'Light_Conditions', 'Urban_or_Rural_Area', 'day_n', 'hour', 'month_n', 'Weekend', 'Season']]\n",
        "train_set_lenc.head()"
      ],
      "metadata": {
        "colab": {
          "base_uri": "https://localhost:8080/",
          "height": 0
        },
        "id": "qihqCjiOl1yL",
        "outputId": "87197d6d-8ff2-4a92-f272-b01283a653d3"
      },
      "execution_count": 336,
      "outputs": [
        {
          "output_type": "execute_result",
          "data": {
            "text/html": [
              "\n",
              "  <div id=\"df-46827b00-e13f-4ce1-baba-89848a380876\">\n",
              "    <div class=\"colab-df-container\">\n",
              "      <div>\n",
              "<style scoped>\n",
              "    .dataframe tbody tr th:only-of-type {\n",
              "        vertical-align: middle;\n",
              "    }\n",
              "\n",
              "    .dataframe tbody tr th {\n",
              "        vertical-align: top;\n",
              "    }\n",
              "\n",
              "    .dataframe thead th {\n",
              "        text-align: right;\n",
              "    }\n",
              "</style>\n",
              "<table border=\"1\" class=\"dataframe\">\n",
              "  <thead>\n",
              "    <tr style=\"text-align: right;\">\n",
              "      <th></th>\n",
              "      <th>datetime</th>\n",
              "      <th>Count</th>\n",
              "      <th>Precipitation</th>\n",
              "      <th>High_Winds</th>\n",
              "      <th>Road_Surface_Conditions</th>\n",
              "      <th>Light_Conditions</th>\n",
              "      <th>Urban_or_Rural_Area</th>\n",
              "      <th>day_n</th>\n",
              "      <th>hour</th>\n",
              "      <th>month_n</th>\n",
              "      <th>Weekend</th>\n",
              "      <th>Season</th>\n",
              "    </tr>\n",
              "  </thead>\n",
              "  <tbody>\n",
              "    <tr>\n",
              "      <th>0</th>\n",
              "      <td>2018-01-01 00:00:00</td>\n",
              "      <td>18</td>\n",
              "      <td>0</td>\n",
              "      <td>0</td>\n",
              "      <td>0</td>\n",
              "      <td>1</td>\n",
              "      <td>1</td>\n",
              "      <td>1</td>\n",
              "      <td>0</td>\n",
              "      <td>1</td>\n",
              "      <td>0</td>\n",
              "      <td>3</td>\n",
              "    </tr>\n",
              "    <tr>\n",
              "      <th>1</th>\n",
              "      <td>2018-01-01 01:00:00</td>\n",
              "      <td>9</td>\n",
              "      <td>0</td>\n",
              "      <td>0</td>\n",
              "      <td>3</td>\n",
              "      <td>1</td>\n",
              "      <td>1</td>\n",
              "      <td>1</td>\n",
              "      <td>1</td>\n",
              "      <td>1</td>\n",
              "      <td>0</td>\n",
              "      <td>3</td>\n",
              "    </tr>\n",
              "    <tr>\n",
              "      <th>2</th>\n",
              "      <td>2018-01-01 02:00:00</td>\n",
              "      <td>14</td>\n",
              "      <td>0</td>\n",
              "      <td>0</td>\n",
              "      <td>3</td>\n",
              "      <td>1</td>\n",
              "      <td>1</td>\n",
              "      <td>1</td>\n",
              "      <td>2</td>\n",
              "      <td>1</td>\n",
              "      <td>0</td>\n",
              "      <td>3</td>\n",
              "    </tr>\n",
              "    <tr>\n",
              "      <th>3</th>\n",
              "      <td>2018-01-01 03:00:00</td>\n",
              "      <td>10</td>\n",
              "      <td>0</td>\n",
              "      <td>0</td>\n",
              "      <td>3</td>\n",
              "      <td>1</td>\n",
              "      <td>1</td>\n",
              "      <td>1</td>\n",
              "      <td>3</td>\n",
              "      <td>1</td>\n",
              "      <td>0</td>\n",
              "      <td>3</td>\n",
              "    </tr>\n",
              "    <tr>\n",
              "      <th>4</th>\n",
              "      <td>2018-01-01 04:00:00</td>\n",
              "      <td>8</td>\n",
              "      <td>0</td>\n",
              "      <td>0</td>\n",
              "      <td>0</td>\n",
              "      <td>1</td>\n",
              "      <td>1</td>\n",
              "      <td>1</td>\n",
              "      <td>4</td>\n",
              "      <td>1</td>\n",
              "      <td>0</td>\n",
              "      <td>3</td>\n",
              "    </tr>\n",
              "  </tbody>\n",
              "</table>\n",
              "</div>\n",
              "      <button class=\"colab-df-convert\" onclick=\"convertToInteractive('df-46827b00-e13f-4ce1-baba-89848a380876')\"\n",
              "              title=\"Convert this dataframe to an interactive table.\"\n",
              "              style=\"display:none;\">\n",
              "        \n",
              "  <svg xmlns=\"http://www.w3.org/2000/svg\" height=\"24px\"viewBox=\"0 0 24 24\"\n",
              "       width=\"24px\">\n",
              "    <path d=\"M0 0h24v24H0V0z\" fill=\"none\"/>\n",
              "    <path d=\"M18.56 5.44l.94 2.06.94-2.06 2.06-.94-2.06-.94-.94-2.06-.94 2.06-2.06.94zm-11 1L8.5 8.5l.94-2.06 2.06-.94-2.06-.94L8.5 2.5l-.94 2.06-2.06.94zm10 10l.94 2.06.94-2.06 2.06-.94-2.06-.94-.94-2.06-.94 2.06-2.06.94z\"/><path d=\"M17.41 7.96l-1.37-1.37c-.4-.4-.92-.59-1.43-.59-.52 0-1.04.2-1.43.59L10.3 9.45l-7.72 7.72c-.78.78-.78 2.05 0 2.83L4 21.41c.39.39.9.59 1.41.59.51 0 1.02-.2 1.41-.59l7.78-7.78 2.81-2.81c.8-.78.8-2.07 0-2.86zM5.41 20L4 18.59l7.72-7.72 1.47 1.35L5.41 20z\"/>\n",
              "  </svg>\n",
              "      </button>\n",
              "      \n",
              "  <style>\n",
              "    .colab-df-container {\n",
              "      display:flex;\n",
              "      flex-wrap:wrap;\n",
              "      gap: 12px;\n",
              "    }\n",
              "\n",
              "    .colab-df-convert {\n",
              "      background-color: #E8F0FE;\n",
              "      border: none;\n",
              "      border-radius: 50%;\n",
              "      cursor: pointer;\n",
              "      display: none;\n",
              "      fill: #1967D2;\n",
              "      height: 32px;\n",
              "      padding: 0 0 0 0;\n",
              "      width: 32px;\n",
              "    }\n",
              "\n",
              "    .colab-df-convert:hover {\n",
              "      background-color: #E2EBFA;\n",
              "      box-shadow: 0px 1px 2px rgba(60, 64, 67, 0.3), 0px 1px 3px 1px rgba(60, 64, 67, 0.15);\n",
              "      fill: #174EA6;\n",
              "    }\n",
              "\n",
              "    [theme=dark] .colab-df-convert {\n",
              "      background-color: #3B4455;\n",
              "      fill: #D2E3FC;\n",
              "    }\n",
              "\n",
              "    [theme=dark] .colab-df-convert:hover {\n",
              "      background-color: #434B5C;\n",
              "      box-shadow: 0px 1px 3px 1px rgba(0, 0, 0, 0.15);\n",
              "      filter: drop-shadow(0px 1px 2px rgba(0, 0, 0, 0.3));\n",
              "      fill: #FFFFFF;\n",
              "    }\n",
              "  </style>\n",
              "\n",
              "      <script>\n",
              "        const buttonEl =\n",
              "          document.querySelector('#df-46827b00-e13f-4ce1-baba-89848a380876 button.colab-df-convert');\n",
              "        buttonEl.style.display =\n",
              "          google.colab.kernel.accessAllowed ? 'block' : 'none';\n",
              "\n",
              "        async function convertToInteractive(key) {\n",
              "          const element = document.querySelector('#df-46827b00-e13f-4ce1-baba-89848a380876');\n",
              "          const dataTable =\n",
              "            await google.colab.kernel.invokeFunction('convertToInteractive',\n",
              "                                                     [key], {});\n",
              "          if (!dataTable) return;\n",
              "\n",
              "          const docLinkHtml = 'Like what you see? Visit the ' +\n",
              "            '<a target=\"_blank\" href=https://colab.research.google.com/notebooks/data_table.ipynb>data table notebook</a>'\n",
              "            + ' to learn more about interactive tables.';\n",
              "          element.innerHTML = '';\n",
              "          dataTable['output_type'] = 'display_data';\n",
              "          await google.colab.output.renderOutput(dataTable, element);\n",
              "          const docLink = document.createElement('div');\n",
              "          docLink.innerHTML = docLinkHtml;\n",
              "          element.appendChild(docLink);\n",
              "        }\n",
              "      </script>\n",
              "    </div>\n",
              "  </div>\n",
              "  "
            ],
            "text/plain": [
              "             datetime  Count  Precipitation  ...  month_n  Weekend  Season\n",
              "0 2018-01-01 00:00:00     18              0  ...        1        0       3\n",
              "1 2018-01-01 01:00:00      9              0  ...        1        0       3\n",
              "2 2018-01-01 02:00:00     14              0  ...        1        0       3\n",
              "3 2018-01-01 03:00:00     10              0  ...        1        0       3\n",
              "4 2018-01-01 04:00:00      8              0  ...        1        0       3\n",
              "\n",
              "[5 rows x 12 columns]"
            ]
          },
          "metadata": {},
          "execution_count": 336
        }
      ]
    },
    {
      "cell_type": "code",
      "source": [
        "test_set_lenc = test_set\n",
        "test_set_lenc[categ] = test_set_lenc[categ].apply(lenc.fit_transform)\n",
        "test_set_lenc = test_set_lenc[['datetime', 'Count', 'Precipitation', 'High_Winds',\n",
        "       'Road_Surface_Conditions', 'Light_Conditions', 'Urban_or_Rural_Area', 'day_n', 'hour', 'month_n', 'Weekend', 'Season']]\n",
        "test_set_lenc.head()"
      ],
      "metadata": {
        "colab": {
          "base_uri": "https://localhost:8080/",
          "height": 0
        },
        "id": "NEn0uaPB8pYR",
        "outputId": "404b5765-2759-4c72-a8f2-15ada8447566"
      },
      "execution_count": 337,
      "outputs": [
        {
          "output_type": "execute_result",
          "data": {
            "text/html": [
              "\n",
              "  <div id=\"df-f92b0e80-82ed-47b0-9202-0a93ae0b2d2c\">\n",
              "    <div class=\"colab-df-container\">\n",
              "      <div>\n",
              "<style scoped>\n",
              "    .dataframe tbody tr th:only-of-type {\n",
              "        vertical-align: middle;\n",
              "    }\n",
              "\n",
              "    .dataframe tbody tr th {\n",
              "        vertical-align: top;\n",
              "    }\n",
              "\n",
              "    .dataframe thead th {\n",
              "        text-align: right;\n",
              "    }\n",
              "</style>\n",
              "<table border=\"1\" class=\"dataframe\">\n",
              "  <thead>\n",
              "    <tr style=\"text-align: right;\">\n",
              "      <th></th>\n",
              "      <th>datetime</th>\n",
              "      <th>Count</th>\n",
              "      <th>Precipitation</th>\n",
              "      <th>High_Winds</th>\n",
              "      <th>Road_Surface_Conditions</th>\n",
              "      <th>Light_Conditions</th>\n",
              "      <th>Urban_or_Rural_Area</th>\n",
              "      <th>day_n</th>\n",
              "      <th>hour</th>\n",
              "      <th>month_n</th>\n",
              "      <th>Weekend</th>\n",
              "      <th>Season</th>\n",
              "    </tr>\n",
              "  </thead>\n",
              "  <tbody>\n",
              "    <tr>\n",
              "      <th>6832</th>\n",
              "      <td>2018-10-20 05:00:00</td>\n",
              "      <td>2</td>\n",
              "      <td>0</td>\n",
              "      <td>0</td>\n",
              "      <td>1</td>\n",
              "      <td>1</td>\n",
              "      <td>0</td>\n",
              "      <td>20</td>\n",
              "      <td>5</td>\n",
              "      <td>10</td>\n",
              "      <td>1</td>\n",
              "      <td>0</td>\n",
              "    </tr>\n",
              "    <tr>\n",
              "      <th>6833</th>\n",
              "      <td>2018-10-20 06:00:00</td>\n",
              "      <td>3</td>\n",
              "      <td>1</td>\n",
              "      <td>0</td>\n",
              "      <td>1</td>\n",
              "      <td>3</td>\n",
              "      <td>1</td>\n",
              "      <td>20</td>\n",
              "      <td>6</td>\n",
              "      <td>10</td>\n",
              "      <td>1</td>\n",
              "      <td>0</td>\n",
              "    </tr>\n",
              "    <tr>\n",
              "      <th>6834</th>\n",
              "      <td>2018-10-20 07:00:00</td>\n",
              "      <td>7</td>\n",
              "      <td>0</td>\n",
              "      <td>0</td>\n",
              "      <td>1</td>\n",
              "      <td>4</td>\n",
              "      <td>0</td>\n",
              "      <td>20</td>\n",
              "      <td>7</td>\n",
              "      <td>10</td>\n",
              "      <td>1</td>\n",
              "      <td>0</td>\n",
              "    </tr>\n",
              "    <tr>\n",
              "      <th>6835</th>\n",
              "      <td>2018-10-20 08:00:00</td>\n",
              "      <td>3</td>\n",
              "      <td>0</td>\n",
              "      <td>0</td>\n",
              "      <td>1</td>\n",
              "      <td>4</td>\n",
              "      <td>0</td>\n",
              "      <td>20</td>\n",
              "      <td>8</td>\n",
              "      <td>10</td>\n",
              "      <td>1</td>\n",
              "      <td>0</td>\n",
              "    </tr>\n",
              "    <tr>\n",
              "      <th>6836</th>\n",
              "      <td>2018-10-20 09:00:00</td>\n",
              "      <td>12</td>\n",
              "      <td>0</td>\n",
              "      <td>0</td>\n",
              "      <td>1</td>\n",
              "      <td>4</td>\n",
              "      <td>1</td>\n",
              "      <td>20</td>\n",
              "      <td>9</td>\n",
              "      <td>10</td>\n",
              "      <td>1</td>\n",
              "      <td>0</td>\n",
              "    </tr>\n",
              "  </tbody>\n",
              "</table>\n",
              "</div>\n",
              "      <button class=\"colab-df-convert\" onclick=\"convertToInteractive('df-f92b0e80-82ed-47b0-9202-0a93ae0b2d2c')\"\n",
              "              title=\"Convert this dataframe to an interactive table.\"\n",
              "              style=\"display:none;\">\n",
              "        \n",
              "  <svg xmlns=\"http://www.w3.org/2000/svg\" height=\"24px\"viewBox=\"0 0 24 24\"\n",
              "       width=\"24px\">\n",
              "    <path d=\"M0 0h24v24H0V0z\" fill=\"none\"/>\n",
              "    <path d=\"M18.56 5.44l.94 2.06.94-2.06 2.06-.94-2.06-.94-.94-2.06-.94 2.06-2.06.94zm-11 1L8.5 8.5l.94-2.06 2.06-.94-2.06-.94L8.5 2.5l-.94 2.06-2.06.94zm10 10l.94 2.06.94-2.06 2.06-.94-2.06-.94-.94-2.06-.94 2.06-2.06.94z\"/><path d=\"M17.41 7.96l-1.37-1.37c-.4-.4-.92-.59-1.43-.59-.52 0-1.04.2-1.43.59L10.3 9.45l-7.72 7.72c-.78.78-.78 2.05 0 2.83L4 21.41c.39.39.9.59 1.41.59.51 0 1.02-.2 1.41-.59l7.78-7.78 2.81-2.81c.8-.78.8-2.07 0-2.86zM5.41 20L4 18.59l7.72-7.72 1.47 1.35L5.41 20z\"/>\n",
              "  </svg>\n",
              "      </button>\n",
              "      \n",
              "  <style>\n",
              "    .colab-df-container {\n",
              "      display:flex;\n",
              "      flex-wrap:wrap;\n",
              "      gap: 12px;\n",
              "    }\n",
              "\n",
              "    .colab-df-convert {\n",
              "      background-color: #E8F0FE;\n",
              "      border: none;\n",
              "      border-radius: 50%;\n",
              "      cursor: pointer;\n",
              "      display: none;\n",
              "      fill: #1967D2;\n",
              "      height: 32px;\n",
              "      padding: 0 0 0 0;\n",
              "      width: 32px;\n",
              "    }\n",
              "\n",
              "    .colab-df-convert:hover {\n",
              "      background-color: #E2EBFA;\n",
              "      box-shadow: 0px 1px 2px rgba(60, 64, 67, 0.3), 0px 1px 3px 1px rgba(60, 64, 67, 0.15);\n",
              "      fill: #174EA6;\n",
              "    }\n",
              "\n",
              "    [theme=dark] .colab-df-convert {\n",
              "      background-color: #3B4455;\n",
              "      fill: #D2E3FC;\n",
              "    }\n",
              "\n",
              "    [theme=dark] .colab-df-convert:hover {\n",
              "      background-color: #434B5C;\n",
              "      box-shadow: 0px 1px 3px 1px rgba(0, 0, 0, 0.15);\n",
              "      filter: drop-shadow(0px 1px 2px rgba(0, 0, 0, 0.3));\n",
              "      fill: #FFFFFF;\n",
              "    }\n",
              "  </style>\n",
              "\n",
              "      <script>\n",
              "        const buttonEl =\n",
              "          document.querySelector('#df-f92b0e80-82ed-47b0-9202-0a93ae0b2d2c button.colab-df-convert');\n",
              "        buttonEl.style.display =\n",
              "          google.colab.kernel.accessAllowed ? 'block' : 'none';\n",
              "\n",
              "        async function convertToInteractive(key) {\n",
              "          const element = document.querySelector('#df-f92b0e80-82ed-47b0-9202-0a93ae0b2d2c');\n",
              "          const dataTable =\n",
              "            await google.colab.kernel.invokeFunction('convertToInteractive',\n",
              "                                                     [key], {});\n",
              "          if (!dataTable) return;\n",
              "\n",
              "          const docLinkHtml = 'Like what you see? Visit the ' +\n",
              "            '<a target=\"_blank\" href=https://colab.research.google.com/notebooks/data_table.ipynb>data table notebook</a>'\n",
              "            + ' to learn more about interactive tables.';\n",
              "          element.innerHTML = '';\n",
              "          dataTable['output_type'] = 'display_data';\n",
              "          await google.colab.output.renderOutput(dataTable, element);\n",
              "          const docLink = document.createElement('div');\n",
              "          docLink.innerHTML = docLinkHtml;\n",
              "          element.appendChild(docLink);\n",
              "        }\n",
              "      </script>\n",
              "    </div>\n",
              "  </div>\n",
              "  "
            ],
            "text/plain": [
              "                datetime  Count  Precipitation  ...  month_n  Weekend  Season\n",
              "6832 2018-10-20 05:00:00      2              0  ...       10        1       0\n",
              "6833 2018-10-20 06:00:00      3              1  ...       10        1       0\n",
              "6834 2018-10-20 07:00:00      7              0  ...       10        1       0\n",
              "6835 2018-10-20 08:00:00      3              0  ...       10        1       0\n",
              "6836 2018-10-20 09:00:00     12              0  ...       10        1       0\n",
              "\n",
              "[5 rows x 12 columns]"
            ]
          },
          "metadata": {},
          "execution_count": 337
        }
      ]
    },
    {
      "cell_type": "markdown",
      "source": [
        "### **5) Feature selection**"
      ],
      "metadata": {
        "id": "Rgw0EF1LI6sm"
      }
    },
    {
      "cell_type": "code",
      "source": [
        "corr_mat_lenc = train_set_lenc.corr()\n",
        "plt.figure(figsize=(20,10))\n",
        "sns.heatmap(corr_mat_lenc, annot=True, cmap=\"coolwarm\")\n",
        "plt.show()"
      ],
      "metadata": {
        "id": "WgaHN5Noma26",
        "colab": {
          "base_uri": "https://localhost:8080/",
          "height": 0
        },
        "outputId": "8f046dc7-4714-44b7-a72c-376a66936e4c"
      },
      "execution_count": 338,
      "outputs": [
        {
          "output_type": "display_data",
          "data": {
            "image/png": "[encoded data removed]",
            "text/plain": [
              "<Figure size 1440x720 with 2 Axes>"
            ]
          },
          "metadata": {
            "needs_background": "light"
          }
        }
      ]
    },
    {
      "cell_type": "markdown",
      "source": [
        "The correlation heatmap shows that there seems to be no multicollinearity between the features, only month and season seem to have multicollinearity as these values are close to -1. Moreover, considering the correlation between \"Count\" and the features, \"High wind\", \"Season\", \"day_n\" and \"month_n\" will not be considered as features of the model."
      ],
      "metadata": {
        "id": "569cf-VKm-xT"
      }
    },
    {
      "cell_type": "markdown",
      "source": [
        "### **5) Baseline Model**"
      ],
      "metadata": {
        "id": "NY0rQfauCx4V"
      }
    },
    {
      "cell_type": "code",
      "source": [
        "median_accident_count = train_set_lenc[\"Count\"].median()\n",
        "print(f\"There are:\", median_accident_count,\"accidents per hour.\")"
      ],
      "metadata": {
        "colab": {
          "base_uri": "https://localhost:8080/"
        },
        "id": "4888cO-Se45q",
        "outputId": "c3984f31-a827-43dc-c910-a595a437f71f"
      },
      "execution_count": 339,
      "outputs": [
        {
          "output_type": "stream",
          "name": "stdout",
          "text": [
            "There are: 13.0 accidents per hour.\n"
          ]
        }
      ]
    },
    {
      "cell_type": "code",
      "source": [
        "yhat =  np.full((train_set_lenc.shape[0],1), median_accident_count)"
      ],
      "metadata": {
        "id": "gi6kpRI4fOS-"
      },
      "execution_count": 340,
      "outputs": []
    },
    {
      "cell_type": "code",
      "source": [
        "baseline_mse = mean_squared_error(train_set_lenc[\"Count\"],yhat)\n",
        "print(f\"The baseline MSE is:\",baseline_mse)\n",
        "\n",
        "baseline_rmse = np.sqrt(baseline_mse)\n",
        "print(f\"The basline RMSE is:\",baseline_rmse)"
      ],
      "metadata": {
        "colab": {
          "base_uri": "https://localhost:8080/"
        },
        "id": "GOGIBCdsfvWH",
        "outputId": "30957534-37c0-45db-9492-e57cfe05dcde"
      },
      "execution_count": 341,
      "outputs": [
        {
          "output_type": "stream",
          "name": "stdout",
          "text": [
            "The baseline MSE is: 108.2946113074205\n",
            "The basline RMSE is: 10.406469685124755\n"
          ]
        }
      ]
    },
    {
      "cell_type": "markdown",
      "source": [
        "The RMSE of 10.4 indicates the amount by which the baseline gets hourly accident count wrong which is quite a big amount comparing to the mean of 13 accidents per hour. This suggests this is a difficult problem to solve."
      ],
      "metadata": {
        "id": "zE4D8SADgnYX"
      }
    },
    {
      "cell_type": "markdown",
      "source": [
        "### **6) ARIMA Model**"
      ],
      "metadata": {
        "id": "POdk0t50u69k"
      }
    },
    {
      "cell_type": "code",
      "source": [
        "train_set_lenc.head()"
      ],
      "metadata": {
        "colab": {
          "base_uri": "https://localhost:8080/",
          "height": 0
        },
        "id": "mDuuqBscjp4P",
        "outputId": "b5feec22-f125-4f9d-d4d9-cca6e9967be3"
      },
      "execution_count": 342,
      "outputs": [
        {
          "output_type": "execute_result",
          "data": {
            "text/html": [
              "\n",
              "  <div id=\"df-3cc62387-77ac-45db-a41f-c8a70979789c\">\n",
              "    <div class=\"colab-df-container\">\n",
              "      <div>\n",
              "<style scoped>\n",
              "    .dataframe tbody tr th:only-of-type {\n",
              "        vertical-align: middle;\n",
              "    }\n",
              "\n",
              "    .dataframe tbody tr th {\n",
              "        vertical-align: top;\n",
              "    }\n",
              "\n",
              "    .dataframe thead th {\n",
              "        text-align: right;\n",
              "    }\n",
              "</style>\n",
              "<table border=\"1\" class=\"dataframe\">\n",
              "  <thead>\n",
              "    <tr style=\"text-align: right;\">\n",
              "      <th></th>\n",
              "      <th>datetime</th>\n",
              "      <th>Count</th>\n",
              "      <th>Precipitation</th>\n",
              "      <th>High_Winds</th>\n",
              "      <th>Road_Surface_Conditions</th>\n",
              "      <th>Light_Conditions</th>\n",
              "      <th>Urban_or_Rural_Area</th>\n",
              "      <th>day_n</th>\n",
              "      <th>hour</th>\n",
              "      <th>month_n</th>\n",
              "      <th>Weekend</th>\n",
              "      <th>Season</th>\n",
              "    </tr>\n",
              "  </thead>\n",
              "  <tbody>\n",
              "    <tr>\n",
              "      <th>0</th>\n",
              "      <td>2018-01-01 00:00:00</td>\n",
              "      <td>18</td>\n",
              "      <td>0</td>\n",
              "      <td>0</td>\n",
              "      <td>0</td>\n",
              "      <td>1</td>\n",
              "      <td>1</td>\n",
              "      <td>1</td>\n",
              "      <td>0</td>\n",
              "      <td>1</td>\n",
              "      <td>0</td>\n",
              "      <td>3</td>\n",
              "    </tr>\n",
              "    <tr>\n",
              "      <th>1</th>\n",
              "      <td>2018-01-01 01:00:00</td>\n",
              "      <td>9</td>\n",
              "      <td>0</td>\n",
              "      <td>0</td>\n",
              "      <td>3</td>\n",
              "      <td>1</td>\n",
              "      <td>1</td>\n",
              "      <td>1</td>\n",
              "      <td>1</td>\n",
              "      <td>1</td>\n",
              "      <td>0</td>\n",
              "      <td>3</td>\n",
              "    </tr>\n",
              "    <tr>\n",
              "      <th>2</th>\n",
              "      <td>2018-01-01 02:00:00</td>\n",
              "      <td>14</td>\n",
              "      <td>0</td>\n",
              "      <td>0</td>\n",
              "      <td>3</td>\n",
              "      <td>1</td>\n",
              "      <td>1</td>\n",
              "      <td>1</td>\n",
              "      <td>2</td>\n",
              "      <td>1</td>\n",
              "      <td>0</td>\n",
              "      <td>3</td>\n",
              "    </tr>\n",
              "    <tr>\n",
              "      <th>3</th>\n",
              "      <td>2018-01-01 03:00:00</td>\n",
              "      <td>10</td>\n",
              "      <td>0</td>\n",
              "      <td>0</td>\n",
              "      <td>3</td>\n",
              "      <td>1</td>\n",
              "      <td>1</td>\n",
              "      <td>1</td>\n",
              "      <td>3</td>\n",
              "      <td>1</td>\n",
              "      <td>0</td>\n",
              "      <td>3</td>\n",
              "    </tr>\n",
              "    <tr>\n",
              "      <th>4</th>\n",
              "      <td>2018-01-01 04:00:00</td>\n",
              "      <td>8</td>\n",
              "      <td>0</td>\n",
              "      <td>0</td>\n",
              "      <td>0</td>\n",
              "      <td>1</td>\n",
              "      <td>1</td>\n",
              "      <td>1</td>\n",
              "      <td>4</td>\n",
              "      <td>1</td>\n",
              "      <td>0</td>\n",
              "      <td>3</td>\n",
              "    </tr>\n",
              "  </tbody>\n",
              "</table>\n",
              "</div>\n",
              "      <button class=\"colab-df-convert\" onclick=\"convertToInteractive('df-3cc62387-77ac-45db-a41f-c8a70979789c')\"\n",
              "              title=\"Convert this dataframe to an interactive table.\"\n",
              "              style=\"display:none;\">\n",
              "        \n",
              "  <svg xmlns=\"http://www.w3.org/2000/svg\" height=\"24px\"viewBox=\"0 0 24 24\"\n",
              "       width=\"24px\">\n",
              "    <path d=\"M0 0h24v24H0V0z\" fill=\"none\"/>\n",
              "    <path d=\"M18.56 5.44l.94 2.06.94-2.06 2.06-.94-2.06-.94-.94-2.06-.94 2.06-2.06.94zm-11 1L8.5 8.5l.94-2.06 2.06-.94-2.06-.94L8.5 2.5l-.94 2.06-2.06.94zm10 10l.94 2.06.94-2.06 2.06-.94-2.06-.94-.94-2.06-.94 2.06-2.06.94z\"/><path d=\"M17.41 7.96l-1.37-1.37c-.4-.4-.92-.59-1.43-.59-.52 0-1.04.2-1.43.59L10.3 9.45l-7.72 7.72c-.78.78-.78 2.05 0 2.83L4 21.41c.39.39.9.59 1.41.59.51 0 1.02-.2 1.41-.59l7.78-7.78 2.81-2.81c.8-.78.8-2.07 0-2.86zM5.41 20L4 18.59l7.72-7.72 1.47 1.35L5.41 20z\"/>\n",
              "  </svg>\n",
              "      </button>\n",
              "      \n",
              "  <style>\n",
              "    .colab-df-container {\n",
              "      display:flex;\n",
              "      flex-wrap:wrap;\n",
              "      gap: 12px;\n",
              "    }\n",
              "\n",
              "    .colab-df-convert {\n",
              "      background-color: #E8F0FE;\n",
              "      border: none;\n",
              "      border-radius: 50%;\n",
              "      cursor: pointer;\n",
              "      display: none;\n",
              "      fill: #1967D2;\n",
              "      height: 32px;\n",
              "      padding: 0 0 0 0;\n",
              "      width: 32px;\n",
              "    }\n",
              "\n",
              "    .colab-df-convert:hover {\n",
              "      background-color: #E2EBFA;\n",
              "      box-shadow: 0px 1px 2px rgba(60, 64, 67, 0.3), 0px 1px 3px 1px rgba(60, 64, 67, 0.15);\n",
              "      fill: #174EA6;\n",
              "    }\n",
              "\n",
              "    [theme=dark] .colab-df-convert {\n",
              "      background-color: #3B4455;\n",
              "      fill: #D2E3FC;\n",
              "    }\n",
              "\n",
              "    [theme=dark] .colab-df-convert:hover {\n",
              "      background-color: #434B5C;\n",
              "      box-shadow: 0px 1px 3px 1px rgba(0, 0, 0, 0.15);\n",
              "      filter: drop-shadow(0px 1px 2px rgba(0, 0, 0, 0.3));\n",
              "      fill: #FFFFFF;\n",
              "    }\n",
              "  </style>\n",
              "\n",
              "      <script>\n",
              "        const buttonEl =\n",
              "          document.querySelector('#df-3cc62387-77ac-45db-a41f-c8a70979789c button.colab-df-convert');\n",
              "        buttonEl.style.display =\n",
              "          google.colab.kernel.accessAllowed ? 'block' : 'none';\n",
              "\n",
              "        async function convertToInteractive(key) {\n",
              "          const element = document.querySelector('#df-3cc62387-77ac-45db-a41f-c8a70979789c');\n",
              "          const dataTable =\n",
              "            await google.colab.kernel.invokeFunction('convertToInteractive',\n",
              "                                                     [key], {});\n",
              "          if (!dataTable) return;\n",
              "\n",
              "          const docLinkHtml = 'Like what you see? Visit the ' +\n",
              "            '<a target=\"_blank\" href=https://colab.research.google.com/notebooks/data_table.ipynb>data table notebook</a>'\n",
              "            + ' to learn more about interactive tables.';\n",
              "          element.innerHTML = '';\n",
              "          dataTable['output_type'] = 'display_data';\n",
              "          await google.colab.output.renderOutput(dataTable, element);\n",
              "          const docLink = document.createElement('div');\n",
              "          docLink.innerHTML = docLinkHtml;\n",
              "          element.appendChild(docLink);\n",
              "        }\n",
              "      </script>\n",
              "    </div>\n",
              "  </div>\n",
              "  "
            ],
            "text/plain": [
              "             datetime  Count  Precipitation  ...  month_n  Weekend  Season\n",
              "0 2018-01-01 00:00:00     18              0  ...        1        0       3\n",
              "1 2018-01-01 01:00:00      9              0  ...        1        0       3\n",
              "2 2018-01-01 02:00:00     14              0  ...        1        0       3\n",
              "3 2018-01-01 03:00:00     10              0  ...        1        0       3\n",
              "4 2018-01-01 04:00:00      8              0  ...        1        0       3\n",
              "\n",
              "[5 rows x 12 columns]"
            ]
          },
          "metadata": {},
          "execution_count": 342
        }
      ]
    },
    {
      "cell_type": "code",
      "source": [
        "train_set_lenc_ts = train_set_lenc[[\"datetime\",\"Count\"]]\n",
        "train_set_lenc_ts.set_index(\"datetime\",inplace=True)\n",
        "train_set_lenc_ts.plot()"
      ],
      "metadata": {
        "colab": {
          "base_uri": "https://localhost:8080/",
          "height": 0
        },
        "id": "3nu3KCK0k1ri",
        "outputId": "9707a9b8-213e-4de0-f3d2-81882eb4a57f"
      },
      "execution_count": 343,
      "outputs": [
        {
          "output_type": "execute_result",
          "data": {
            "text/plain": [
              "<matplotlib.axes._subplots.AxesSubplot at 0x7f65b8228f90>"
            ]
          },
          "metadata": {},
          "execution_count": 343
        },
        {
          "output_type": "display_data",
          "data": {
            "image/png": "[encoded data removed]",
            "text/plain": [
              "<Figure size 432x288 with 1 Axes>"
            ]
          },
          "metadata": {
            "needs_background": "light"
          }
        }
      ]
    },
    {
      "cell_type": "code",
      "source": [
        "decomposition1 = seasonal_decompose(train_set[[\"day\",\"Count\"]].groupby(\"day\").sum(\"Count\"), freq=12)\n",
        "decomposition.plot()\n",
        "plt.show()"
      ],
      "metadata": {
        "colab": {
          "base_uri": "https://localhost:8080/",
          "height": 0
        },
        "id": "6hQmcf6AztHS",
        "outputId": "ad3b584c-9046-4d47-fdf1-6ecfff8de5ac"
      },
      "execution_count": 344,
      "outputs": [
        {
          "output_type": "display_data",
          "data": {
            "image/png": "[encoded data removed]",
            "text/plain": [
              "<Figure size 432x288 with 4 Axes>"
            ]
          },
          "metadata": {
            "needs_background": "light"
          }
        }
      ]
    },
    {
      "cell_type": "code",
      "source": [
        "decomposition = seasonal_decompose(train_set_lenc_ts[\"Count\"], freq=24)\n",
        "decomposition.plot()\n",
        "plt.show()"
      ],
      "metadata": {
        "colab": {
          "base_uri": "https://localhost:8080/",
          "height": 0
        },
        "id": "OXdiGvdEyGP-",
        "outputId": "18aea834-436b-4cbe-f124-10ac10ca9cdd"
      },
      "execution_count": 345,
      "outputs": [
        {
          "output_type": "display_data",
          "data": {
            "image/png": "[encoded data removed]",
            "text/plain": [
              "<Figure size 432x288 with 4 Axes>"
            ]
          },
          "metadata": {
            "needs_background": "light"
          }
        }
      ]
    },
    {
      "cell_type": "markdown",
      "source": [
        "Seasonal decomposition of the daily as well of the hourly data shows that there is no seasonality in the accident count.\n"
      ],
      "metadata": {
        "id": "1udw1pod0-nH"
      }
    },
    {
      "cell_type": "markdown",
      "source": [
        "**Augmented Dickey Fuller Test**"
      ],
      "metadata": {
        "id": "Qg97Xvy5tj4_"
      }
    },
    {
      "cell_type": "code",
      "source": [
        "adf_test_result = adfuller(train_set_lenc_ts[\"Count\"].values)\n",
        "print(\"ADF Statistic: %f\" % adf_test_result[0]) \n",
        "print(\"p-value: %f\" % adf_test_result[1])\n",
        "print(\"Critical Values:\")\n",
        "for key, value in adf_test_result[4].items():\n",
        "  print('\\t%s: %.3f' % (key,value))\n",
        "if adf_test_result[0] < adf_test_result[4][\"5%\"]:\n",
        "  print(\"Reject H0 - Time Series is Stationary\")\n",
        "else:\n",
        "  print(\"Accept H0 - Time series is Non-Stationary\")"
      ],
      "metadata": {
        "colab": {
          "base_uri": "https://localhost:8080/"
        },
        "id": "trAMmtiXnh3g",
        "outputId": "651becb0-ac78-472b-bd11-ba8de3bdd6d3"
      },
      "execution_count": 346,
      "outputs": [
        {
          "output_type": "stream",
          "name": "stdout",
          "text": [
            "ADF Statistic: -10.108665\n",
            "p-value: 0.000000\n",
            "Critical Values:\n",
            "\t1%: -3.431\n",
            "\t5%: -2.862\n",
            "\t10%: -2.567\n",
            "Reject H0 - Time Series is Stationary\n"
          ]
        }
      ]
    },
    {
      "cell_type": "markdown",
      "source": [
        "The Augmented Dickey Fuller Test indicates that the data is already stationary and does not need to be differenced."
      ],
      "metadata": {
        "id": "Evq3Buzyv2kU"
      }
    },
    {
      "cell_type": "code",
      "source": [
        "fig = plt.figure(figsize=(12,8))\n",
        "ax1 = fig.add_subplot(211)\n",
        "fig = sm.graphics.tsa.plot_acf(train_set_lenc_ts[\"Count\"],lags=40, ax=ax1)\n",
        "ax2 = fig.add_subplot(212)\n",
        "fig = sm.graphics.tsa.plot_pacf(train_set_lenc_ts[\"Count\"],lags=40, ax=ax2)\n",
        "plt.show()"
      ],
      "metadata": {
        "colab": {
          "base_uri": "https://localhost:8080/",
          "height": 0
        },
        "id": "RN9DHrko0zyr",
        "outputId": "93adf71e-a317-4d67-dc53-9582d0bd643f"
      },
      "execution_count": 347,
      "outputs": [
        {
          "output_type": "display_data",
          "data": {
            "image/png": "[encoded data removed]",
            "text/plain": [
              "<Figure size 864x576 with 2 Axes>"
            ]
          },
          "metadata": {
            "needs_background": "light"
          }
        }
      ]
    },
    {
      "cell_type": "markdown",
      "source": [
        "### **7) Random Forest Regression Model / Decision tree Regressor**\n"
      ],
      "metadata": {
        "id": "3O-LSc6w2xlY"
      }
    },
    {
      "cell_type": "code",
      "source": [
        "X_train = train_set_lenc[[\"Precipitation\",\"Road_Surface_Conditions\", \"Light_Conditions\",\"Urban_or_Rural_Area\",\"hour\",\"Weekend\"]]\n",
        "X_test =  test_set_lenc[[\"Precipitation\",\"Road_Surface_Conditions\", \"Light_Conditions\",\"Urban_or_Rural_Area\",\"hour\",\"Weekend\"]]"
      ],
      "metadata": {
        "id": "0vK8Oc55645j"
      },
      "execution_count": 348,
      "outputs": []
    },
    {
      "cell_type": "code",
      "source": [
        "y_train = train_set_lenc[\"Count\"]\n",
        "y_test= test_set_lenc[\"Count\"]"
      ],
      "metadata": {
        "id": "gQdNqzqW7vx3"
      },
      "execution_count": 349,
      "outputs": []
    },
    {
      "cell_type": "code",
      "source": [
        "rfr = RandomForestRegressor()"
      ],
      "metadata": {
        "id": "2F66Wwue8QR2"
      },
      "execution_count": 350,
      "outputs": []
    },
    {
      "cell_type": "code",
      "source": [
        "rfr.fit(X_train, y_train)"
      ],
      "metadata": {
        "colab": {
          "base_uri": "https://localhost:8080/"
        },
        "id": "can2y8pk8Uc-",
        "outputId": "6f1a310c-8558-47ec-dea6-6df0054d9909"
      },
      "execution_count": 351,
      "outputs": [
        {
          "output_type": "execute_result",
          "data": {
            "text/plain": [
              "RandomForestRegressor()"
            ]
          },
          "metadata": {},
          "execution_count": 351
        }
      ]
    },
    {
      "cell_type": "code",
      "source": [
        "y_pred_rfr = rfr.predict(X_test)\n",
        "y_pred_rfr = pd.DataFrame(y_pred_rfr)"
      ],
      "metadata": {
        "id": "lIk3jUVe8cMC"
      },
      "execution_count": 375,
      "outputs": []
    },
    {
      "cell_type": "code",
      "source": [
        "y_test = pd.DataFrame(y_test)\n",
        "y_test"
      ],
      "metadata": {
        "colab": {
          "base_uri": "https://localhost:8080/",
          "height": 424
        },
        "id": "EMRKPCjggUXa",
        "outputId": "cbd6fff2-7ede-4a89-f654-3ced8bbf5205"
      },
      "execution_count": 372,
      "outputs": [
        {
          "output_type": "execute_result",
          "data": {
            "text/html": [
              "\n",
              "  <div id=\"df-ea293333-e52a-4a62-ba1d-5c34f1a5de24\">\n",
              "    <div class=\"colab-df-container\">\n",
              "      <div>\n",
              "<style scoped>\n",
              "    .dataframe tbody tr th:only-of-type {\n",
              "        vertical-align: middle;\n",
              "    }\n",
              "\n",
              "    .dataframe tbody tr th {\n",
              "        vertical-align: top;\n",
              "    }\n",
              "\n",
              "    .dataframe thead th {\n",
              "        text-align: right;\n",
              "    }\n",
              "</style>\n",
              "<table border=\"1\" class=\"dataframe\">\n",
              "  <thead>\n",
              "    <tr style=\"text-align: right;\">\n",
              "      <th></th>\n",
              "      <th>Count</th>\n",
              "    </tr>\n",
              "  </thead>\n",
              "  <tbody>\n",
              "    <tr>\n",
              "      <th>6832</th>\n",
              "      <td>2</td>\n",
              "    </tr>\n",
              "    <tr>\n",
              "      <th>6833</th>\n",
              "      <td>3</td>\n",
              "    </tr>\n",
              "    <tr>\n",
              "      <th>6834</th>\n",
              "      <td>7</td>\n",
              "    </tr>\n",
              "    <tr>\n",
              "      <th>6835</th>\n",
              "      <td>3</td>\n",
              "    </tr>\n",
              "    <tr>\n",
              "      <th>6836</th>\n",
              "      <td>12</td>\n",
              "    </tr>\n",
              "    <tr>\n",
              "      <th>...</th>\n",
              "      <td>...</td>\n",
              "    </tr>\n",
              "    <tr>\n",
              "      <th>8535</th>\n",
              "      <td>13</td>\n",
              "    </tr>\n",
              "    <tr>\n",
              "      <th>8536</th>\n",
              "      <td>12</td>\n",
              "    </tr>\n",
              "    <tr>\n",
              "      <th>8537</th>\n",
              "      <td>5</td>\n",
              "    </tr>\n",
              "    <tr>\n",
              "      <th>8538</th>\n",
              "      <td>18</td>\n",
              "    </tr>\n",
              "    <tr>\n",
              "      <th>8539</th>\n",
              "      <td>9</td>\n",
              "    </tr>\n",
              "  </tbody>\n",
              "</table>\n",
              "<p>1708 rows × 1 columns</p>\n",
              "</div>\n",
              "      <button class=\"colab-df-convert\" onclick=\"convertToInteractive('df-ea293333-e52a-4a62-ba1d-5c34f1a5de24')\"\n",
              "              title=\"Convert this dataframe to an interactive table.\"\n",
              "              style=\"display:none;\">\n",
              "        \n",
              "  <svg xmlns=\"http://www.w3.org/2000/svg\" height=\"24px\"viewBox=\"0 0 24 24\"\n",
              "       width=\"24px\">\n",
              "    <path d=\"M0 0h24v24H0V0z\" fill=\"none\"/>\n",
              "    <path d=\"M18.56 5.44l.94 2.06.94-2.06 2.06-.94-2.06-.94-.94-2.06-.94 2.06-2.06.94zm-11 1L8.5 8.5l.94-2.06 2.06-.94-2.06-.94L8.5 2.5l-.94 2.06-2.06.94zm10 10l.94 2.06.94-2.06 2.06-.94-2.06-.94-.94-2.06-.94 2.06-2.06.94z\"/><path d=\"M17.41 7.96l-1.37-1.37c-.4-.4-.92-.59-1.43-.59-.52 0-1.04.2-1.43.59L10.3 9.45l-7.72 7.72c-.78.78-.78 2.05 0 2.83L4 21.41c.39.39.9.59 1.41.59.51 0 1.02-.2 1.41-.59l7.78-7.78 2.81-2.81c.8-.78.8-2.07 0-2.86zM5.41 20L4 18.59l7.72-7.72 1.47 1.35L5.41 20z\"/>\n",
              "  </svg>\n",
              "      </button>\n",
              "      \n",
              "  <style>\n",
              "    .colab-df-container {\n",
              "      display:flex;\n",
              "      flex-wrap:wrap;\n",
              "      gap: 12px;\n",
              "    }\n",
              "\n",
              "    .colab-df-convert {\n",
              "      background-color: #E8F0FE;\n",
              "      border: none;\n",
              "      border-radius: 50%;\n",
              "      cursor: pointer;\n",
              "      display: none;\n",
              "      fill: #1967D2;\n",
              "      height: 32px;\n",
              "      padding: 0 0 0 0;\n",
              "      width: 32px;\n",
              "    }\n",
              "\n",
              "    .colab-df-convert:hover {\n",
              "      background-color: #E2EBFA;\n",
              "      box-shadow: 0px 1px 2px rgba(60, 64, 67, 0.3), 0px 1px 3px 1px rgba(60, 64, 67, 0.15);\n",
              "      fill: #174EA6;\n",
              "    }\n",
              "\n",
              "    [theme=dark] .colab-df-convert {\n",
              "      background-color: #3B4455;\n",
              "      fill: #D2E3FC;\n",
              "    }\n",
              "\n",
              "    [theme=dark] .colab-df-convert:hover {\n",
              "      background-color: #434B5C;\n",
              "      box-shadow: 0px 1px 3px 1px rgba(0, 0, 0, 0.15);\n",
              "      filter: drop-shadow(0px 1px 2px rgba(0, 0, 0, 0.3));\n",
              "      fill: #FFFFFF;\n",
              "    }\n",
              "  </style>\n",
              "\n",
              "      <script>\n",
              "        const buttonEl =\n",
              "          document.querySelector('#df-ea293333-e52a-4a62-ba1d-5c34f1a5de24 button.colab-df-convert');\n",
              "        buttonEl.style.display =\n",
              "          google.colab.kernel.accessAllowed ? 'block' : 'none';\n",
              "\n",
              "        async function convertToInteractive(key) {\n",
              "          const element = document.querySelector('#df-ea293333-e52a-4a62-ba1d-5c34f1a5de24');\n",
              "          const dataTable =\n",
              "            await google.colab.kernel.invokeFunction('convertToInteractive',\n",
              "                                                     [key], {});\n",
              "          if (!dataTable) return;\n",
              "\n",
              "          const docLinkHtml = 'Like what you see? Visit the ' +\n",
              "            '<a target=\"_blank\" href=https://colab.research.google.com/notebooks/data_table.ipynb>data table notebook</a>'\n",
              "            + ' to learn more about interactive tables.';\n",
              "          element.innerHTML = '';\n",
              "          dataTable['output_type'] = 'display_data';\n",
              "          await google.colab.output.renderOutput(dataTable, element);\n",
              "          const docLink = document.createElement('div');\n",
              "          docLink.innerHTML = docLinkHtml;\n",
              "          element.appendChild(docLink);\n",
              "        }\n",
              "      </script>\n",
              "    </div>\n",
              "  </div>\n",
              "  "
            ],
            "text/plain": [
              "      Count\n",
              "6832      2\n",
              "6833      3\n",
              "6834      7\n",
              "6835      3\n",
              "6836     12\n",
              "...     ...\n",
              "8535     13\n",
              "8536     12\n",
              "8537      5\n",
              "8538     18\n",
              "8539      9\n",
              "\n",
              "[1708 rows x 1 columns]"
            ]
          },
          "metadata": {},
          "execution_count": 372
        }
      ]
    },
    {
      "cell_type": "code",
      "source": [
        "y_pred_rfr[\"y_test\"] = y_test[\"Count\"]\n",
        "y_pred_rfr\n",
        "# y_test.rename(columns={\"Count\":\"y_test\"},inplace=True)\n",
        "# df_tmp = y_test[:96]\n",
        "# df_tmp.plot()"
      ],
      "metadata": {
        "colab": {
          "base_uri": "https://localhost:8080/",
          "height": 424
        },
        "id": "6ubPTTss_Is9",
        "outputId": "15897b91-e52d-4dca-9004-7baa6cef51fc"
      },
      "execution_count": 377,
      "outputs": [
        {
          "output_type": "execute_result",
          "data": {
            "text/html": [
              "\n",
              "  <div id=\"df-f748222f-25a5-4dee-8f5a-585439fc6b08\">\n",
              "    <div class=\"colab-df-container\">\n",
              "      <div>\n",
              "<style scoped>\n",
              "    .dataframe tbody tr th:only-of-type {\n",
              "        vertical-align: middle;\n",
              "    }\n",
              "\n",
              "    .dataframe tbody tr th {\n",
              "        vertical-align: top;\n",
              "    }\n",
              "\n",
              "    .dataframe thead th {\n",
              "        text-align: right;\n",
              "    }\n",
              "</style>\n",
              "<table border=\"1\" class=\"dataframe\">\n",
              "  <thead>\n",
              "    <tr style=\"text-align: right;\">\n",
              "      <th></th>\n",
              "      <th>0</th>\n",
              "      <th>y_test</th>\n",
              "    </tr>\n",
              "  </thead>\n",
              "  <tbody>\n",
              "    <tr>\n",
              "      <th>0</th>\n",
              "      <td>3.582667</td>\n",
              "      <td>NaN</td>\n",
              "    </tr>\n",
              "    <tr>\n",
              "      <th>1</th>\n",
              "      <td>4.093673</td>\n",
              "      <td>NaN</td>\n",
              "    </tr>\n",
              "    <tr>\n",
              "      <th>2</th>\n",
              "      <td>5.542599</td>\n",
              "      <td>NaN</td>\n",
              "    </tr>\n",
              "    <tr>\n",
              "      <th>3</th>\n",
              "      <td>7.690471</td>\n",
              "      <td>NaN</td>\n",
              "    </tr>\n",
              "    <tr>\n",
              "      <th>4</th>\n",
              "      <td>11.287656</td>\n",
              "      <td>NaN</td>\n",
              "    </tr>\n",
              "    <tr>\n",
              "      <th>...</th>\n",
              "      <td>...</td>\n",
              "      <td>...</td>\n",
              "    </tr>\n",
              "    <tr>\n",
              "      <th>1703</th>\n",
              "      <td>17.926690</td>\n",
              "      <td>NaN</td>\n",
              "    </tr>\n",
              "    <tr>\n",
              "      <th>1704</th>\n",
              "      <td>12.710879</td>\n",
              "      <td>NaN</td>\n",
              "    </tr>\n",
              "    <tr>\n",
              "      <th>1705</th>\n",
              "      <td>10.032066</td>\n",
              "      <td>NaN</td>\n",
              "    </tr>\n",
              "    <tr>\n",
              "      <th>1706</th>\n",
              "      <td>8.532434</td>\n",
              "      <td>NaN</td>\n",
              "    </tr>\n",
              "    <tr>\n",
              "      <th>1707</th>\n",
              "      <td>7.678604</td>\n",
              "      <td>NaN</td>\n",
              "    </tr>\n",
              "  </tbody>\n",
              "</table>\n",
              "<p>1708 rows × 2 columns</p>\n",
              "</div>\n",
              "      <button class=\"colab-df-convert\" onclick=\"convertToInteractive('df-f748222f-25a5-4dee-8f5a-585439fc6b08')\"\n",
              "              title=\"Convert this dataframe to an interactive table.\"\n",
              "              style=\"display:none;\">\n",
              "        \n",
              "  <svg xmlns=\"http://www.w3.org/2000/svg\" height=\"24px\"viewBox=\"0 0 24 24\"\n",
              "       width=\"24px\">\n",
              "    <path d=\"M0 0h24v24H0V0z\" fill=\"none\"/>\n",
              "    <path d=\"M18.56 5.44l.94 2.06.94-2.06 2.06-.94-2.06-.94-.94-2.06-.94 2.06-2.06.94zm-11 1L8.5 8.5l.94-2.06 2.06-.94-2.06-.94L8.5 2.5l-.94 2.06-2.06.94zm10 10l.94 2.06.94-2.06 2.06-.94-2.06-.94-.94-2.06-.94 2.06-2.06.94z\"/><path d=\"M17.41 7.96l-1.37-1.37c-.4-.4-.92-.59-1.43-.59-.52 0-1.04.2-1.43.59L10.3 9.45l-7.72 7.72c-.78.78-.78 2.05 0 2.83L4 21.41c.39.39.9.59 1.41.59.51 0 1.02-.2 1.41-.59l7.78-7.78 2.81-2.81c.8-.78.8-2.07 0-2.86zM5.41 20L4 18.59l7.72-7.72 1.47 1.35L5.41 20z\"/>\n",
              "  </svg>\n",
              "      </button>\n",
              "      \n",
              "  <style>\n",
              "    .colab-df-container {\n",
              "      display:flex;\n",
              "      flex-wrap:wrap;\n",
              "      gap: 12px;\n",
              "    }\n",
              "\n",
              "    .colab-df-convert {\n",
              "      background-color: #E8F0FE;\n",
              "      border: none;\n",
              "      border-radius: 50%;\n",
              "      cursor: pointer;\n",
              "      display: none;\n",
              "      fill: #1967D2;\n",
              "      height: 32px;\n",
              "      padding: 0 0 0 0;\n",
              "      width: 32px;\n",
              "    }\n",
              "\n",
              "    .colab-df-convert:hover {\n",
              "      background-color: #E2EBFA;\n",
              "      box-shadow: 0px 1px 2px rgba(60, 64, 67, 0.3), 0px 1px 3px 1px rgba(60, 64, 67, 0.15);\n",
              "      fill: #174EA6;\n",
              "    }\n",
              "\n",
              "    [theme=dark] .colab-df-convert {\n",
              "      background-color: #3B4455;\n",
              "      fill: #D2E3FC;\n",
              "    }\n",
              "\n",
              "    [theme=dark] .colab-df-convert:hover {\n",
              "      background-color: #434B5C;\n",
              "      box-shadow: 0px 1px 3px 1px rgba(0, 0, 0, 0.15);\n",
              "      filter: drop-shadow(0px 1px 2px rgba(0, 0, 0, 0.3));\n",
              "      fill: #FFFFFF;\n",
              "    }\n",
              "  </style>\n",
              "\n",
              "      <script>\n",
              "        const buttonEl =\n",
              "          document.querySelector('#df-f748222f-25a5-4dee-8f5a-585439fc6b08 button.colab-df-convert');\n",
              "        buttonEl.style.display =\n",
              "          google.colab.kernel.accessAllowed ? 'block' : 'none';\n",
              "\n",
              "        async function convertToInteractive(key) {\n",
              "          const element = document.querySelector('#df-f748222f-25a5-4dee-8f5a-585439fc6b08');\n",
              "          const dataTable =\n",
              "            await google.colab.kernel.invokeFunction('convertToInteractive',\n",
              "                                                     [key], {});\n",
              "          if (!dataTable) return;\n",
              "\n",
              "          const docLinkHtml = 'Like what you see? Visit the ' +\n",
              "            '<a target=\"_blank\" href=https://colab.research.google.com/notebooks/data_table.ipynb>data table notebook</a>'\n",
              "            + ' to learn more about interactive tables.';\n",
              "          element.innerHTML = '';\n",
              "          dataTable['output_type'] = 'display_data';\n",
              "          await google.colab.output.renderOutput(dataTable, element);\n",
              "          const docLink = document.createElement('div');\n",
              "          docLink.innerHTML = docLinkHtml;\n",
              "          element.appendChild(docLink);\n",
              "        }\n",
              "      </script>\n",
              "    </div>\n",
              "  </div>\n",
              "  "
            ],
            "text/plain": [
              "              0  y_test\n",
              "0      3.582667     NaN\n",
              "1      4.093673     NaN\n",
              "2      5.542599     NaN\n",
              "3      7.690471     NaN\n",
              "4     11.287656     NaN\n",
              "...         ...     ...\n",
              "1703  17.926690     NaN\n",
              "1704  12.710879     NaN\n",
              "1705  10.032066     NaN\n",
              "1706   8.532434     NaN\n",
              "1707   7.678604     NaN\n",
              "\n",
              "[1708 rows x 2 columns]"
            ]
          },
          "metadata": {},
          "execution_count": 377
        }
      ]
    },
    {
      "cell_type": "code",
      "source": [
        "rfr_mse = mean_squared_error(y_test, y_pred)\n",
        "rfr_mse"
      ],
      "metadata": {
        "colab": {
          "base_uri": "https://localhost:8080/"
        },
        "id": "yc_MsEKg9v5K",
        "outputId": "9183eacf-196d-427c-e757-6767a342b61f"
      },
      "execution_count": 355,
      "outputs": [
        {
          "output_type": "execute_result",
          "data": {
            "text/plain": [
              "40.783231575296575"
            ]
          },
          "metadata": {},
          "execution_count": 355
        }
      ]
    },
    {
      "cell_type": "code",
      "source": [
        "rfr_rmse = np.sqrt(rfr_mse)\n",
        "rfr_rmse"
      ],
      "metadata": {
        "colab": {
          "base_uri": "https://localhost:8080/"
        },
        "id": "VSUp4Xcy95LF",
        "outputId": "2648ad1e-00eb-49a4-df6e-581e91ee762c"
      },
      "execution_count": 356,
      "outputs": [
        {
          "output_type": "execute_result",
          "data": {
            "text/plain": [
              "6.386175034815173"
            ]
          },
          "metadata": {},
          "execution_count": 356
        }
      ]
    },
    {
      "cell_type": "markdown",
      "source": [
        "### **8) Decision Tree Regressor Model**\n"
      ],
      "metadata": {
        "id": "WoLobHaQzhVC"
      }
    },
    {
      "cell_type": "code",
      "source": [
        "dt = DecisionTreeRegressor(max_depth=4, min_samples_leaf=0.1, random_state=None)"
      ],
      "metadata": {
        "id": "jB3_yx4LeYv5"
      },
      "execution_count": 357,
      "outputs": []
    },
    {
      "cell_type": "code",
      "source": [
        "dt.fit(X_train,y_train)"
      ],
      "metadata": {
        "colab": {
          "base_uri": "https://localhost:8080/"
        },
        "id": "IkRfWsshekar",
        "outputId": "bd58386c-8420-4cac-857a-45bef65a39ac"
      },
      "execution_count": 358,
      "outputs": [
        {
          "output_type": "execute_result",
          "data": {
            "text/plain": [
              "DecisionTreeRegressor(max_depth=4, min_samples_leaf=0.1)"
            ]
          },
          "metadata": {},
          "execution_count": 358
        }
      ]
    },
    {
      "cell_type": "code",
      "source": [
        "y_pred_dt = dt.predict(X_test)"
      ],
      "metadata": {
        "id": "mmYUwhPFeroy"
      },
      "execution_count": 359,
      "outputs": []
    },
    {
      "cell_type": "code",
      "source": [
        "mse_dt = mean_squared_error(y_test,y_pred_dt)\n",
        "print(f\" The mean squared error for Decision Tree Regressor is:\", mse_dt)\n"
      ],
      "metadata": {
        "colab": {
          "base_uri": "https://localhost:8080/"
        },
        "id": "xbv8EI80e_JK",
        "outputId": "afada72d-24a4-4335-8cef-0fffd2ee3778"
      },
      "execution_count": 380,
      "outputs": [
        {
          "output_type": "stream",
          "name": "stdout",
          "text": [
            " The mean squared error for Decision Tree Regressor is: 57.255712673711706\n"
          ]
        }
      ]
    },
    {
      "cell_type": "code",
      "source": [
        "rmse_dt = np.sqrt(mse_dt)\n",
        "print(f\"The root means squared error for the Decision Tree Model is:\", rmse_dt)"
      ],
      "metadata": {
        "colab": {
          "base_uri": "https://localhost:8080/"
        },
        "id": "Tp93NPgNfmkr",
        "outputId": "d5270b62-d8c1-4b74-84c9-45cef2e8cfb0"
      },
      "execution_count": 381,
      "outputs": [
        {
          "output_type": "stream",
          "name": "stdout",
          "text": [
            "The root means squared error for the Decision Tree Model is: 7.566750469898667\n"
          ]
        }
      ]
    },
    {
      "cell_type": "code",
      "source": [
        "y_pred_dt_df = pd.DataFrame(y_pred_dt)\n",
        "y_pred_dt_df"
      ],
      "metadata": {
        "colab": {
          "base_uri": "https://localhost:8080/",
          "height": 424
        },
        "id": "syWeTIOah8H0",
        "outputId": "aa897c89-0ed4-4b6d-9346-bceeee03a956"
      },
      "execution_count": 383,
      "outputs": [
        {
          "output_type": "execute_result",
          "data": {
            "text/html": [
              "\n",
              "  <div id=\"df-bd523378-7dd3-4e67-b346-df1047e4f19c\">\n",
              "    <div class=\"colab-df-container\">\n",
              "      <div>\n",
              "<style scoped>\n",
              "    .dataframe tbody tr th:only-of-type {\n",
              "        vertical-align: middle;\n",
              "    }\n",
              "\n",
              "    .dataframe tbody tr th {\n",
              "        vertical-align: top;\n",
              "    }\n",
              "\n",
              "    .dataframe thead th {\n",
              "        text-align: right;\n",
              "    }\n",
              "</style>\n",
              "<table border=\"1\" class=\"dataframe\">\n",
              "  <thead>\n",
              "    <tr style=\"text-align: right;\">\n",
              "      <th></th>\n",
              "      <th>0</th>\n",
              "    </tr>\n",
              "  </thead>\n",
              "  <tbody>\n",
              "    <tr>\n",
              "      <th>0</th>\n",
              "      <td>3.267143</td>\n",
              "    </tr>\n",
              "    <tr>\n",
              "      <th>1</th>\n",
              "      <td>4.431838</td>\n",
              "    </tr>\n",
              "    <tr>\n",
              "      <th>2</th>\n",
              "      <td>17.288264</td>\n",
              "    </tr>\n",
              "    <tr>\n",
              "      <th>3</th>\n",
              "      <td>17.288264</td>\n",
              "    </tr>\n",
              "    <tr>\n",
              "      <th>4</th>\n",
              "      <td>17.288264</td>\n",
              "    </tr>\n",
              "    <tr>\n",
              "      <th>...</th>\n",
              "      <td>...</td>\n",
              "    </tr>\n",
              "    <tr>\n",
              "      <th>1703</th>\n",
              "      <td>24.533562</td>\n",
              "    </tr>\n",
              "    <tr>\n",
              "      <th>1704</th>\n",
              "      <td>9.756454</td>\n",
              "    </tr>\n",
              "    <tr>\n",
              "      <th>1705</th>\n",
              "      <td>9.756454</td>\n",
              "    </tr>\n",
              "    <tr>\n",
              "      <th>1706</th>\n",
              "      <td>9.756454</td>\n",
              "    </tr>\n",
              "    <tr>\n",
              "      <th>1707</th>\n",
              "      <td>9.756454</td>\n",
              "    </tr>\n",
              "  </tbody>\n",
              "</table>\n",
              "<p>1708 rows × 1 columns</p>\n",
              "</div>\n",
              "      <button class=\"colab-df-convert\" onclick=\"convertToInteractive('df-bd523378-7dd3-4e67-b346-df1047e4f19c')\"\n",
              "              title=\"Convert this dataframe to an interactive table.\"\n",
              "              style=\"display:none;\">\n",
              "        \n",
              "  <svg xmlns=\"http://www.w3.org/2000/svg\" height=\"24px\"viewBox=\"0 0 24 24\"\n",
              "       width=\"24px\">\n",
              "    <path d=\"M0 0h24v24H0V0z\" fill=\"none\"/>\n",
              "    <path d=\"M18.56 5.44l.94 2.06.94-2.06 2.06-.94-2.06-.94-.94-2.06-.94 2.06-2.06.94zm-11 1L8.5 8.5l.94-2.06 2.06-.94-2.06-.94L8.5 2.5l-.94 2.06-2.06.94zm10 10l.94 2.06.94-2.06 2.06-.94-2.06-.94-.94-2.06-.94 2.06-2.06.94z\"/><path d=\"M17.41 7.96l-1.37-1.37c-.4-.4-.92-.59-1.43-.59-.52 0-1.04.2-1.43.59L10.3 9.45l-7.72 7.72c-.78.78-.78 2.05 0 2.83L4 21.41c.39.39.9.59 1.41.59.51 0 1.02-.2 1.41-.59l7.78-7.78 2.81-2.81c.8-.78.8-2.07 0-2.86zM5.41 20L4 18.59l7.72-7.72 1.47 1.35L5.41 20z\"/>\n",
              "  </svg>\n",
              "      </button>\n",
              "      \n",
              "  <style>\n",
              "    .colab-df-container {\n",
              "      display:flex;\n",
              "      flex-wrap:wrap;\n",
              "      gap: 12px;\n",
              "    }\n",
              "\n",
              "    .colab-df-convert {\n",
              "      background-color: #E8F0FE;\n",
              "      border: none;\n",
              "      border-radius: 50%;\n",
              "      cursor: pointer;\n",
              "      display: none;\n",
              "      fill: #1967D2;\n",
              "      height: 32px;\n",
              "      padding: 0 0 0 0;\n",
              "      width: 32px;\n",
              "    }\n",
              "\n",
              "    .colab-df-convert:hover {\n",
              "      background-color: #E2EBFA;\n",
              "      box-shadow: 0px 1px 2px rgba(60, 64, 67, 0.3), 0px 1px 3px 1px rgba(60, 64, 67, 0.15);\n",
              "      fill: #174EA6;\n",
              "    }\n",
              "\n",
              "    [theme=dark] .colab-df-convert {\n",
              "      background-color: #3B4455;\n",
              "      fill: #D2E3FC;\n",
              "    }\n",
              "\n",
              "    [theme=dark] .colab-df-convert:hover {\n",
              "      background-color: #434B5C;\n",
              "      box-shadow: 0px 1px 3px 1px rgba(0, 0, 0, 0.15);\n",
              "      filter: drop-shadow(0px 1px 2px rgba(0, 0, 0, 0.3));\n",
              "      fill: #FFFFFF;\n",
              "    }\n",
              "  </style>\n",
              "\n",
              "      <script>\n",
              "        const buttonEl =\n",
              "          document.querySelector('#df-bd523378-7dd3-4e67-b346-df1047e4f19c button.colab-df-convert');\n",
              "        buttonEl.style.display =\n",
              "          google.colab.kernel.accessAllowed ? 'block' : 'none';\n",
              "\n",
              "        async function convertToInteractive(key) {\n",
              "          const element = document.querySelector('#df-bd523378-7dd3-4e67-b346-df1047e4f19c');\n",
              "          const dataTable =\n",
              "            await google.colab.kernel.invokeFunction('convertToInteractive',\n",
              "                                                     [key], {});\n",
              "          if (!dataTable) return;\n",
              "\n",
              "          const docLinkHtml = 'Like what you see? Visit the ' +\n",
              "            '<a target=\"_blank\" href=https://colab.research.google.com/notebooks/data_table.ipynb>data table notebook</a>'\n",
              "            + ' to learn more about interactive tables.';\n",
              "          element.innerHTML = '';\n",
              "          dataTable['output_type'] = 'display_data';\n",
              "          await google.colab.output.renderOutput(dataTable, element);\n",
              "          const docLink = document.createElement('div');\n",
              "          docLink.innerHTML = docLinkHtml;\n",
              "          element.appendChild(docLink);\n",
              "        }\n",
              "      </script>\n",
              "    </div>\n",
              "  </div>\n",
              "  "
            ],
            "text/plain": [
              "              0\n",
              "0      3.267143\n",
              "1      4.431838\n",
              "2     17.288264\n",
              "3     17.288264\n",
              "4     17.288264\n",
              "...         ...\n",
              "1703  24.533562\n",
              "1704   9.756454\n",
              "1705   9.756454\n",
              "1706   9.756454\n",
              "1707   9.756454\n",
              "\n",
              "[1708 rows x 1 columns]"
            ]
          },
          "metadata": {},
          "execution_count": 383
        }
      ]
    },
    {
      "cell_type": "code",
      "source": [
        "y_test_df = pd.DataFrame(y_test)\n",
        "y_test_df"
      ],
      "metadata": {
        "colab": {
          "base_uri": "https://localhost:8080/",
          "height": 424
        },
        "id": "uD7N8bceiGnE",
        "outputId": "c9c5071c-d235-4ae5-c9d3-55b4e058504a"
      },
      "execution_count": 385,
      "outputs": [
        {
          "output_type": "execute_result",
          "data": {
            "text/html": [
              "\n",
              "  <div id=\"df-e288a322-6d1c-40e9-8bf1-bec35998596f\">\n",
              "    <div class=\"colab-df-container\">\n",
              "      <div>\n",
              "<style scoped>\n",
              "    .dataframe tbody tr th:only-of-type {\n",
              "        vertical-align: middle;\n",
              "    }\n",
              "\n",
              "    .dataframe tbody tr th {\n",
              "        vertical-align: top;\n",
              "    }\n",
              "\n",
              "    .dataframe thead th {\n",
              "        text-align: right;\n",
              "    }\n",
              "</style>\n",
              "<table border=\"1\" class=\"dataframe\">\n",
              "  <thead>\n",
              "    <tr style=\"text-align: right;\">\n",
              "      <th></th>\n",
              "      <th>Count</th>\n",
              "    </tr>\n",
              "  </thead>\n",
              "  <tbody>\n",
              "    <tr>\n",
              "      <th>6832</th>\n",
              "      <td>2</td>\n",
              "    </tr>\n",
              "    <tr>\n",
              "      <th>6833</th>\n",
              "      <td>3</td>\n",
              "    </tr>\n",
              "    <tr>\n",
              "      <th>6834</th>\n",
              "      <td>7</td>\n",
              "    </tr>\n",
              "    <tr>\n",
              "      <th>6835</th>\n",
              "      <td>3</td>\n",
              "    </tr>\n",
              "    <tr>\n",
              "      <th>6836</th>\n",
              "      <td>12</td>\n",
              "    </tr>\n",
              "    <tr>\n",
              "      <th>...</th>\n",
              "      <td>...</td>\n",
              "    </tr>\n",
              "    <tr>\n",
              "      <th>8535</th>\n",
              "      <td>13</td>\n",
              "    </tr>\n",
              "    <tr>\n",
              "      <th>8536</th>\n",
              "      <td>12</td>\n",
              "    </tr>\n",
              "    <tr>\n",
              "      <th>8537</th>\n",
              "      <td>5</td>\n",
              "    </tr>\n",
              "    <tr>\n",
              "      <th>8538</th>\n",
              "      <td>18</td>\n",
              "    </tr>\n",
              "    <tr>\n",
              "      <th>8539</th>\n",
              "      <td>9</td>\n",
              "    </tr>\n",
              "  </tbody>\n",
              "</table>\n",
              "<p>1708 rows × 1 columns</p>\n",
              "</div>\n",
              "      <button class=\"colab-df-convert\" onclick=\"convertToInteractive('df-e288a322-6d1c-40e9-8bf1-bec35998596f')\"\n",
              "              title=\"Convert this dataframe to an interactive table.\"\n",
              "              style=\"display:none;\">\n",
              "        \n",
              "  <svg xmlns=\"http://www.w3.org/2000/svg\" height=\"24px\"viewBox=\"0 0 24 24\"\n",
              "       width=\"24px\">\n",
              "    <path d=\"M0 0h24v24H0V0z\" fill=\"none\"/>\n",
              "    <path d=\"M18.56 5.44l.94 2.06.94-2.06 2.06-.94-2.06-.94-.94-2.06-.94 2.06-2.06.94zm-11 1L8.5 8.5l.94-2.06 2.06-.94-2.06-.94L8.5 2.5l-.94 2.06-2.06.94zm10 10l.94 2.06.94-2.06 2.06-.94-2.06-.94-.94-2.06-.94 2.06-2.06.94z\"/><path d=\"M17.41 7.96l-1.37-1.37c-.4-.4-.92-.59-1.43-.59-.52 0-1.04.2-1.43.59L10.3 9.45l-7.72 7.72c-.78.78-.78 2.05 0 2.83L4 21.41c.39.39.9.59 1.41.59.51 0 1.02-.2 1.41-.59l7.78-7.78 2.81-2.81c.8-.78.8-2.07 0-2.86zM5.41 20L4 18.59l7.72-7.72 1.47 1.35L5.41 20z\"/>\n",
              "  </svg>\n",
              "      </button>\n",
              "      \n",
              "  <style>\n",
              "    .colab-df-container {\n",
              "      display:flex;\n",
              "      flex-wrap:wrap;\n",
              "      gap: 12px;\n",
              "    }\n",
              "\n",
              "    .colab-df-convert {\n",
              "      background-color: #E8F0FE;\n",
              "      border: none;\n",
              "      border-radius: 50%;\n",
              "      cursor: pointer;\n",
              "      display: none;\n",
              "      fill: #1967D2;\n",
              "      height: 32px;\n",
              "      padding: 0 0 0 0;\n",
              "      width: 32px;\n",
              "    }\n",
              "\n",
              "    .colab-df-convert:hover {\n",
              "      background-color: #E2EBFA;\n",
              "      box-shadow: 0px 1px 2px rgba(60, 64, 67, 0.3), 0px 1px 3px 1px rgba(60, 64, 67, 0.15);\n",
              "      fill: #174EA6;\n",
              "    }\n",
              "\n",
              "    [theme=dark] .colab-df-convert {\n",
              "      background-color: #3B4455;\n",
              "      fill: #D2E3FC;\n",
              "    }\n",
              "\n",
              "    [theme=dark] .colab-df-convert:hover {\n",
              "      background-color: #434B5C;\n",
              "      box-shadow: 0px 1px 3px 1px rgba(0, 0, 0, 0.15);\n",
              "      filter: drop-shadow(0px 1px 2px rgba(0, 0, 0, 0.3));\n",
              "      fill: #FFFFFF;\n",
              "    }\n",
              "  </style>\n",
              "\n",
              "      <script>\n",
              "        const buttonEl =\n",
              "          document.querySelector('#df-e288a322-6d1c-40e9-8bf1-bec35998596f button.colab-df-convert');\n",
              "        buttonEl.style.display =\n",
              "          google.colab.kernel.accessAllowed ? 'block' : 'none';\n",
              "\n",
              "        async function convertToInteractive(key) {\n",
              "          const element = document.querySelector('#df-e288a322-6d1c-40e9-8bf1-bec35998596f');\n",
              "          const dataTable =\n",
              "            await google.colab.kernel.invokeFunction('convertToInteractive',\n",
              "                                                     [key], {});\n",
              "          if (!dataTable) return;\n",
              "\n",
              "          const docLinkHtml = 'Like what you see? Visit the ' +\n",
              "            '<a target=\"_blank\" href=https://colab.research.google.com/notebooks/data_table.ipynb>data table notebook</a>'\n",
              "            + ' to learn more about interactive tables.';\n",
              "          element.innerHTML = '';\n",
              "          dataTable['output_type'] = 'display_data';\n",
              "          await google.colab.output.renderOutput(dataTable, element);\n",
              "          const docLink = document.createElement('div');\n",
              "          docLink.innerHTML = docLinkHtml;\n",
              "          element.appendChild(docLink);\n",
              "        }\n",
              "      </script>\n",
              "    </div>\n",
              "  </div>\n",
              "  "
            ],
            "text/plain": [
              "      Count\n",
              "6832      2\n",
              "6833      3\n",
              "6834      7\n",
              "6835      3\n",
              "6836     12\n",
              "...     ...\n",
              "8535     13\n",
              "8536     12\n",
              "8537      5\n",
              "8538     18\n",
              "8539      9\n",
              "\n",
              "[1708 rows x 1 columns]"
            ]
          },
          "metadata": {},
          "execution_count": 385
        }
      ]
    },
    {
      "cell_type": "code",
      "source": [
        ""
      ],
      "metadata": {
        "id": "BFs9PMeriQfd"
      },
      "execution_count": null,
      "outputs": []
    },
    {
      "cell_type": "code",
      "source": [
        ""
      ],
      "metadata": {
        "id": "dFDYLhuuiZ5W"
      },
      "execution_count": null,
      "outputs": []
    },
    {
      "cell_type": "markdown",
      "source": [
        "### **9) Discussion**"
      ],
      "metadata": {
        "id": "yWWQFZV_peBR"
      }
    },
    {
      "cell_type": "markdown",
      "source": [
        "### **10) Future outlook**"
      ],
      "metadata": {
        "id": "158ZvOVDpkuO"
      }
    },
    {
      "cell_type": "code",
      "source": [
        "word_count = 0\n",
        "for cell in nb.worksheets[0].cells:\n",
        "    if cell.cell_type == \"markdown\":\n",
        "        word_count += len(cell['source'].replace('#', '').lstrip().split(' '))\n",
        "print(f\"Word count: {word_count}\")"
      ],
      "metadata": {
        "id": "KLyAitPa9c5H",
        "colab": {
          "base_uri": "https://localhost:8080/",
          "height": 235
        },
        "outputId": "3baf595d-1200-4870-9a06-470b0becb612"
      },
      "execution_count": 363,
      "outputs": [
        {
          "output_type": "error",
          "ename": "NameError",
          "evalue": "ignored",
          "traceback": [
            "\u001b[0;31m---------------------------------------------------------------------------\u001b[0m",
            "\u001b[0;31mNameError\u001b[0m                                 Traceback (most recent call last)",
            "\u001b[0;32m<ipython-input-363-8deb0d9e5816>\u001b[0m in \u001b[0;36m<module>\u001b[0;34m()\u001b[0m\n\u001b[1;32m      1\u001b[0m \u001b[0mword_count\u001b[0m \u001b[0;34m=\u001b[0m \u001b[0;36m0\u001b[0m\u001b[0;34m\u001b[0m\u001b[0;34m\u001b[0m\u001b[0m\n\u001b[0;32m----> 2\u001b[0;31m \u001b[0;32mfor\u001b[0m \u001b[0mcell\u001b[0m \u001b[0;32min\u001b[0m \u001b[0mnb\u001b[0m\u001b[0;34m.\u001b[0m\u001b[0mworksheets\u001b[0m\u001b[0;34m[\u001b[0m\u001b[0;36m0\u001b[0m\u001b[0;34m]\u001b[0m\u001b[0;34m.\u001b[0m\u001b[0mcells\u001b[0m\u001b[0;34m:\u001b[0m\u001b[0;34m\u001b[0m\u001b[0;34m\u001b[0m\u001b[0m\n\u001b[0m\u001b[1;32m      3\u001b[0m     \u001b[0;32mif\u001b[0m \u001b[0mcell\u001b[0m\u001b[0;34m.\u001b[0m\u001b[0mcell_type\u001b[0m \u001b[0;34m==\u001b[0m \u001b[0;34m\"markdown\"\u001b[0m\u001b[0;34m:\u001b[0m\u001b[0;34m\u001b[0m\u001b[0;34m\u001b[0m\u001b[0m\n\u001b[1;32m      4\u001b[0m         \u001b[0mword_count\u001b[0m \u001b[0;34m+=\u001b[0m \u001b[0mlen\u001b[0m\u001b[0;34m(\u001b[0m\u001b[0mcell\u001b[0m\u001b[0;34m[\u001b[0m\u001b[0;34m'source'\u001b[0m\u001b[0;34m]\u001b[0m\u001b[0;34m.\u001b[0m\u001b[0mreplace\u001b[0m\u001b[0;34m(\u001b[0m\u001b[0;34m'#'\u001b[0m\u001b[0;34m,\u001b[0m \u001b[0;34m''\u001b[0m\u001b[0;34m)\u001b[0m\u001b[0;34m.\u001b[0m\u001b[0mlstrip\u001b[0m\u001b[0;34m(\u001b[0m\u001b[0;34m)\u001b[0m\u001b[0;34m.\u001b[0m\u001b[0msplit\u001b[0m\u001b[0;34m(\u001b[0m\u001b[0;34m' '\u001b[0m\u001b[0;34m)\u001b[0m\u001b[0;34m)\u001b[0m\u001b[0;34m\u001b[0m\u001b[0;34m\u001b[0m\u001b[0m\n\u001b[1;32m      5\u001b[0m \u001b[0mprint\u001b[0m\u001b[0;34m(\u001b[0m\u001b[0;34mf\"Word count: {word_count}\"\u001b[0m\u001b[0;34m)\u001b[0m\u001b[0;34m\u001b[0m\u001b[0;34m\u001b[0m\u001b[0m\n",
            "\u001b[0;31mNameError\u001b[0m: name 'nb' is not defined"
          ]
        }
      ]
    }
  ]
}